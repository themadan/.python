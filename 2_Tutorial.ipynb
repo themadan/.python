{
  "nbformat": 4,
  "nbformat_minor": 0,
  "metadata": {
    "colab": {
      "name": "2. Tutorial.ipynb",
      "provenance": [],
      "collapsed_sections": [],
      "authorship_tag": "ABX9TyPBDv04Pf82nKIrkVTHPmv1",
      "include_colab_link": true
    },
    "kernelspec": {
      "name": "python3",
      "display_name": "Python 3"
    }
  },
  "cells": [
    {
      "cell_type": "markdown",
      "metadata": {
        "id": "view-in-github",
        "colab_type": "text"
      },
      "source": [
        "<a href=\"https://colab.research.google.com/github/themadan/.python/blob/master/2_Tutorial.ipynb\" target=\"_parent\"><img src=\"https://colab.research.google.com/assets/colab-badge.svg\" alt=\"Open In Colab\"/></a>"
      ]
    },
    {
      "cell_type": "markdown",
      "metadata": {
        "id": "lmzEUxq-iodP",
        "colab_type": "text"
      },
      "source": [
        "## [**5. Data Structures**](https://docs.python.org/3/tutorial/datastructures.html)"
      ]
    },
    {
      "cell_type": "markdown",
      "metadata": {
        "id": "FFNzJAiLi5YD",
        "colab_type": "text"
      },
      "source": [
        "### **5.1 modules on Lists**"
      ]
    },
    {
      "cell_type": "code",
      "metadata": {
        "id": "5a0Db_6xjVno",
        "colab_type": "code",
        "colab": {
          "base_uri": "https://localhost:8080/",
          "height": 204
        },
        "outputId": "fef0f7f8-f311-4199-ebb7-a38d51d518e3"
      },
      "source": [
        "l=['a','b','c','d','e']\n",
        "l1=['extend list','extensed list1','a']\n",
        "\n",
        "\n",
        "l.append('append at last') # Add an item to the end of the list. Equivalent to a[len(a):] = [x].\n",
        "print(l)\n",
        "\n",
        "l.extend(l1) #Extend the list by appending all the items from the iterable. Equivalent to a[len(a):] = iterable.\n",
        "print(l)\n",
        "\n",
        "l.insert(1,\"insert at 1 position\")# Insert an item at a given position. The first argument is the index of the element before which to insert, so a.insert(0, x) inserts at the front of the list, and a.insert(len(a), x) is equivalent to a.append(x).\n",
        "print(l)\n",
        "\n",
        "l.remove('a') #Remove the first item from the list whose value is equal to x. It raises a ValueError if there is no such item.\n",
        "print(l)\n",
        "\n",
        "popelement=l.pop(1) # Remove the item at the given position in the list, and return it. If no index is specified, a.pop() removes and returns the last item in the list.\n",
        "print(popelement)\n",
        "\n",
        "index=l.index('c',0,len(l)) # element - the element to be searched\n",
        "print(index)               # start (optional) - start searching from this index\n",
        "                            # end (optional) - search the element up to this index\n",
        "\n",
        "count=l.count('e') #Return the number of times x appears in the list.\n",
        "print(count)\n",
        "\n",
        "l.sort() #Sort the items of the list in place (the arguments can be used for sort customization, see sorted() for their explanation).\n",
        "print(l)\n",
        "\n",
        "l.reverse()#Reverse the elements of the list in place.\n",
        "print(l)\n",
        "\n",
        "copy=l.copy() #Return a shallow copy of the list. Equivalent to a[:].\n",
        "print(copy)\n",
        "\n",
        "l.clear() #Remove all items from the list. Equivalent to del a[:].\n",
        "print(l)\n"
      ],
      "execution_count": null,
      "outputs": [
        {
          "output_type": "stream",
          "text": [
            "['a', 'b', 'c', 'd', 'e', 'append at last']\n",
            "['a', 'b', 'c', 'd', 'e', 'append at last', 'extend list', 'extensed list1', 'a']\n",
            "['a', 'insert at 1 position', 'b', 'c', 'd', 'e', 'append at last', 'extend list', 'extensed list1', 'a']\n",
            "['insert at 1 position', 'b', 'c', 'd', 'e', 'append at last', 'extend list', 'extensed list1', 'a']\n",
            "b\n",
            "1\n",
            "1\n",
            "['a', 'append at last', 'c', 'd', 'e', 'extend list', 'extensed list1', 'insert at 1 position']\n",
            "['insert at 1 position', 'extensed list1', 'extend list', 'e', 'd', 'c', 'append at last', 'a']\n",
            "['insert at 1 position', 'extensed list1', 'extend list', 'e', 'd', 'c', 'append at last', 'a']\n",
            "[]\n"
          ],
          "name": "stdout"
        }
      ]
    },
    {
      "cell_type": "markdown",
      "metadata": {
        "id": "ePpd7ABbjH-B",
        "colab_type": "text"
      },
      "source": [
        "#### **5.1.1 Using Lists as Stacks**"
      ]
    },
    {
      "cell_type": "markdown",
      "metadata": {
        "id": "j8wuNgnpo_if",
        "colab_type": "text"
      },
      "source": [
        "![alt text](https://cdn.programiz.com/sites/tutorial2program/files/stack.png)"
      ]
    },
    {
      "cell_type": "code",
      "metadata": {
        "id": "Uz9Icb4siUQN",
        "colab_type": "code",
        "colab": {}
      },
      "source": [
        "stack=[1,2,3,4,5] #stack\n",
        "\n"
      ],
      "execution_count": null,
      "outputs": []
    },
    {
      "cell_type": "code",
      "metadata": {
        "id": "jX6HCIkFpd1C",
        "colab_type": "code",
        "colab": {
          "base_uri": "https://localhost:8080/",
          "height": 34
        },
        "outputId": "475bdf1f-ca96-48f7-92ac-201d07154887"
      },
      "source": [
        "stack.append(6) # push\n",
        "stack.append(7)\n",
        "print(stack)"
      ],
      "execution_count": null,
      "outputs": [
        {
          "output_type": "stream",
          "text": [
            "[1, 2, 3, 4, 5, 6, 6, 7]\n"
          ],
          "name": "stdout"
        }
      ]
    },
    {
      "cell_type": "code",
      "metadata": {
        "id": "3OCFhPGopqh4",
        "colab_type": "code",
        "colab": {
          "base_uri": "https://localhost:8080/",
          "height": 34
        },
        "outputId": "5063db2b-1e1d-4a32-bbcc-46bb47997b8d"
      },
      "source": [
        "item=stack.pop()# pop\n",
        "print(item)"
      ],
      "execution_count": null,
      "outputs": [
        {
          "output_type": "stream",
          "text": [
            "7\n"
          ],
          "name": "stdout"
        }
      ]
    },
    {
      "cell_type": "code",
      "metadata": {
        "id": "MdGU0TN1pwkR",
        "colab_type": "code",
        "colab": {}
      },
      "source": [
        ""
      ],
      "execution_count": null,
      "outputs": []
    },
    {
      "cell_type": "markdown",
      "metadata": {
        "id": "sE0VXio_p3qv",
        "colab_type": "text"
      },
      "source": [
        "#### **5.1.2 Using lists as Queues**"
      ]
    },
    {
      "cell_type": "markdown",
      "metadata": {
        "id": "OXDx9CpSqHYW",
        "colab_type": "text"
      },
      "source": [
        "![alt text](https://upload.wikimedia.org/wikipedia/commons/5/52/Data_Queue.svg)"
      ]
    },
    {
      "cell_type": "code",
      "metadata": {
        "id": "50zY3Ge3p_E0",
        "colab_type": "code",
        "colab": {}
      },
      "source": [
        "from collections import deque\n",
        "\n",
        "queue=deque(['first','second','third','fourth','fifth'])"
      ],
      "execution_count": null,
      "outputs": []
    },
    {
      "cell_type": "code",
      "metadata": {
        "id": "2_OlfKc6qxwX",
        "colab_type": "code",
        "colab": {
          "base_uri": "https://localhost:8080/",
          "height": 34
        },
        "outputId": "59b498df-3a62-42d7-fc38-0e74066db7ab"
      },
      "source": [
        "queue.append('sixth') # Enqueue\n",
        "\n",
        "print(queue)"
      ],
      "execution_count": null,
      "outputs": [
        {
          "output_type": "stream",
          "text": [
            "deque(['first', 'second', 'third', 'fourth', 'fifth', 'sixth', 'sixth'])\n"
          ],
          "name": "stdout"
        }
      ]
    },
    {
      "cell_type": "code",
      "metadata": {
        "id": "Z3wHoeVNrGFX",
        "colab_type": "code",
        "colab": {
          "base_uri": "https://localhost:8080/",
          "height": 34
        },
        "outputId": "6fcc54a2-e806-4664-9999-3010610a2a1b"
      },
      "source": [
        "item=queue.popleft() # Dequeue\n",
        "print(item)\n"
      ],
      "execution_count": null,
      "outputs": [
        {
          "output_type": "stream",
          "text": [
            "first\n"
          ],
          "name": "stdout"
        }
      ]
    },
    {
      "cell_type": "markdown",
      "metadata": {
        "id": "uIbBuM3urgq4",
        "colab_type": "text"
      },
      "source": [
        "#### **5.1.3 list comprehensions**"
      ]
    },
    {
      "cell_type": "markdown",
      "metadata": {
        "id": "SbMxvtKg4nld",
        "colab_type": "text"
      },
      "source": [
        "\n",
        "\n",
        "```\n",
        "[expresion for variable in iterator condition]\n",
        "```\n",
        "\n"
      ]
    },
    {
      "cell_type": "markdown",
      "metadata": {
        "id": "SMvc09ltrrAd",
        "colab_type": "text"
      },
      "source": [
        "List comprehensions provide a concise way to create lists.\n",
        "\n",
        "Common applications are to make new lists where each element is the result of some operations applied to each member of another sequence or iterable, or to create a subsequence of those elements that satisfy a certain condition."
      ]
    },
    {
      "cell_type": "code",
      "metadata": {
        "id": "C6ZoYMjdrnRi",
        "colab_type": "code",
        "colab": {
          "base_uri": "https://localhost:8080/",
          "height": 34
        },
        "outputId": "ad0cf83b-5026-489a-b67c-0b95e1360af3"
      },
      "source": [
        "squares=[]            # general way to create list\n",
        "for x in range(10):\n",
        "  squares.append(x**2)\n",
        "\n",
        "squares\n"
      ],
      "execution_count": null,
      "outputs": [
        {
          "output_type": "execute_result",
          "data": {
            "text/plain": [
              "[0, 1, 4, 9, 16, 25, 36, 49, 64, 81]"
            ]
          },
          "metadata": {
            "tags": []
          },
          "execution_count": 30
        }
      ]
    },
    {
      "cell_type": "code",
      "metadata": {
        "id": "xNgebxXKsKPa",
        "colab_type": "code",
        "colab": {
          "base_uri": "https://localhost:8080/",
          "height": 34
        },
        "outputId": "8fd5c16c-1b66-4c05-f8b4-0d7fc0ce729b"
      },
      "source": [
        "squares1 = list(map(lambda x: x**2, range(10))) # list function to create list\n",
        "\n",
        "squares1"
      ],
      "execution_count": null,
      "outputs": [
        {
          "output_type": "execute_result",
          "data": {
            "text/plain": [
              "[0, 1, 4, 9, 16, 25, 36, 49, 64, 81]"
            ]
          },
          "metadata": {
            "tags": []
          },
          "execution_count": 32
        }
      ]
    },
    {
      "cell_type": "code",
      "metadata": {
        "id": "MUY7a1ORtU6I",
        "colab_type": "code",
        "colab": {
          "base_uri": "https://localhost:8080/",
          "height": 34
        },
        "outputId": "92d780aa-dc2e-4699-9b2c-15f46ce0c644"
      },
      "source": [
        "squares2=[x**2 for x in range(10)] # [expresion for x in iterator condition] , \n",
        "squares2"
      ],
      "execution_count": null,
      "outputs": [
        {
          "output_type": "execute_result",
          "data": {
            "text/plain": [
              "[0, 1, 4, 9, 16, 25, 36, 49, 64, 81]"
            ]
          },
          "metadata": {
            "tags": []
          },
          "execution_count": 33
        }
      ]
    },
    {
      "cell_type": "markdown",
      "metadata": {
        "id": "bP9nMY7fv6s5",
        "colab_type": "text"
      },
      "source": [
        "Note: Nested loop in comprehensions list"
      ]
    },
    {
      "cell_type": "code",
      "metadata": {
        "id": "WG67_jCKweRp",
        "colab_type": "code",
        "colab": {
          "base_uri": "https://localhost:8080/",
          "height": 34
        },
        "outputId": "5e3abafa-2eac-4f09-becb-3b90e421deae"
      },
      "source": [
        "combs = []\n",
        "for x in [1,2,3]:\n",
        "    for y in [3,1,4]:\n",
        "        if x != y:\n",
        "            combs.append((x, y))\n",
        "combs"
      ],
      "execution_count": null,
      "outputs": [
        {
          "output_type": "execute_result",
          "data": {
            "text/plain": [
              "[(1, 3), (1, 4), (2, 3), (2, 1), (2, 4), (3, 1), (3, 4)]"
            ]
          },
          "metadata": {
            "tags": []
          },
          "execution_count": 38
        }
      ]
    },
    {
      "cell_type": "code",
      "metadata": {
        "id": "-BKN0JS8vVg-",
        "colab_type": "code",
        "colab": {
          "base_uri": "https://localhost:8080/",
          "height": 34
        },
        "outputId": "0f8eab95-5a01-4a45-bdbe-4036e2666409"
      },
      "source": [
        "r=[(x, y) for x in [1,2,3] for y in [3,1,4] if x != y]  # execute from left to right\n",
        "r"
      ],
      "execution_count": null,
      "outputs": [
        {
          "output_type": "execute_result",
          "data": {
            "text/plain": [
              "[(1, 3), (1, 4), (2, 3), (2, 1), (2, 4), (3, 1), (3, 4)]"
            ]
          },
          "metadata": {
            "tags": []
          },
          "execution_count": 34
        }
      ]
    },
    {
      "cell_type": "markdown",
      "metadata": {
        "id": "_P0RM1YlzpeJ",
        "colab_type": "text"
      },
      "source": [
        "Explination: \n",
        "\n",
        "move from left to right\n",
        "\n",
        "1. First loop bata x=1 set hunxa\n",
        "2. Second loop bata y=3 hunxa \n",
        "3. Condition check if 1!=3 jo true hunxa then body execute hunxa\n",
        "4. Body execute hunxa (1,3) hunxa \n",
        "\n",
        "5. Second loop bhanda agadi ko aba jammai body hunxa ra second loop continue hunxa."
      ]
    },
    {
      "cell_type": "markdown",
      "metadata": {
        "id": "WdPmG02gy6Nb",
        "colab_type": "text"
      },
      "source": [
        "#### **5.1.4 Nested List Comprehensions**"
      ]
    },
    {
      "cell_type": "markdown",
      "metadata": {
        "id": "VBHL-9Us4huP",
        "colab_type": "text"
      },
      "source": [
        "The initial expression in a list comprehension can be any arbitrary expression, including another list comprehension."
      ]
    },
    {
      "cell_type": "markdown",
      "metadata": {
        "id": "aLL_rwbb4x8h",
        "colab_type": "text"
      },
      "source": [
        "\n",
        "\n",
        "```\n",
        "[[expresion for variable in iterator condition] for variable in iterator condition]\n",
        "```\n",
        "\n"
      ]
    },
    {
      "cell_type": "code",
      "metadata": {
        "id": "8RnNBkDF27_a",
        "colab_type": "code",
        "colab": {}
      },
      "source": [
        "matrix = [\n",
        "     [1, 2, 3, 4],\n",
        "     [5, 6, 7, 8],\n",
        "    [9, 10, 11, 12],\n",
        " ]"
      ],
      "execution_count": null,
      "outputs": []
    },
    {
      "cell_type": "code",
      "metadata": {
        "id": "63Oy5Ymi6USj",
        "colab_type": "code",
        "colab": {
          "base_uri": "https://localhost:8080/",
          "height": 34
        },
        "outputId": "172a84de-f871-4d42-96b7-8337a3d5ffdb"
      },
      "source": [
        "[[row[i] for row in matrix] for i in range(4)]"
      ],
      "execution_count": null,
      "outputs": [
        {
          "output_type": "execute_result",
          "data": {
            "text/plain": [
              "[[1, 5, 9], [2, 6, 10], [3, 7, 11], [4, 8, 12]]"
            ]
          },
          "metadata": {
            "tags": []
          },
          "execution_count": 40
        }
      ]
    },
    {
      "cell_type": "code",
      "metadata": {
        "id": "3CoPZMoo6Wwk",
        "colab_type": "code",
        "colab": {}
      },
      "source": [
        ""
      ],
      "execution_count": null,
      "outputs": []
    },
    {
      "cell_type": "markdown",
      "metadata": {
        "id": "BecEnJ_W6ZdO",
        "colab_type": "text"
      },
      "source": [
        "### **5.2 The del statement**"
      ]
    },
    {
      "cell_type": "code",
      "metadata": {
        "id": "GN6BXrr76lfy",
        "colab_type": "code",
        "colab": {}
      },
      "source": [
        ""
      ],
      "execution_count": null,
      "outputs": []
    }
  ]
}