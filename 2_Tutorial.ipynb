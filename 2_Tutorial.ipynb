{
  "nbformat": 4,
  "nbformat_minor": 0,
  "metadata": {
    "colab": {
      "name": "2. Tutorial.ipynb",
      "provenance": [],
      "collapsed_sections": [],
      "authorship_tag": "ABX9TyNdDu57Qp7otALNXK5j4zKw",
      "include_colab_link": true
    },
    "kernelspec": {
      "name": "python3",
      "display_name": "Python 3"
    }
  },
  "cells": [
    {
      "cell_type": "markdown",
      "metadata": {
        "id": "view-in-github",
        "colab_type": "text"
      },
      "source": [
        "<a href=\"https://colab.research.google.com/github/themadan/.python/blob/master/2_Tutorial.ipynb\" target=\"_parent\"><img src=\"https://colab.research.google.com/assets/colab-badge.svg\" alt=\"Open In Colab\"/></a>"
      ]
    },
    {
      "cell_type": "markdown",
      "metadata": {
        "id": "lmzEUxq-iodP",
        "colab_type": "text"
      },
      "source": [
        "## [**5. Data Structures**](https://docs.python.org/3/tutorial/datastructures.html)"
      ]
    },
    {
      "cell_type": "markdown",
      "metadata": {
        "id": "j94vYQ3cQEFv",
        "colab_type": "text"
      },
      "source": [
        "CRUD rule\n",
        "\n",
        "C=create\n",
        "\n",
        "R= read\n",
        "\n",
        "U=update\n",
        "\n",
        "D=delete"
      ]
    },
    {
      "cell_type": "markdown",
      "metadata": {
        "id": "FFNzJAiLi5YD",
        "colab_type": "text"
      },
      "source": [
        "### **5.1 modules on Lists(list is sequence)**"
      ]
    },
    {
      "cell_type": "code",
      "metadata": {
        "id": "5a0Db_6xjVno",
        "colab_type": "code",
        "colab": {
          "base_uri": "https://localhost:8080/",
          "height": 204
        },
        "outputId": "fef0f7f8-f311-4199-ebb7-a38d51d518e3"
      },
      "source": [
        "l=['a','b','c','d','e']\n",
        "l1=['extend list','extensed list1','a']\n",
        "\n",
        "\n",
        "l.append('append at last') # Add an item to the end of the list. Equivalent to a[len(a):] = [x].\n",
        "print(l)\n",
        "\n",
        "l.extend(l1) #Extend the list by appending all the items from the iterable. Equivalent to a[len(a):] = iterable.\n",
        "print(l)\n",
        "\n",
        "l.insert(1,\"insert at 1 position\")# Insert an item at a given position. The first argument is the index of the element before which to insert, so a.insert(0, x) inserts at the front of the list, and a.insert(len(a), x) is equivalent to a.append(x).\n",
        "print(l)\n",
        "\n",
        "l.remove('a') #Remove the first item from the list whose value is equal to x. It raises a ValueError if there is no such item.\n",
        "print(l)\n",
        "\n",
        "popelement=l.pop(1) # Remove the item at the given position in the list, and return it. If no index is specified, a.pop() removes and returns the last item in the list.\n",
        "print(popelement)\n",
        "\n",
        "index=l.index('c',0,len(l)) # element - the element to be searched\n",
        "print(index)               # start (optional) - start searching from this index\n",
        "                            # end (optional) - search the element up to this index\n",
        "\n",
        "count=l.count('e') #Return the number of times x appears in the list.\n",
        "print(count)\n",
        "\n",
        "l.sort() #Sort the items of the list in place (the arguments can be used for sort customization, see sorted() for their explanation).\n",
        "print(l)\n",
        "\n",
        "l.reverse()#Reverse the elements of the list in place.\n",
        "print(l)\n",
        "\n",
        "copy=l.copy() #Return a shallow copy of the list. Equivalent to a[:].\n",
        "print(copy)\n",
        "\n",
        "l.clear() #Remove all items from the list. Equivalent to del a[:].\n",
        "print(l)\n"
      ],
      "execution_count": null,
      "outputs": [
        {
          "output_type": "stream",
          "text": [
            "['a', 'b', 'c', 'd', 'e', 'append at last']\n",
            "['a', 'b', 'c', 'd', 'e', 'append at last', 'extend list', 'extensed list1', 'a']\n",
            "['a', 'insert at 1 position', 'b', 'c', 'd', 'e', 'append at last', 'extend list', 'extensed list1', 'a']\n",
            "['insert at 1 position', 'b', 'c', 'd', 'e', 'append at last', 'extend list', 'extensed list1', 'a']\n",
            "b\n",
            "1\n",
            "1\n",
            "['a', 'append at last', 'c', 'd', 'e', 'extend list', 'extensed list1', 'insert at 1 position']\n",
            "['insert at 1 position', 'extensed list1', 'extend list', 'e', 'd', 'c', 'append at last', 'a']\n",
            "['insert at 1 position', 'extensed list1', 'extend list', 'e', 'd', 'c', 'append at last', 'a']\n",
            "[]\n"
          ],
          "name": "stdout"
        }
      ]
    },
    {
      "cell_type": "markdown",
      "metadata": {
        "id": "ePpd7ABbjH-B",
        "colab_type": "text"
      },
      "source": [
        "#### **5.1.1 Using Lists as Stacks**"
      ]
    },
    {
      "cell_type": "markdown",
      "metadata": {
        "id": "j8wuNgnpo_if",
        "colab_type": "text"
      },
      "source": [
        "![alt text](https://cdn.programiz.com/sites/tutorial2program/files/stack.png)"
      ]
    },
    {
      "cell_type": "code",
      "metadata": {
        "id": "Uz9Icb4siUQN",
        "colab_type": "code",
        "colab": {}
      },
      "source": [
        "stack=[1,2,3,4,5] #stack\n",
        "\n"
      ],
      "execution_count": null,
      "outputs": []
    },
    {
      "cell_type": "code",
      "metadata": {
        "id": "jX6HCIkFpd1C",
        "colab_type": "code",
        "colab": {
          "base_uri": "https://localhost:8080/",
          "height": 34
        },
        "outputId": "475bdf1f-ca96-48f7-92ac-201d07154887"
      },
      "source": [
        "stack.append(6) # push\n",
        "stack.append(7)\n",
        "print(stack)"
      ],
      "execution_count": null,
      "outputs": [
        {
          "output_type": "stream",
          "text": [
            "[1, 2, 3, 4, 5, 6, 6, 7]\n"
          ],
          "name": "stdout"
        }
      ]
    },
    {
      "cell_type": "code",
      "metadata": {
        "id": "3OCFhPGopqh4",
        "colab_type": "code",
        "colab": {
          "base_uri": "https://localhost:8080/",
          "height": 34
        },
        "outputId": "5063db2b-1e1d-4a32-bbcc-46bb47997b8d"
      },
      "source": [
        "item=stack.pop()# pop\n",
        "print(item)"
      ],
      "execution_count": null,
      "outputs": [
        {
          "output_type": "stream",
          "text": [
            "7\n"
          ],
          "name": "stdout"
        }
      ]
    },
    {
      "cell_type": "code",
      "metadata": {
        "id": "MdGU0TN1pwkR",
        "colab_type": "code",
        "colab": {}
      },
      "source": [
        ""
      ],
      "execution_count": null,
      "outputs": []
    },
    {
      "cell_type": "markdown",
      "metadata": {
        "id": "sE0VXio_p3qv",
        "colab_type": "text"
      },
      "source": [
        "#### **5.1.2 Using lists as Queues**"
      ]
    },
    {
      "cell_type": "markdown",
      "metadata": {
        "id": "OXDx9CpSqHYW",
        "colab_type": "text"
      },
      "source": [
        "![alt text](https://upload.wikimedia.org/wikipedia/commons/5/52/Data_Queue.svg)"
      ]
    },
    {
      "cell_type": "code",
      "metadata": {
        "id": "50zY3Ge3p_E0",
        "colab_type": "code",
        "colab": {}
      },
      "source": [
        "from collections import deque\n",
        "\n",
        "queue=deque(['first','second','third','fourth','fifth'])"
      ],
      "execution_count": null,
      "outputs": []
    },
    {
      "cell_type": "code",
      "metadata": {
        "id": "2_OlfKc6qxwX",
        "colab_type": "code",
        "colab": {
          "base_uri": "https://localhost:8080/",
          "height": 34
        },
        "outputId": "59b498df-3a62-42d7-fc38-0e74066db7ab"
      },
      "source": [
        "queue.append('sixth') # Enqueue\n",
        "\n",
        "print(queue)"
      ],
      "execution_count": null,
      "outputs": [
        {
          "output_type": "stream",
          "text": [
            "deque(['first', 'second', 'third', 'fourth', 'fifth', 'sixth', 'sixth'])\n"
          ],
          "name": "stdout"
        }
      ]
    },
    {
      "cell_type": "code",
      "metadata": {
        "id": "Z3wHoeVNrGFX",
        "colab_type": "code",
        "colab": {
          "base_uri": "https://localhost:8080/",
          "height": 34
        },
        "outputId": "6fcc54a2-e806-4664-9999-3010610a2a1b"
      },
      "source": [
        "item=queue.popleft() # Dequeue\n",
        "print(item)\n"
      ],
      "execution_count": null,
      "outputs": [
        {
          "output_type": "stream",
          "text": [
            "first\n"
          ],
          "name": "stdout"
        }
      ]
    },
    {
      "cell_type": "markdown",
      "metadata": {
        "id": "uIbBuM3urgq4",
        "colab_type": "text"
      },
      "source": [
        "#### **5.1.3 list comprehensions**"
      ]
    },
    {
      "cell_type": "markdown",
      "metadata": {
        "id": "SbMxvtKg4nld",
        "colab_type": "text"
      },
      "source": [
        "\n",
        "\n",
        "```\n",
        "[expresion for variable in iterator condition]\n",
        "```\n",
        "\n"
      ]
    },
    {
      "cell_type": "markdown",
      "metadata": {
        "id": "SMvc09ltrrAd",
        "colab_type": "text"
      },
      "source": [
        "List comprehensions provide a concise way to create lists.\n",
        "\n",
        "Common applications are to make new lists where each element is the result of some operations applied to each member of another sequence or iterable, or to create a subsequence of those elements that satisfy a certain condition."
      ]
    },
    {
      "cell_type": "code",
      "metadata": {
        "id": "C6ZoYMjdrnRi",
        "colab_type": "code",
        "colab": {
          "base_uri": "https://localhost:8080/",
          "height": 34
        },
        "outputId": "ad0cf83b-5026-489a-b67c-0b95e1360af3"
      },
      "source": [
        "squares=[]            # general way to create list\n",
        "for x in range(10):\n",
        "  squares.append(x**2)\n",
        "\n",
        "squares\n"
      ],
      "execution_count": null,
      "outputs": [
        {
          "output_type": "execute_result",
          "data": {
            "text/plain": [
              "[0, 1, 4, 9, 16, 25, 36, 49, 64, 81]"
            ]
          },
          "metadata": {
            "tags": []
          },
          "execution_count": 30
        }
      ]
    },
    {
      "cell_type": "code",
      "metadata": {
        "id": "xNgebxXKsKPa",
        "colab_type": "code",
        "colab": {
          "base_uri": "https://localhost:8080/",
          "height": 34
        },
        "outputId": "8fd5c16c-1b66-4c05-f8b4-0d7fc0ce729b"
      },
      "source": [
        "squares1 = list(map(lambda x: x**2, range(10))) # list function to create list\n",
        "\n",
        "squares1"
      ],
      "execution_count": null,
      "outputs": [
        {
          "output_type": "execute_result",
          "data": {
            "text/plain": [
              "[0, 1, 4, 9, 16, 25, 36, 49, 64, 81]"
            ]
          },
          "metadata": {
            "tags": []
          },
          "execution_count": 32
        }
      ]
    },
    {
      "cell_type": "code",
      "metadata": {
        "id": "MUY7a1ORtU6I",
        "colab_type": "code",
        "colab": {
          "base_uri": "https://localhost:8080/",
          "height": 34
        },
        "outputId": "92d780aa-dc2e-4699-9b2c-15f46ce0c644"
      },
      "source": [
        "squares2=[x**2 for x in range(10)] # [expresion for x in iterator condition] , \n",
        "squares2"
      ],
      "execution_count": null,
      "outputs": [
        {
          "output_type": "execute_result",
          "data": {
            "text/plain": [
              "[0, 1, 4, 9, 16, 25, 36, 49, 64, 81]"
            ]
          },
          "metadata": {
            "tags": []
          },
          "execution_count": 33
        }
      ]
    },
    {
      "cell_type": "markdown",
      "metadata": {
        "id": "bP9nMY7fv6s5",
        "colab_type": "text"
      },
      "source": [
        "Note: Nested loop in comprehensions list"
      ]
    },
    {
      "cell_type": "code",
      "metadata": {
        "id": "WG67_jCKweRp",
        "colab_type": "code",
        "colab": {
          "base_uri": "https://localhost:8080/",
          "height": 34
        },
        "outputId": "5e3abafa-2eac-4f09-becb-3b90e421deae"
      },
      "source": [
        "combs = []\n",
        "for x in [1,2,3]:\n",
        "    for y in [3,1,4]:\n",
        "        if x != y:\n",
        "            combs.append((x, y))\n",
        "combs"
      ],
      "execution_count": null,
      "outputs": [
        {
          "output_type": "execute_result",
          "data": {
            "text/plain": [
              "[(1, 3), (1, 4), (2, 3), (2, 1), (2, 4), (3, 1), (3, 4)]"
            ]
          },
          "metadata": {
            "tags": []
          },
          "execution_count": 38
        }
      ]
    },
    {
      "cell_type": "code",
      "metadata": {
        "id": "-BKN0JS8vVg-",
        "colab_type": "code",
        "colab": {
          "base_uri": "https://localhost:8080/",
          "height": 34
        },
        "outputId": "0f8eab95-5a01-4a45-bdbe-4036e2666409"
      },
      "source": [
        "r=[(x, y) for x in [1,2,3] for y in [3,1,4] if x != y]  # execute from left to right\n",
        "r"
      ],
      "execution_count": null,
      "outputs": [
        {
          "output_type": "execute_result",
          "data": {
            "text/plain": [
              "[(1, 3), (1, 4), (2, 3), (2, 1), (2, 4), (3, 1), (3, 4)]"
            ]
          },
          "metadata": {
            "tags": []
          },
          "execution_count": 34
        }
      ]
    },
    {
      "cell_type": "markdown",
      "metadata": {
        "id": "_P0RM1YlzpeJ",
        "colab_type": "text"
      },
      "source": [
        "Explination: \n",
        "\n",
        "move from left to right\n",
        "\n",
        "1. First loop bata x=1 set hunxa\n",
        "2. Second loop bata y=3 hunxa \n",
        "3. Condition check if 1!=3 jo true hunxa then body execute hunxa\n",
        "4. Body execute hunxa (1,3) hunxa \n",
        "\n",
        "5. Second loop bhanda agadi ko aba jammai body hunxa ra second loop continue hunxa."
      ]
    },
    {
      "cell_type": "markdown",
      "metadata": {
        "id": "WdPmG02gy6Nb",
        "colab_type": "text"
      },
      "source": [
        "#### **5.1.4 Nested List Comprehensions**"
      ]
    },
    {
      "cell_type": "markdown",
      "metadata": {
        "id": "VBHL-9Us4huP",
        "colab_type": "text"
      },
      "source": [
        "The initial expression in a list comprehension can be any arbitrary expression, including another list comprehension."
      ]
    },
    {
      "cell_type": "markdown",
      "metadata": {
        "id": "aLL_rwbb4x8h",
        "colab_type": "text"
      },
      "source": [
        "\n",
        "\n",
        "```\n",
        "[[expresion for variable in iterator condition] for variable in iterator condition]\n",
        "```\n",
        "\n"
      ]
    },
    {
      "cell_type": "code",
      "metadata": {
        "id": "8RnNBkDF27_a",
        "colab_type": "code",
        "colab": {}
      },
      "source": [
        "matrix = [\n",
        "     [1, 2, 3, 4],\n",
        "     [5, 6, 7, 8],\n",
        "    [9, 10, 11, 12],\n",
        " ]"
      ],
      "execution_count": null,
      "outputs": []
    },
    {
      "cell_type": "code",
      "metadata": {
        "id": "63Oy5Ymi6USj",
        "colab_type": "code",
        "colab": {
          "base_uri": "https://localhost:8080/",
          "height": 34
        },
        "outputId": "172a84de-f871-4d42-96b7-8337a3d5ffdb"
      },
      "source": [
        "[[row[i] for row in matrix] for i in range(4)]"
      ],
      "execution_count": null,
      "outputs": [
        {
          "output_type": "execute_result",
          "data": {
            "text/plain": [
              "[[1, 5, 9], [2, 6, 10], [3, 7, 11], [4, 8, 12]]"
            ]
          },
          "metadata": {
            "tags": []
          },
          "execution_count": 40
        }
      ]
    },
    {
      "cell_type": "code",
      "metadata": {
        "id": "3CoPZMoo6Wwk",
        "colab_type": "code",
        "colab": {}
      },
      "source": [
        ""
      ],
      "execution_count": null,
      "outputs": []
    },
    {
      "cell_type": "markdown",
      "metadata": {
        "id": "BecEnJ_W6ZdO",
        "colab_type": "text"
      },
      "source": [
        "### **5.2 The del statement**"
      ]
    },
    {
      "cell_type": "markdown",
      "metadata": {
        "id": "ako82a1fNmtV",
        "colab_type": "text"
      },
      "source": [
        "* pop return value but del delete value \n",
        "* In del we can delete slice(range) of value."
      ]
    },
    {
      "cell_type": "code",
      "metadata": {
        "id": "GN6BXrr76lfy",
        "colab_type": "code",
        "colab": {
          "base_uri": "https://localhost:8080/",
          "height": 34
        },
        "outputId": "2ba8b9da-0d42-4669-ced9-125878494682"
      },
      "source": [
        "a=[1,2,3,4,5,6,7]\n",
        "\n",
        "del a[0]\n",
        "print(a)"
      ],
      "execution_count": null,
      "outputs": [
        {
          "output_type": "stream",
          "text": [
            "[2, 3, 4, 5, 6, 7]\n"
          ],
          "name": "stdout"
        }
      ]
    },
    {
      "cell_type": "code",
      "metadata": {
        "id": "06z1jEeTPLWD",
        "colab_type": "code",
        "colab": {
          "base_uri": "https://localhost:8080/",
          "height": 34
        },
        "outputId": "ecdab0f8-4792-45ea-ff59-80ab4cde097b"
      },
      "source": [
        "del a[1:3]\n",
        "print(a)"
      ],
      "execution_count": null,
      "outputs": [
        {
          "output_type": "stream",
          "text": [
            "[2, 5, 6, 7]\n"
          ],
          "name": "stdout"
        }
      ]
    },
    {
      "cell_type": "code",
      "metadata": {
        "id": "-md0euAwPRdm",
        "colab_type": "code",
        "colab": {
          "base_uri": "https://localhost:8080/",
          "height": 200
        },
        "outputId": "5f429690-1b27-458f-9d82-7231a8c1ad55"
      },
      "source": [
        "del a\n",
        "print(a)"
      ],
      "execution_count": null,
      "outputs": [
        {
          "output_type": "error",
          "ename": "NameError",
          "evalue": "ignored",
          "traceback": [
            "\u001b[0;31m---------------------------------------------------------------------------\u001b[0m",
            "\u001b[0;31mNameError\u001b[0m                                 Traceback (most recent call last)",
            "\u001b[0;32m<ipython-input-44-c342333e421e>\u001b[0m in \u001b[0;36m<module>\u001b[0;34m()\u001b[0m\n\u001b[0;32m----> 1\u001b[0;31m \u001b[0;32mdel\u001b[0m \u001b[0ma\u001b[0m\u001b[0;34m\u001b[0m\u001b[0;34m\u001b[0m\u001b[0m\n\u001b[0m\u001b[1;32m      2\u001b[0m \u001b[0mprint\u001b[0m\u001b[0;34m(\u001b[0m\u001b[0ma\u001b[0m\u001b[0;34m)\u001b[0m\u001b[0;34m\u001b[0m\u001b[0;34m\u001b[0m\u001b[0m\n",
            "\u001b[0;31mNameError\u001b[0m: name 'a' is not defined"
          ]
        }
      ]
    },
    {
      "cell_type": "markdown",
      "metadata": {
        "id": "M3RRRABYPazo",
        "colab_type": "text"
      },
      "source": [
        "### **5.3 Tuples and Sequences(Tuple is sequence)**\n",
        "\n",
        "\n"
      ]
    },
    {
      "cell_type": "markdown",
      "metadata": {
        "id": "_S8RpbeTPzKL",
        "colab_type": "text"
      },
      "source": [
        "* Tuple is Imutable (append and update garna mildaina)\n",
        "\n",
        "* Tuples are unchangeable, For Delete(remove) in tuple first we convert tuple into list then remove,  we can't remove directly\n"
      ]
    },
    {
      "cell_type": "code",
      "metadata": {
        "id": "GVk-LRqNPV1A",
        "colab_type": "code",
        "colab": {
          "base_uri": "https://localhost:8080/",
          "height": 34
        },
        "outputId": "de030f7b-7430-4be7-9811-92b991d7e0e7"
      },
      "source": [
        "a=1,2,3,4,5,6 #tuple C=create\n",
        "\n",
        "print(a)"
      ],
      "execution_count": null,
      "outputs": [
        {
          "output_type": "stream",
          "text": [
            "(1, 2, 3, 4, 5, 6)\n"
          ],
          "name": "stdout"
        }
      ]
    },
    {
      "cell_type": "code",
      "metadata": {
        "id": "p4kcuFfMPwBW",
        "colab_type": "code",
        "colab": {
          "base_uri": "https://localhost:8080/",
          "height": 34
        },
        "outputId": "d7027891-b3da-4360-bd05-38715b6ee050"
      },
      "source": [
        "print(a[0]) # R=read\n"
      ],
      "execution_count": null,
      "outputs": [
        {
          "output_type": "stream",
          "text": [
            "1\n"
          ],
          "name": "stdout"
        }
      ]
    },
    {
      "cell_type": "code",
      "metadata": {
        "id": "Jf_ADw7-QQ0Z",
        "colab_type": "code",
        "colab": {
          "base_uri": "https://localhost:8080/",
          "height": 183
        },
        "outputId": "0739caa6-c050-4739-cafd-928b3475ca17"
      },
      "source": [
        "a.append(7) # U=update imutable"
      ],
      "execution_count": null,
      "outputs": [
        {
          "output_type": "error",
          "ename": "AttributeError",
          "evalue": "ignored",
          "traceback": [
            "\u001b[0;31m---------------------------------------------------------------------------\u001b[0m",
            "\u001b[0;31mAttributeError\u001b[0m                            Traceback (most recent call last)",
            "\u001b[0;32m<ipython-input-48-e1a809b2e11a>\u001b[0m in \u001b[0;36m<module>\u001b[0;34m()\u001b[0m\n\u001b[0;32m----> 1\u001b[0;31m \u001b[0ma\u001b[0m\u001b[0;34m.\u001b[0m\u001b[0mappend\u001b[0m\u001b[0;34m(\u001b[0m\u001b[0;36m7\u001b[0m\u001b[0;34m)\u001b[0m\u001b[0;34m\u001b[0m\u001b[0;34m\u001b[0m\u001b[0m\n\u001b[0m",
            "\u001b[0;31mAttributeError\u001b[0m: 'tuple' object has no attribute 'append'"
          ]
        }
      ]
    },
    {
      "cell_type": "code",
      "metadata": {
        "id": "aHzGglS7QeT5",
        "colab_type": "code",
        "colab": {
          "base_uri": "https://localhost:8080/",
          "height": 183
        },
        "outputId": "15692855-193c-413e-88d4-6db1301564f7"
      },
      "source": [
        "a[0]=0 # imutable"
      ],
      "execution_count": null,
      "outputs": [
        {
          "output_type": "error",
          "ename": "TypeError",
          "evalue": "ignored",
          "traceback": [
            "\u001b[0;31m---------------------------------------------------------------------------\u001b[0m",
            "\u001b[0;31mTypeError\u001b[0m                                 Traceback (most recent call last)",
            "\u001b[0;32m<ipython-input-50-1e8cf6416bb2>\u001b[0m in \u001b[0;36m<module>\u001b[0;34m()\u001b[0m\n\u001b[0;32m----> 1\u001b[0;31m \u001b[0ma\u001b[0m\u001b[0;34m[\u001b[0m\u001b[0;36m0\u001b[0m\u001b[0;34m]\u001b[0m\u001b[0;34m=\u001b[0m\u001b[0;36m0\u001b[0m \u001b[0;31m# imutable\u001b[0m\u001b[0;34m\u001b[0m\u001b[0;34m\u001b[0m\u001b[0m\n\u001b[0m",
            "\u001b[0;31mTypeError\u001b[0m: 'tuple' object does not support item assignment"
          ]
        }
      ]
    },
    {
      "cell_type": "code",
      "metadata": {
        "id": "nVazS_xBWgNZ",
        "colab_type": "code",
        "colab": {}
      },
      "source": [
        "a=(1,2,'madan')"
      ],
      "execution_count": null,
      "outputs": []
    },
    {
      "cell_type": "code",
      "metadata": {
        "id": "AE6aidxHQlCj",
        "colab_type": "code",
        "colab": {
          "base_uri": "https://localhost:8080/",
          "height": 34
        },
        "outputId": "747996f1-3e3d-489f-902e-709fce431a6a"
      },
      "source": [
        "#tuple may be nested\n",
        "\n",
        "a=1,2,3,4,5\n",
        "\n",
        "c=a,(6,7,8,9)\n",
        "\n",
        "print(c)"
      ],
      "execution_count": null,
      "outputs": [
        {
          "output_type": "stream",
          "text": [
            "((1, 2, 3, 4, 5), (6, 7, 8, 9))\n"
          ],
          "name": "stdout"
        }
      ]
    },
    {
      "cell_type": "code",
      "metadata": {
        "id": "piPncz4mQ5Fa",
        "colab_type": "code",
        "colab": {
          "base_uri": "https://localhost:8080/",
          "height": 34
        },
        "outputId": "32224a60-74fd-425b-9c32-a7133480e941"
      },
      "source": [
        "#unpacking is also support\n",
        "\n",
        "a=1,2,3\n",
        "\n",
        "b,c,d=a #unpacking\n",
        "\n",
        "print(b)"
      ],
      "execution_count": null,
      "outputs": [
        {
          "output_type": "stream",
          "text": [
            "1\n"
          ],
          "name": "stdout"
        }
      ]
    },
    {
      "cell_type": "code",
      "metadata": {
        "id": "1XwJFdqSRT9A",
        "colab_type": "code",
        "colab": {
          "base_uri": "https://localhost:8080/",
          "height": 251
        },
        "outputId": "84848894-9cde-4022-eb8b-7eab85b4aa19"
      },
      "source": [
        "#unpacking is also support\n",
        "\n",
        "a=1,2,3\n",
        "\n",
        "b,c,d,e=a #unpacking\n",
        "\n",
        "print(b)"
      ],
      "execution_count": null,
      "outputs": [
        {
          "output_type": "error",
          "ename": "ValueError",
          "evalue": "ignored",
          "traceback": [
            "\u001b[0;31m---------------------------------------------------------------------------\u001b[0m",
            "\u001b[0;31mValueError\u001b[0m                                Traceback (most recent call last)",
            "\u001b[0;32m<ipython-input-55-0fcfd4366e05>\u001b[0m in \u001b[0;36m<module>\u001b[0;34m()\u001b[0m\n\u001b[1;32m      3\u001b[0m \u001b[0ma\u001b[0m\u001b[0;34m=\u001b[0m\u001b[0;36m1\u001b[0m\u001b[0;34m,\u001b[0m\u001b[0;36m2\u001b[0m\u001b[0;34m,\u001b[0m\u001b[0;36m3\u001b[0m\u001b[0;34m\u001b[0m\u001b[0;34m\u001b[0m\u001b[0m\n\u001b[1;32m      4\u001b[0m \u001b[0;34m\u001b[0m\u001b[0m\n\u001b[0;32m----> 5\u001b[0;31m \u001b[0mb\u001b[0m\u001b[0;34m,\u001b[0m\u001b[0mc\u001b[0m\u001b[0;34m,\u001b[0m\u001b[0md\u001b[0m\u001b[0;34m,\u001b[0m\u001b[0me\u001b[0m\u001b[0;34m=\u001b[0m\u001b[0ma\u001b[0m \u001b[0;31m#unpacking\u001b[0m\u001b[0;34m\u001b[0m\u001b[0;34m\u001b[0m\u001b[0m\n\u001b[0m\u001b[1;32m      6\u001b[0m \u001b[0;34m\u001b[0m\u001b[0m\n\u001b[1;32m      7\u001b[0m \u001b[0mprint\u001b[0m\u001b[0;34m(\u001b[0m\u001b[0mb\u001b[0m\u001b[0;34m)\u001b[0m\u001b[0;34m\u001b[0m\u001b[0;34m\u001b[0m\u001b[0m\n",
            "\u001b[0;31mValueError\u001b[0m: not enough values to unpack (expected 4, got 3)"
          ]
        }
      ]
    },
    {
      "cell_type": "code",
      "metadata": {
        "id": "e3TPvIfbW-7b",
        "colab_type": "code",
        "colab": {
          "base_uri": "https://localhost:8080/",
          "height": 51
        },
        "outputId": "4a7b749a-64e4-45cc-a6f3-fda5c2b93a91"
      },
      "source": [
        "singleton = 'hello',    # <-- note trailing comma\n",
        "\n",
        "print(len(singleton))\n",
        "print(singleton)\n"
      ],
      "execution_count": null,
      "outputs": [
        {
          "output_type": "stream",
          "text": [
            "1\n",
            "('hello',)\n"
          ],
          "name": "stdout"
        }
      ]
    },
    {
      "cell_type": "markdown",
      "metadata": {
        "id": "ICwTb_KjRjY1",
        "colab_type": "text"
      },
      "source": [
        "### **5.4 Sets(Sets is not sequence)**"
      ]
    },
    {
      "cell_type": "markdown",
      "metadata": {
        "id": "RhxBtSciRthp",
        "colab_type": "text"
      },
      "source": [
        "* Sets key point is no duplicate elements\n",
        "\n",
        "* Support mathematics operations like union,intersection,difference,..\n",
        "\n",
        "* We can't access items in set by referring to an index\n",
        "   \n",
        "      Note: Sets are unordered, so you cannot be sure in which order the items will appear.\n",
        "\n",
        "* Once a set is created, you cannot change its items, but you can add new items."
      ]
    },
    {
      "cell_type": "code",
      "metadata": {
        "id": "AhTYnIXFRow7",
        "colab_type": "code",
        "colab": {}
      },
      "source": [
        "f={1,2,3,4,5,6,7,8,9} # C=create"
      ],
      "execution_count": null,
      "outputs": []
    },
    {
      "cell_type": "code",
      "metadata": {
        "id": "PrFftSCGSRcJ",
        "colab_type": "code",
        "colab": {
          "base_uri": "https://localhost:8080/",
          "height": 183
        },
        "outputId": "a29998fe-b262-4b65-ab0a-6c8baaa5f92d"
      },
      "source": [
        "f[0] # R=read  , you can't access items in a set"
      ],
      "execution_count": null,
      "outputs": [
        {
          "output_type": "error",
          "ename": "TypeError",
          "evalue": "ignored",
          "traceback": [
            "\u001b[0;31m---------------------------------------------------------------------------\u001b[0m",
            "\u001b[0;31mTypeError\u001b[0m                                 Traceback (most recent call last)",
            "\u001b[0;32m<ipython-input-67-00f7f25a3a76>\u001b[0m in \u001b[0;36m<module>\u001b[0;34m()\u001b[0m\n\u001b[0;32m----> 1\u001b[0;31m \u001b[0mf\u001b[0m\u001b[0;34m[\u001b[0m\u001b[0;36m0\u001b[0m\u001b[0;34m]\u001b[0m \u001b[0;31m# R=read  , you can't access items in a set\u001b[0m\u001b[0;34m\u001b[0m\u001b[0;34m\u001b[0m\u001b[0m\n\u001b[0m",
            "\u001b[0;31mTypeError\u001b[0m: 'set' object does not support indexing"
          ]
        }
      ]
    },
    {
      "cell_type": "code",
      "metadata": {
        "id": "ZXnAc-nLSVif",
        "colab_type": "code",
        "colab": {
          "base_uri": "https://localhost:8080/",
          "height": 170
        },
        "outputId": "3c8a59a1-f676-4330-e17a-c8d40bdd3aab"
      },
      "source": [
        "for i in f: #read \n",
        "  print(i)"
      ],
      "execution_count": null,
      "outputs": [
        {
          "output_type": "stream",
          "text": [
            "1\n",
            "2\n",
            "3\n",
            "4\n",
            "5\n",
            "6\n",
            "7\n",
            "8\n",
            "9\n"
          ],
          "name": "stdout"
        }
      ]
    },
    {
      "cell_type": "code",
      "metadata": {
        "id": "7JBjZRZxVe25",
        "colab_type": "code",
        "colab": {
          "base_uri": "https://localhost:8080/",
          "height": 183
        },
        "outputId": "97697a13-e7d0-4421-d09b-80f5e824f47e"
      },
      "source": [
        "f[0]=0 #update"
      ],
      "execution_count": null,
      "outputs": [
        {
          "output_type": "error",
          "ename": "TypeError",
          "evalue": "ignored",
          "traceback": [
            "\u001b[0;31m---------------------------------------------------------------------------\u001b[0m",
            "\u001b[0;31mTypeError\u001b[0m                                 Traceback (most recent call last)",
            "\u001b[0;32m<ipython-input-69-f0624c5b3a94>\u001b[0m in \u001b[0;36m<module>\u001b[0;34m()\u001b[0m\n\u001b[0;32m----> 1\u001b[0;31m \u001b[0mf\u001b[0m\u001b[0;34m[\u001b[0m\u001b[0;36m0\u001b[0m\u001b[0;34m]\u001b[0m\u001b[0;34m=\u001b[0m\u001b[0;36m0\u001b[0m \u001b[0;31m#update\u001b[0m\u001b[0;34m\u001b[0m\u001b[0;34m\u001b[0m\u001b[0m\n\u001b[0m",
            "\u001b[0;31mTypeError\u001b[0m: 'set' object does not support item assignment"
          ]
        }
      ]
    },
    {
      "cell_type": "code",
      "metadata": {
        "id": "YiTuPAZbYVRR",
        "colab_type": "code",
        "colab": {
          "base_uri": "https://localhost:8080/",
          "height": 34
        },
        "outputId": "c5531658-43ab-4560-ee6f-773760379f63"
      },
      "source": [
        "f.add(0) # U=update ,To add one item to a set use the add() method.\n",
        "print(f)"
      ],
      "execution_count": null,
      "outputs": [
        {
          "output_type": "stream",
          "text": [
            "{0, 1, 2, 3, 4, 5, 6, 7, 8, 9}\n"
          ],
          "name": "stdout"
        }
      ]
    },
    {
      "cell_type": "code",
      "metadata": {
        "id": "eDj2FrEiYZ0k",
        "colab_type": "code",
        "colab": {
          "base_uri": "https://localhost:8080/",
          "height": 34
        },
        "outputId": "73a4fa85-e6ed-4857-af46-938e0961aa85"
      },
      "source": [
        "f.update([\"orange\", \"mango\", \"grapes\"]) #To add more than one item to a set use the update() method.\n",
        "print(f)"
      ],
      "execution_count": null,
      "outputs": [
        {
          "output_type": "stream",
          "text": [
            "{0, 1, 2, 3, 4, 5, 6, 7, 8, 9, 'orange', 'mango', 'grapes'}\n"
          ],
          "name": "stdout"
        }
      ]
    },
    {
      "cell_type": "code",
      "metadata": {
        "id": "NOkBrt90e7rZ",
        "colab_type": "code",
        "colab": {
          "base_uri": "https://localhost:8080/",
          "height": 34
        },
        "outputId": "3afcdef4-5daf-4cf1-9b7f-7502897457dd"
      },
      "source": [
        "f.remove(1) # D=Delet\n",
        "print(f)"
      ],
      "execution_count": null,
      "outputs": [
        {
          "output_type": "stream",
          "text": [
            "{2, 3, 4, 5, 6, 7, 8, 9, 'orange', 'mango', 'grapes'}\n"
          ],
          "name": "stdout"
        }
      ]
    },
    {
      "cell_type": "code",
      "metadata": {
        "id": "Dv7sPeLwhtEL",
        "colab_type": "code",
        "colab": {
          "base_uri": "https://localhost:8080/",
          "height": 34
        },
        "outputId": "d8bd46ef-224f-4b90-9649-bce7f8990a33"
      },
      "source": [
        "f.discard(3)\n",
        "print(f)"
      ],
      "execution_count": null,
      "outputs": [
        {
          "output_type": "stream",
          "text": [
            "{2, 4, 5, 6, 7, 8, 9, 'orange', 'mango', 'grapes'}\n"
          ],
          "name": "stdout"
        }
      ]
    },
    {
      "cell_type": "code",
      "metadata": {
        "id": "0Ox-56fEiTy3",
        "colab_type": "code",
        "colab": {
          "base_uri": "https://localhost:8080/",
          "height": 34
        },
        "outputId": "37b24271-b88c-4bb6-9ea4-a8a570d426cf"
      },
      "source": [
        "item=f.pop() #Note: Sets are unordered, so when using the pop() method, you will not know which item that gets removed.\n",
        "print(item)"
      ],
      "execution_count": null,
      "outputs": [
        {
          "output_type": "stream",
          "text": [
            "4\n"
          ],
          "name": "stdout"
        }
      ]
    },
    {
      "cell_type": "code",
      "metadata": {
        "id": "vbkjqotnjIxj",
        "colab_type": "code",
        "colab": {}
      },
      "source": [
        ""
      ],
      "execution_count": null,
      "outputs": []
    },
    {
      "cell_type": "markdown",
      "metadata": {
        "id": "mhJ697tAjZ0h",
        "colab_type": "text"
      },
      "source": [
        "### **5.5 Dictionaries(dictionary are not sequence they are mapping types)**"
      ]
    },
    {
      "cell_type": "markdown",
      "metadata": {
        "id": "AcssTsfgkdmj",
        "colab_type": "text"
      },
      "source": [
        "Sequence vs dictionary\n",
        "* Sequence , which are indexed by a range of number, dictionary are indexed by keys.\n",
        "\n",
        "Dictonary\n",
        "\n",
        "* keys:values\n",
        "* Tuples can be used as keys if they contain only strings, numbers, or tuples; if a tuple contains any mutable object either directly or indirectly, it cannot be used as a key. \n",
        "\n",
        "* You can’t use lists as keys, since lists can be modified in place using index assignments, slice assignments, or methods like append() and extend().\n",
        "\n",
        "* keys are unique\n",
        "\n",
        "* Performing list(d) on a dictionary returns a list of all the keys used in the dictionary.\n",
        "\n",
        "* To check whether a single key is in the dictionary, use the in keyword."
      ]
    },
    {
      "cell_type": "code",
      "metadata": {
        "id": "tQEfS5QXkDv_",
        "colab_type": "code",
        "colab": {}
      },
      "source": [
        "dit={'madan': 'first','tapendra':'second','prakash':'third'}# C=creat\n"
      ],
      "execution_count": null,
      "outputs": []
    },
    {
      "cell_type": "code",
      "metadata": {
        "id": "57_vKPARrnZ2",
        "colab_type": "code",
        "colab": {
          "base_uri": "https://localhost:8080/",
          "height": 35
        },
        "outputId": "6116b98c-01b7-4b11-c078-91077bd4b701"
      },
      "source": [
        "dit['madan'] #R=read"
      ],
      "execution_count": null,
      "outputs": [
        {
          "output_type": "execute_result",
          "data": {
            "application/vnd.google.colaboratory.intrinsic": {
              "type": "string"
            },
            "text/plain": [
              "'first'"
            ]
          },
          "metadata": {
            "tags": []
          },
          "execution_count": 96
        }
      ]
    },
    {
      "cell_type": "code",
      "metadata": {
        "id": "rNKDKrb2sCd4",
        "colab_type": "code",
        "colab": {
          "base_uri": "https://localhost:8080/",
          "height": 34
        },
        "outputId": "2cb9a7e3-d8a0-4222-86eb-c8d3047b13d4"
      },
      "source": [
        "dit['madan']='topper'# U=update\n",
        "print(dit)"
      ],
      "execution_count": null,
      "outputs": [
        {
          "output_type": "stream",
          "text": [
            "{'madan': 'topper', 'tapendra': 'second', 'prakash': 'third'}\n"
          ],
          "name": "stdout"
        }
      ]
    },
    {
      "cell_type": "code",
      "metadata": {
        "id": "A1AYnJiGroNh",
        "colab_type": "code",
        "colab": {
          "base_uri": "https://localhost:8080/",
          "height": 54
        },
        "outputId": "93f03fd1-849a-40e2-abf8-d00eadab8a97"
      },
      "source": [
        "dit['subritt']='fourth' # U=update  automatically generate key and value\n",
        "\n",
        "print(dit)"
      ],
      "execution_count": null,
      "outputs": [
        {
          "output_type": "stream",
          "text": [
            "{'madan': 'topper', 'tapendra': 'second', 'prakash': 'third', 'subritt': 'fourth'}\n"
          ],
          "name": "stdout"
        }
      ]
    },
    {
      "cell_type": "code",
      "metadata": {
        "id": "k4yTaAB_suTR",
        "colab_type": "code",
        "colab": {
          "base_uri": "https://localhost:8080/",
          "height": 34
        },
        "outputId": "2a5c944e-03dd-4d69-c798-a63ae8e7a5ee"
      },
      "source": [
        "del dit['madan'] #D=delete\n",
        "\n",
        "print(dit)"
      ],
      "execution_count": null,
      "outputs": [
        {
          "output_type": "stream",
          "text": [
            "{'tapendra': 'second', 'prakash': 'third', 'subritt': 'fourth'}\n"
          ],
          "name": "stdout"
        }
      ]
    },
    {
      "cell_type": "code",
      "metadata": {
        "id": "oCLFGeDbuQ_j",
        "colab_type": "code",
        "colab": {
          "base_uri": "https://localhost:8080/",
          "height": 34
        },
        "outputId": "9cb5882a-80e0-4267-9586-92e97070a298"
      },
      "source": [
        "list(dit) #return only keys"
      ],
      "execution_count": null,
      "outputs": [
        {
          "output_type": "execute_result",
          "data": {
            "text/plain": [
              "['tapendra', 'prakash', 'subritt']"
            ]
          },
          "metadata": {
            "tags": []
          },
          "execution_count": 101
        }
      ]
    },
    {
      "cell_type": "code",
      "metadata": {
        "id": "x8Lbh-2SudYG",
        "colab_type": "code",
        "colab": {
          "base_uri": "https://localhost:8080/",
          "height": 34
        },
        "outputId": "e6e5cf14-ee99-4304-f078-4f133bd82b61"
      },
      "source": [
        "sorted(dit)"
      ],
      "execution_count": null,
      "outputs": [
        {
          "output_type": "execute_result",
          "data": {
            "text/plain": [
              "['prakash', 'subritt', 'tapendra']"
            ]
          },
          "metadata": {
            "tags": []
          },
          "execution_count": 102
        }
      ]
    },
    {
      "cell_type": "code",
      "metadata": {
        "id": "ufKzWecvuw43",
        "colab_type": "code",
        "colab": {
          "base_uri": "https://localhost:8080/",
          "height": 34
        },
        "outputId": "b87bcca5-c527-412b-ddaa-faf4d98ac5ab"
      },
      "source": [
        "dit"
      ],
      "execution_count": null,
      "outputs": [
        {
          "output_type": "execute_result",
          "data": {
            "text/plain": [
              "{'prakash': 'third', 'subritt': 'fourth', 'tapendra': 'second'}"
            ]
          },
          "metadata": {
            "tags": []
          },
          "execution_count": 103
        }
      ]
    },
    {
      "cell_type": "code",
      "metadata": {
        "id": "Lc6E6pX8uzfj",
        "colab_type": "code",
        "colab": {
          "base_uri": "https://localhost:8080/",
          "height": 34
        },
        "outputId": "98dbf07e-5001-42d2-8cd4-1dcbed3b3a13"
      },
      "source": [
        "dict([('madan', 1), ('tependra', 2), ('subritt', 3)])"
      ],
      "execution_count": null,
      "outputs": [
        {
          "output_type": "execute_result",
          "data": {
            "text/plain": [
              "{'madan': 1, 'subritt': 3, 'tependra': 2}"
            ]
          },
          "metadata": {
            "tags": []
          },
          "execution_count": 105
        }
      ]
    },
    {
      "cell_type": "code",
      "metadata": {
        "id": "h7Vyul7Hu_8P",
        "colab_type": "code",
        "colab": {
          "base_uri": "https://localhost:8080/",
          "height": 34
        },
        "outputId": "ddb2195f-26ee-4f44-dd56-cf17ba8e6d2e"
      },
      "source": [
        "{x: x**2 for x in (2, 4, 6)}"
      ],
      "execution_count": null,
      "outputs": [
        {
          "output_type": "execute_result",
          "data": {
            "text/plain": [
              "{2: 4, 4: 16, 6: 36}"
            ]
          },
          "metadata": {
            "tags": []
          },
          "execution_count": 106
        }
      ]
    },
    {
      "cell_type": "code",
      "metadata": {
        "id": "zzXWYO3pvZjC",
        "colab_type": "code",
        "colab": {
          "base_uri": "https://localhost:8080/",
          "height": 34
        },
        "outputId": "e48d6247-dded-4a63-e7a4-2d92f9e80e02"
      },
      "source": [
        "dict(madan=1, tapendra=2, subritt=3)"
      ],
      "execution_count": null,
      "outputs": [
        {
          "output_type": "execute_result",
          "data": {
            "text/plain": [
              "{'madan': 1, 'subritt': 3, 'tapendra': 2}"
            ]
          },
          "metadata": {
            "tags": []
          },
          "execution_count": 108
        }
      ]
    },
    {
      "cell_type": "markdown",
      "metadata": {
        "id": "sc8a-iRlvxXd",
        "colab_type": "text"
      },
      "source": [
        "### **5.6 looping Techniques**"
      ]
    },
    {
      "cell_type": "markdown",
      "metadata": {
        "id": "GXbohDcrwK32",
        "colab_type": "text"
      },
      "source": [
        "Note: \n",
        "\n",
        "* when looping through dictionaries, in for loop we get only key.\n",
        "\n",
        "* The key and corresponding value can be retrieved at the same time using the items() method.\n",
        "\n"
      ]
    },
    {
      "cell_type": "code",
      "metadata": {
        "id": "OqFX7B8Uv22A",
        "colab_type": "code",
        "colab": {}
      },
      "source": [
        "na={'madan':'kailali','subritt':'kathmandu','prakash':'bhaktapur'}\n",
        "\n"
      ],
      "execution_count": null,
      "outputs": []
    },
    {
      "cell_type": "code",
      "metadata": {
        "id": "_v9pODwixrm1",
        "colab_type": "code",
        "colab": {
          "base_uri": "https://localhost:8080/",
          "height": 68
        },
        "outputId": "27cd2040-218a-4dc0-b02f-e130c917d2fd"
      },
      "source": [
        "for i in na: # general for loop give \n",
        "  print(i)"
      ],
      "execution_count": null,
      "outputs": [
        {
          "output_type": "stream",
          "text": [
            "madan\n",
            "subritt\n",
            "prakash\n"
          ],
          "name": "stdout"
        }
      ]
    },
    {
      "cell_type": "code",
      "metadata": {
        "id": "KHl1tP9hxw8l",
        "colab_type": "code",
        "colab": {
          "base_uri": "https://localhost:8080/",
          "height": 68
        },
        "outputId": "f4ad0572-67cc-46bd-8830-75e93ba536fd"
      },
      "source": [
        "for k,v in na.items(): # items function\n",
        "  print(k,v)"
      ],
      "execution_count": null,
      "outputs": [
        {
          "output_type": "stream",
          "text": [
            "madan kailali\n",
            "subritt kathmandu\n",
            "prakash bhaktapur\n"
          ],
          "name": "stdout"
        }
      ]
    },
    {
      "cell_type": "code",
      "metadata": {
        "id": "DCCy6Z39ys_V",
        "colab_type": "code",
        "colab": {
          "base_uri": "https://localhost:8080/",
          "height": 68
        },
        "outputId": "520dfcff-76fb-430d-a155-2bdaa17b4e67"
      },
      "source": [
        "for k,v in enumerate(['madan','tapendra','prakash']): #enumerate do every item assign numerical value\n",
        "  print(k,v)"
      ],
      "execution_count": null,
      "outputs": [
        {
          "output_type": "stream",
          "text": [
            "0 madan\n",
            "1 tapendra\n",
            "2 prakash\n"
          ],
          "name": "stdout"
        }
      ]
    },
    {
      "cell_type": "code",
      "metadata": {
        "id": "016mHug2zFB2",
        "colab_type": "code",
        "colab": {
          "base_uri": "https://localhost:8080/",
          "height": 68
        },
        "outputId": "a7538131-74c0-4378-9eb8-f8ca464913e9"
      },
      "source": [
        "question=['name','address','country']\n",
        "answer=['madan','kailali','nepal']\n",
        "\n",
        "#print(zip(question,answer))\n",
        "for q,a in zip(question,answer): # \n",
        "  print(q,a)"
      ],
      "execution_count": null,
      "outputs": [
        {
          "output_type": "stream",
          "text": [
            "name madan\n",
            "address kailali\n",
            "country nepal\n"
          ],
          "name": "stdout"
        }
      ]
    },
    {
      "cell_type": "markdown",
      "metadata": {
        "id": "r-McjJYE2L85",
        "colab_type": "text"
      },
      "source": [
        "### **5.7 More on conditions**"
      ]
    },
    {
      "cell_type": "markdown",
      "metadata": {
        "id": "lc4ARwEF2f0M",
        "colab_type": "text"
      },
      "source": [
        "The conditions used in while and if statements can contain any operators, not just comparisons."
      ]
    },
    {
      "cell_type": "code",
      "metadata": {
        "id": "k_UY44rs2bXu",
        "colab_type": "code",
        "colab": {}
      },
      "source": [
        ""
      ],
      "execution_count": null,
      "outputs": []
    },
    {
      "cell_type": "markdown",
      "metadata": {
        "id": "hlgeT2tu23Ep",
        "colab_type": "text"
      },
      "source": [
        "### **5.8 Comparing Sequences and other types**"
      ]
    },
    {
      "cell_type": "markdown",
      "metadata": {
        "id": "S9MUrC634cfR",
        "colab_type": "text"
      },
      "source": [
        "* Sequence objects typically may be compared to other objects with the same sequence type. \n",
        "\n",
        "* The comparison uses lexicographical ordering: first the first two items are compared, and if they differ this determines the outcome of the comparison; if they are equal, the next two items are compared, and so on, until either sequence is exhausted.\n",
        "\n",
        "* "
      ]
    }
  ]
}