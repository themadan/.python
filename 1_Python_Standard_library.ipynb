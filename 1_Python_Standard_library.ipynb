{
  "nbformat": 4,
  "nbformat_minor": 0,
  "metadata": {
    "colab": {
      "name": "1.Python Standard library.ipynb",
      "provenance": [],
      "collapsed_sections": [],
      "include_colab_link": true
    },
    "kernelspec": {
      "name": "python3",
      "display_name": "Python 3"
    }
  },
  "cells": [
    {
      "cell_type": "markdown",
      "metadata": {
        "id": "view-in-github",
        "colab_type": "text"
      },
      "source": [
        "<a href=\"https://colab.research.google.com/github/themadan/.python/blob/master/1_Python_Standard_library.ipynb\" target=\"_parent\"><img src=\"https://colab.research.google.com/assets/colab-badge.svg\" alt=\"Open In Colab\"/></a>"
      ]
    },
    {
      "cell_type": "markdown",
      "metadata": {
        "id": "4Jb241po19cz",
        "colab_type": "text"
      },
      "source": [
        "# [Python Standard Library (standard objects and modules)](https://docs.python.org/3/library/index.html#library-index)\n",
        "\n",
        "\n"
      ]
    },
    {
      "cell_type": "markdown",
      "metadata": {
        "id": "-KOHETxw4GOM",
        "colab_type": "text"
      },
      "source": [
        "## **Introduction**\n",
        "\n",
        "* The bulk of the library, however, consists of a collection of modules."
      ]
    },
    {
      "cell_type": "markdown",
      "metadata": {
        "id": "MuzjfEdr8IbA",
        "colab_type": "text"
      },
      "source": [
        "## **Built-in Function(note: build function le k linxa ra k denxa tyo tha pauni)**"
      ]
    },
    {
      "cell_type": "markdown",
      "metadata": {
        "id": "46C6NCM0RInk",
        "colab_type": "text"
      },
      "source": [
        "* Pass arguments \n",
        "* accept return value"
      ]
    },
    {
      "cell_type": "code",
      "metadata": {
        "id": "qhbQl-YJfzlq",
        "colab_type": "code",
        "colab": {
          "base_uri": "https://localhost:8080/",
          "height": 119
        },
        "outputId": "52030e7f-235a-4091-d60b-583fb901fc2b"
      },
      "source": [
        "print(abs(-5))\n",
        "a=[1,2,3] \n",
        "print(all(a))# Return True if all elements of the iterable are true (or if the iterable is empty)\n",
        "b=['1',''] # An empty value has a Boolean value of False. element has true boolean value.\n",
        "print(all(b))\n",
        "c=['1','']\n",
        "print(any(c)) #Return True if any element of the iterable is true.\n",
        "#ascii() returns a string containing a printable representation of an object and escape the non-ASCII characters in the string using \\x, \\u or \\U escapes.\n",
        "#The ascii() function returns a readable version of any object (Strings, Tuples, Lists, etc).\n",
        "print(ascii('µ'))\n",
        "#Convert an integer number to a binary string prefixed with “0b”.\n",
        "print(bin(5))"
      ],
      "execution_count": null,
      "outputs": [
        {
          "output_type": "stream",
          "text": [
            "5\n",
            "True\n",
            "False\n",
            "True\n",
            "'\\xb5'\n",
            "0b101\n"
          ],
          "name": "stdout"
        }
      ]
    },
    {
      "cell_type": "markdown",
      "metadata": {
        "id": "9DWk0WCjQC3h",
        "colab_type": "text"
      },
      "source": [
        "##**Built- in constants(auta fix value or fix chiz )**"
      ]
    },
    {
      "cell_type": "markdown",
      "metadata": {
        "id": "PEF_g9L0Q-WK",
        "colab_type": "text"
      },
      "source": [
        "A small number of constants live in the built-in namespace. They are:"
      ]
    },
    {
      "cell_type": "code",
      "metadata": {
        "id": "ih56CehhNKYE",
        "colab_type": "code",
        "colab": {
          "base_uri": "https://localhost:8080/",
          "height": 129
        },
        "outputId": "a9dd7183-1711-4745-e432-263ee9790596"
      },
      "source": [
        "None=5 #this is not possible because False is constant\n",
        "#True\n",
        "#None\n",
        "print(None)"
      ],
      "execution_count": null,
      "outputs": [
        {
          "output_type": "error",
          "ename": "SyntaxError",
          "evalue": "ignored",
          "traceback": [
            "\u001b[0;36m  File \u001b[0;32m\"<ipython-input-15-589e3354e2a3>\"\u001b[0;36m, line \u001b[0;32m1\u001b[0m\n\u001b[0;31m    None=5 #this is not possible because False is constant\u001b[0m\n\u001b[0m                                                          ^\u001b[0m\n\u001b[0;31mSyntaxError\u001b[0m\u001b[0;31m:\u001b[0m can't assign to keyword\n"
          ]
        }
      ]
    },
    {
      "cell_type": "markdown",
      "metadata": {
        "id": "rFxZgKfVvG_n",
        "colab_type": "text"
      },
      "source": [
        "Constants added by the site module\n",
        "* They are useful for the interactive interpreter shell and should not be used in programs."
      ]
    },
    {
      "cell_type": "code",
      "metadata": {
        "id": "SZaQVhigvA3h",
        "colab_type": "code",
        "colab": {
          "base_uri": "https://localhost:8080/",
          "height": 251
        },
        "outputId": "7d697b09-bd1e-47df-f022-e8ded24a06fb"
      },
      "source": [
        "quit()\n",
        "exit()\n",
        "copyright\n",
        "credits\n",
        "license"
      ],
      "execution_count": null,
      "outputs": [
        {
          "output_type": "error",
          "ename": "TypeError",
          "evalue": "ignored",
          "traceback": [
            "\u001b[0;31m---------------------------------------------------------------------------\u001b[0m",
            "\u001b[0;31mTypeError\u001b[0m                                 Traceback (most recent call last)",
            "\u001b[0;32m<ipython-input-17-74f39df29151>\u001b[0m in \u001b[0;36m<module>\u001b[0;34m()\u001b[0m\n\u001b[0;32m----> 1\u001b[0;31m \u001b[0mquit\u001b[0m\u001b[0;34m(\u001b[0m\u001b[0;34m)\u001b[0m\u001b[0;34m\u001b[0m\u001b[0;34m\u001b[0m\u001b[0m\n\u001b[0m\u001b[1;32m      2\u001b[0m \u001b[0mexit\u001b[0m\u001b[0;34m(\u001b[0m\u001b[0;34m)\u001b[0m\u001b[0;34m\u001b[0m\u001b[0;34m\u001b[0m\u001b[0m\n\u001b[1;32m      3\u001b[0m \u001b[0mcopyright\u001b[0m\u001b[0;34m\u001b[0m\u001b[0;34m\u001b[0m\u001b[0m\n\u001b[1;32m      4\u001b[0m \u001b[0mcredits\u001b[0m\u001b[0;34m\u001b[0m\u001b[0;34m\u001b[0m\u001b[0m\n\u001b[1;32m      5\u001b[0m \u001b[0mlicense\u001b[0m\u001b[0;34m\u001b[0m\u001b[0;34m\u001b[0m\u001b[0m\n",
            "\u001b[0;31mTypeError\u001b[0m: 'str' object is not callable"
          ]
        }
      ]
    },
    {
      "cell_type": "markdown",
      "metadata": {
        "id": "VyyVWibjZs6o",
        "colab_type": "text"
      },
      "source": [
        "##**Built-in Types(eg: variable ko type bujni)**\n",
        "\n",
        "\n",
        "The principal built-in types are numerics, sequences, mappings, classes, instances and exceptions."
      ]
    },
    {
      "cell_type": "markdown",
      "metadata": {
        "id": "WYatsLJAx1Kf",
        "colab_type": "text"
      },
      "source": [
        "###**Truth value testing**\n",
        "* Any object can be tested for truth value, for use in an if or while condition or as operand of the Boolean operations below."
      ]
    },
    {
      "cell_type": "code",
      "metadata": {
        "id": "BLu34ypFx22m",
        "colab_type": "code",
        "colab": {
          "base_uri": "https://localhost:8080/",
          "height": 51
        },
        "outputId": "c6454458-30e6-4af8-998e-a503566a56f0"
      },
      "source": [
        "if 1==1:\n",
        "  print('test pass')\n",
        "\n",
        "while 1<2:\n",
        "  print('pass test')\n",
        "  break"
      ],
      "execution_count": null,
      "outputs": [
        {
          "output_type": "stream",
          "text": [
            "test pass\n",
            "pass test\n"
          ],
          "name": "stdout"
        }
      ]
    },
    {
      "cell_type": "code",
      "metadata": {
        "id": "ZD0j7Jnny-bJ",
        "colab_type": "code",
        "colab": {
          "base_uri": "https://localhost:8080/",
          "height": 51
        },
        "outputId": "e5d71aaf-c690-4135-9b29-f5f17fb17523"
      },
      "source": [
        "test=True\n",
        "print(test.__bool__())\n",
        "\n",
        "tes=[1,2,3]\n",
        "print(tes.__len__())"
      ],
      "execution_count": null,
      "outputs": [
        {
          "output_type": "stream",
          "text": [
            "True\n",
            "3\n"
          ],
          "name": "stdout"
        }
      ]
    },
    {
      "cell_type": "markdown",
      "metadata": {
        "id": "WTWFMTA4zqFs",
        "colab_type": "text"
      },
      "source": [
        "###**Boolean operation-and,or,not**\n",
        "\n",
        "* take value/s\n",
        "* return true or false"
      ]
    },
    {
      "cell_type": "code",
      "metadata": {
        "id": "1EeU3N_FYz9J",
        "colab_type": "code",
        "colab": {
          "base_uri": "https://localhost:8080/",
          "height": 170
        },
        "outputId": "7fe21d6d-f8f2-4b12-af2e-c2dfa71d77b1"
      },
      "source": [
        " print(True or False)\n",
        "print(False or False)\n",
        "print(True and True)\n",
        "print(not True)"
      ],
      "execution_count": null,
      "outputs": [
        {
          "output_type": "stream",
          "text": [
            "True\n",
            "False\n",
            "True\n",
            "False\n",
            "True\n",
            "False\n",
            "True\n",
            "True\n",
            "3\n"
          ],
          "name": "stdout"
        }
      ]
    },
    {
      "cell_type": "markdown",
      "metadata": {
        "id": "ZsO2SIJAz5MU",
        "colab_type": "text"
      },
      "source": [
        "###**comparisons**\n",
        "\n",
        "* take value/s\n",
        "* return true or false"
      ]
    },
    {
      "cell_type": "code",
      "metadata": {
        "id": "SXxYOn_dz5rC",
        "colab_type": "code",
        "colab": {
          "base_uri": "https://localhost:8080/",
          "height": 85
        },
        "outputId": "3cdfd2a7-150e-47c3-bb65-1be5544ee270"
      },
      "source": [
        "print(1==1)\n",
        "print(1==2)\n",
        "print(1<2)\n",
        "print(1 is 1)"
      ],
      "execution_count": null,
      "outputs": [
        {
          "output_type": "stream",
          "text": [
            "True\n",
            "False\n",
            "True\n",
            "True\n"
          ],
          "name": "stdout"
        }
      ]
    },
    {
      "cell_type": "markdown",
      "metadata": {
        "id": "u4jSjbo_qsfb",
        "colab_type": "text"
      },
      "source": [
        "###**Numerical types-int,float,complex**"
      ]
    },
    {
      "cell_type": "code",
      "metadata": {
        "id": "OXDHbe2DoV5Z",
        "colab_type": "code",
        "colab": {
          "base_uri": "https://localhost:8080/",
          "height": 68
        },
        "outputId": "17f857ab-f654-431c-fb89-78cdb0335ec7"
      },
      "source": [
        "# Numeric types-int,float,complex \n",
        "a=2 #int\n",
        "b=1.34 #float\n",
        "\n",
        "z=1+2j # complex number\n",
        "k=complex(3,4)\n",
        "print(z.real)\n",
        "print(z.imag)\n",
        "print(z,k)"
      ],
      "execution_count": null,
      "outputs": [
        {
          "output_type": "stream",
          "text": [
            "1.0\n",
            "2.0\n",
            "(1+2j) (3+4j)\n"
          ],
          "name": "stdout"
        }
      ]
    },
    {
      "cell_type": "markdown",
      "metadata": {
        "id": "JgJiRoS4qwjS",
        "colab_type": "text"
      },
      "source": [
        "###**Iterator types**\n",
        "\n",
        "* create iterator object of an items\n",
        "* access the iterator items"
      ]
    },
    {
      "cell_type": "code",
      "metadata": {
        "id": "2JgYT8MuaRCw",
        "colab_type": "code",
        "colab": {
          "base_uri": "https://localhost:8080/",
          "height": 119
        },
        "outputId": "4f301a49-e5f1-48a0-a9f0-800f9a2894a3"
      },
      "source": [
        "#Iterator types\n",
        "i=[1,2,3,4]\n",
        "it=iter(i)\n",
        "print(it)\n",
        "print(it.__next__())\n",
        "print(it.__next__())\n",
        "print(it.__next__())\n",
        "\n",
        "print(next(it))\n",
        "\n",
        "\n",
        "itt=i.__iter__()\n",
        "print()"
      ],
      "execution_count": null,
      "outputs": [
        {
          "output_type": "stream",
          "text": [
            "<list_iterator object at 0x7f822bed20b8>\n",
            "1\n",
            "2\n",
            "3\n",
            "4\n",
            "<list_iterator object at 0x7f822bed20b8>\n"
          ],
          "name": "stdout"
        }
      ]
    },
    {
      "cell_type": "markdown",
      "metadata": {
        "id": "Amw7fYb3_2Tn",
        "colab_type": "text"
      },
      "source": [
        "Generator Types"
      ]
    },
    {
      "cell_type": "markdown",
      "metadata": {
        "id": "Q72pxepf28y_",
        "colab_type": "text"
      },
      "source": [
        "###**Sequence Types-list,tuple,range**"
      ]
    },
    {
      "cell_type": "markdown",
      "metadata": {
        "id": "uMP7R0x85qrv",
        "colab_type": "text"
      },
      "source": [
        "Common sequence operation"
      ]
    },
    {
      "cell_type": "code",
      "metadata": {
        "id": "qllH7WsRsLn4",
        "colab_type": "code",
        "colab": {
          "base_uri": "https://localhost:8080/",
          "height": 221
        },
        "outputId": "9e4617b0-c56c-45ab-a0a9-8a30a2d09d06"
      },
      "source": [
        "l=[1,2,3,4,5]\n",
        "l1=[6,7,8,9]\n",
        "\n",
        "print(1 in l)\n",
        "print(1 not in l)\n",
        "print(l + l1)\n",
        "print( l * 2)\n",
        "print(l[2])\n",
        "print(l[0:1])\n",
        "print(l[0:4:2])\n",
        "print(len(l))\n",
        "print(min(l))\n",
        "print(max(l))\n",
        "print(l.index(1))\n",
        "print(l.count(1))"
      ],
      "execution_count": null,
      "outputs": [
        {
          "output_type": "stream",
          "text": [
            "True\n",
            "False\n",
            "[1, 2, 3, 4, 5, 6, 7, 8, 9]\n",
            "[1, 2, 3, 4, 5, 1, 2, 3, 4, 5]\n",
            "3\n",
            "[1]\n",
            "[1, 3]\n",
            "5\n",
            "1\n",
            "5\n",
            "0\n",
            "1\n"
          ],
          "name": "stdout"
        }
      ]
    },
    {
      "cell_type": "markdown",
      "metadata": {
        "id": "8qMlpLjt28rY",
        "colab_type": "text"
      },
      "source": [
        "Immutable sequence types"
      ]
    },
    {
      "cell_type": "markdown",
      "metadata": {
        "id": "GiEGxo_Z55-c",
        "colab_type": "text"
      },
      "source": [
        "* hash()\n",
        "* tuple"
      ]
    },
    {
      "cell_type": "markdown",
      "metadata": {
        "id": "U_MNRrhS6Thu",
        "colab_type": "text"
      },
      "source": [
        "Mutable sequence types"
      ]
    },
    {
      "cell_type": "code",
      "metadata": {
        "id": "vyBiLd0_5yWf",
        "colab_type": "code",
        "colab": {
          "base_uri": "https://localhost:8080/",
          "height": 241
        },
        "outputId": "6aa8045e-674b-4d1e-f7ce-60c485c02864"
      },
      "source": [
        "a=[1,2,3,4,5,6,7,8,9]\n",
        "b=[0,'a','b']\n",
        "\n",
        "a[0]=0\n",
        "print(a)\n",
        "\n",
        "\n",
        "a[0:6]=['a','b','c','d','e']\n",
        "print(a)\n",
        "\n",
        "\n",
        "a[0:6:2]=[1,2,3]\n",
        "print(a)\n",
        "\n",
        "del a[0:6:2]\n",
        "print(a)\n",
        "\n",
        "a.append(0)\n",
        "print(a)\n",
        "\n",
        "\n",
        "a.copy()\n",
        "print(a)\n",
        "\n",
        "a.extend(b)\n",
        "print(a)\n",
        "\n",
        "\n",
        "a*=2\n",
        "print(a)\n",
        "\n",
        "\n",
        "a.insert(5,'insert')\n",
        "print(a)\n",
        "\n",
        "\n",
        "print(a.pop())\n",
        "\n",
        "\n",
        "a.remove('b')\n",
        "print(a)\n",
        "\n",
        "a.reverse()\n",
        "print(a)\n",
        "# a.clear(a)\n",
        "# print(a)"
      ],
      "execution_count": null,
      "outputs": [
        {
          "output_type": "stream",
          "text": [
            "[0, 2, 3, 4, 5, 6, 7, 8, 9]\n",
            "['a', 'b', 'c', 'd', 'e', 7, 8, 9]\n",
            "[1, 'b', 2, 'd', 3, 7, 8, 9]\n",
            "['b', 'd', 7, 8, 9]\n",
            "['b', 'd', 7, 8, 9, 0]\n",
            "['b', 'd', 7, 8, 9, 0]\n",
            "['b', 'd', 7, 8, 9, 0, 0, 'a', 'b']\n",
            "['b', 'd', 7, 8, 9, 0, 0, 'a', 'b', 'b', 'd', 7, 8, 9, 0, 0, 'a', 'b']\n",
            "['b', 'd', 7, 8, 9, 'insert', 0, 0, 'a', 'b', 'b', 'd', 7, 8, 9, 0, 0, 'a', 'b']\n",
            "b\n",
            "['d', 7, 8, 9, 'insert', 0, 0, 'a', 'b', 'b', 'd', 7, 8, 9, 0, 0, 'a']\n",
            "['a', 0, 0, 9, 8, 7, 'd', 'b', 'b', 'a', 0, 0, 'insert', 9, 8, 7, 'd']\n"
          ],
          "name": "stdout"
        }
      ]
    },
    {
      "cell_type": "markdown",
      "metadata": {
        "id": "r8jMA9OB28gj",
        "colab_type": "text"
      },
      "source": [
        "List\n",
        "\n",
        "* Using a pair of square brackets to denote the empty list: []\n",
        "\n",
        "* Using square brackets, separating items with commas: [a], [a, b, c]\n",
        "\n",
        "* **Using a list comprehension: [x for x in iterable]**\n",
        "\n",
        "* Using the type constructor: list() or list(iterable)"
      ]
    },
    {
      "cell_type": "code",
      "metadata": {
        "id": "wRXZ89_M-3as",
        "colab_type": "code",
        "colab": {
          "base_uri": "https://localhost:8080/",
          "height": 68
        },
        "outputId": "fb50fe18-c743-44b5-fedc-02a3538cd17a"
      },
      "source": [
        "lists=[[]] *3\n",
        "print(lists)\n",
        "\n",
        "lists=[['a']] *3\n",
        "print(lists)\n",
        "\n",
        "lists=[[] for i in range(3)]\n",
        "lists[0].append(3)\n",
        "lists[1].append(5)\n",
        "lists[2].append(7)\n",
        "print(lists)"
      ],
      "execution_count": null,
      "outputs": [
        {
          "output_type": "stream",
          "text": [
            "[[], [], []]\n",
            "[['a'], ['a'], ['a']]\n",
            "[[3], [5], [7]]\n"
          ],
          "name": "stdout"
        }
      ]
    },
    {
      "cell_type": "code",
      "metadata": {
        "id": "QbZWmxe8y31x",
        "colab_type": "code",
        "colab": {}
      },
      "source": [
        "l=[1,2,4,5,3,2,6,2,6,0]\n",
        "l.sort()"
      ],
      "execution_count": null,
      "outputs": []
    },
    {
      "cell_type": "markdown",
      "metadata": {
        "id": "G-MMkLuC28N4",
        "colab_type": "text"
      },
      "source": [
        "Tuples \n",
        "\n",
        "\n",
        "* Using a pair of parentheses to denote the empty tuple: ()\n",
        "\n",
        "* Using a trailing comma for a singleton tuple: a, or (a,)\n",
        "\n",
        "* Separating items with commas: a, b, c or (a, b, c)\n",
        "\n",
        "* Using the tuple() built-in: tuple() or tuple(iterable)\n"
      ]
    },
    {
      "cell_type": "code",
      "metadata": {
        "id": "JQ0l9lN5_OKN",
        "colab_type": "code",
        "colab": {
          "base_uri": "https://localhost:8080/",
          "height": 34
        },
        "outputId": "2450b68f-9331-493e-a6f1-42aaaaee3ebd"
      },
      "source": [
        "t=(1,2,4,5,6)\n",
        "print(t)"
      ],
      "execution_count": null,
      "outputs": [
        {
          "output_type": "stream",
          "text": [
            "(1, 2, 4, 5, 6)\n"
          ],
          "name": "stdout"
        }
      ]
    },
    {
      "cell_type": "markdown",
      "metadata": {
        "id": "ygHgMf9s-1b1",
        "colab_type": "text"
      },
      "source": [
        "Ranges \n",
        "\n",
        "* start\n",
        "* stop\n",
        "* step"
      ]
    },
    {
      "cell_type": "code",
      "metadata": {
        "id": "icVKPfN-AxPp",
        "colab_type": "code",
        "colab": {
          "base_uri": "https://localhost:8080/",
          "height": 51
        },
        "outputId": "8e24b937-6137-43a4-d7cf-73c2df40e56c"
      },
      "source": [
        "print(range(5))\n",
        "print(list(range(5)))"
      ],
      "execution_count": null,
      "outputs": [
        {
          "output_type": "stream",
          "text": [
            "range(0, 5)\n",
            "[0, 1, 2, 3, 4]\n"
          ],
          "name": "stdout"
        }
      ]
    },
    {
      "cell_type": "code",
      "metadata": {
        "id": "dU7_FsB41Cuw",
        "colab_type": "code",
        "colab": {
          "base_uri": "https://localhost:8080/",
          "height": 102
        },
        "outputId": "3935350d-cd4d-4390-ff99-ba7a22566104"
      },
      "source": [
        "for i in range(5):\n",
        "  print(i)"
      ],
      "execution_count": null,
      "outputs": [
        {
          "output_type": "stream",
          "text": [
            "0\n",
            "1\n",
            "2\n",
            "3\n",
            "4\n"
          ],
          "name": "stdout"
        }
      ]
    },
    {
      "cell_type": "markdown",
      "metadata": {
        "id": "Xl_x9_12-155",
        "colab_type": "text"
      },
      "source": [
        "###**Text sequence type -str**"
      ]
    },
    {
      "cell_type": "markdown",
      "metadata": {
        "id": "h4FZpLkeBfxM",
        "colab_type": "text"
      },
      "source": [
        "String methods"
      ]
    },
    {
      "cell_type": "code",
      "metadata": {
        "id": "yPmvSbjiBmFa",
        "colab_type": "code",
        "colab": {
          "base_uri": "https://localhost:8080/",
          "height": 85
        },
        "outputId": "b694e383-f50c-4ded-b341-5d9235893882"
      },
      "source": [
        "s='helo iam madan'\n",
        "print(s.capitalize())\n",
        "print(s.casefold())\n",
        "print(s.center(5))\n",
        "print(s.count('helo'))"
      ],
      "execution_count": null,
      "outputs": [
        {
          "output_type": "stream",
          "text": [
            "Helo iam madan\n",
            "helo iam madan\n",
            "helo iam madan\n",
            "1\n"
          ],
          "name": "stdout"
        }
      ]
    },
    {
      "cell_type": "markdown",
      "metadata": {
        "id": "IuFbGxSc-2Oe",
        "colab_type": "text"
      },
      "source": [
        "###**Binary sequence types-bytes,bytearray,memoryview**"
      ]
    },
    {
      "cell_type": "code",
      "metadata": {
        "id": "SCzXOT59AB-n",
        "colab_type": "code",
        "colab": {
          "base_uri": "https://localhost:8080/",
          "height": 105
        },
        "outputId": "1b26a537-27a0-41e6-8fb9-0bfb33bd49e2"
      },
      "source": [
        "bytevariabl=b'this value is for byte variable'\n",
        "var=bytes(24)\n",
        "\n",
        "print(type(bytevariabl))\n",
        "print(type(var))\n",
        "print(bytevariabl)\n",
        "print(var)"
      ],
      "execution_count": null,
      "outputs": [
        {
          "output_type": "stream",
          "text": [
            "<class 'bytes'>\n",
            "<class 'bytes'>\n",
            "b'this value is for byte variable'\n",
            "b'\\x00\\x00\\x00\\x00\\x00\\x00\\x00\\x00\\x00\\x00\\x00\\x00\\x00\\x00\\x00\\x00\\x00\\x00\\x00\\x00\\x00\\x00\\x00\\x00'\n"
          ],
          "name": "stdout"
        }
      ]
    },
    {
      "cell_type": "code",
      "metadata": {
        "id": "sEokMVvYCSiz",
        "colab_type": "code",
        "colab": {
          "base_uri": "https://localhost:8080/",
          "height": 34
        },
        "outputId": "3e4d7af1-71b8-4e46-f27b-61a39f46880f"
      },
      "source": [
        "print(bytes.fromhex('2Ef0 F1f2')) # Hex to bytes"
      ],
      "execution_count": null,
      "outputs": [
        {
          "output_type": "stream",
          "text": [
            "b'.\\xf0\\xf1\\xf2'\n"
          ],
          "name": "stdout"
        }
      ]
    },
    {
      "cell_type": "code",
      "metadata": {
        "id": "u65wWtn6DBLU",
        "colab_type": "code",
        "colab": {
          "base_uri": "https://localhost:8080/",
          "height": 34
        },
        "outputId": "41d3bcda-1aaf-4c88-cc80-74fa5b019ad6"
      },
      "source": [
        "b'.\\xf0\\xf1\\xf2'.hex() # Byte to hex"
      ],
      "execution_count": null,
      "outputs": [
        {
          "output_type": "execute_result",
          "data": {
            "text/plain": [
              "'2ef0f1f2'"
            ]
          },
          "metadata": {
            "tags": []
          },
          "execution_count": 16
        }
      ]
    },
    {
      "cell_type": "markdown",
      "metadata": {
        "id": "o0qSI8FoB2IA",
        "colab_type": "text"
      },
      "source": [
        "###**Set types-set, frozenset**"
      ]
    },
    {
      "cell_type": "code",
      "metadata": {
        "id": "jnA3M3P2FkOv",
        "colab_type": "code",
        "colab": {
          "base_uri": "https://localhost:8080/",
          "height": 136
        },
        "outputId": "35495132-c4ea-4a95-f5b5-19654fbdecb0"
      },
      "source": [
        "#Set\n",
        "a=[1,2,3,4]\n",
        "set1=set(a)\n",
        "print(type(set1))\n",
        "\n",
        "a={'one','two','three'}\n",
        "print(type(a))\n",
        "\n",
        "\n",
        "\n",
        "c={1,2,3,4,5}\n",
        "d={1,2,3}\n",
        "print(c.isdisjoint(d))\n",
        "print(d.issubset(c))\n",
        "print(d.union(c))\n",
        "print(d.intersection(c))\n",
        "print(c.difference(d))"
      ],
      "execution_count": null,
      "outputs": [
        {
          "output_type": "stream",
          "text": [
            "<class 'set'>\n",
            "<class 'set'>\n",
            "False\n",
            "True\n",
            "{1, 2, 3, 4, 5}\n",
            "{1, 2, 3}\n",
            "{4, 5}\n"
          ],
          "name": "stdout"
        }
      ]
    },
    {
      "cell_type": "code",
      "metadata": {
        "id": "FjLEkhZaGmOW",
        "colab_type": "code",
        "colab": {
          "base_uri": "https://localhost:8080/",
          "height": 34
        },
        "outputId": "5ee12b92-1751-4a4e-c517-3a3527a248f6"
      },
      "source": [
        "#Frozenset\n",
        "\n",
        "a=[1,2,3,4]\n",
        "fset=frozenset(a)\n",
        "print(type(fset))"
      ],
      "execution_count": null,
      "outputs": [
        {
          "output_type": "stream",
          "text": [
            "<class 'frozenset'>\n"
          ],
          "name": "stdout"
        }
      ]
    },
    {
      "cell_type": "markdown",
      "metadata": {
        "id": "YbKmhQK2B19Q",
        "colab_type": "text"
      },
      "source": [
        "###**Mapping types-dict**\n"
      ]
    },
    {
      "cell_type": "code",
      "metadata": {
        "id": "Ky_BL19LIr9c",
        "colab_type": "code",
        "colab": {
          "base_uri": "https://localhost:8080/",
          "height": 34
        },
        "outputId": "bf8c19b9-0628-4a2b-db37-624e5ddfee7f"
      },
      "source": [
        " a = dict(one=1, two=2, three=3)\n",
        "b = {'one': 1, 'two': 2, 'three': 3}\n",
        "c = dict(zip(['one', 'two', 'three'], [1, 2, 3]))\n",
        "d = dict([('two', 2), ('one', 1), ('three', 3)])\n",
        "e = dict({'three': 3, 'one': 1, 'two': 2})\n",
        "a == b == c == d == e"
      ],
      "execution_count": null,
      "outputs": [
        {
          "output_type": "execute_result",
          "data": {
            "text/plain": [
              "True"
            ]
          },
          "metadata": {
            "tags": []
          },
          "execution_count": 31
        }
      ]
    },
    {
      "cell_type": "markdown",
      "metadata": {
        "id": "tYBuSt-AB1y2",
        "colab_type": "text"
      },
      "source": [
        "###**Context Manager types**"
      ]
    },
    {
      "cell_type": "code",
      "metadata": {
        "id": "CPQ-6nNUJ_eL",
        "colab_type": "code",
        "colab": {}
      },
      "source": [
        "# with open() as f:\n",
        "#   data=f.read()"
      ],
      "execution_count": null,
      "outputs": []
    },
    {
      "cell_type": "markdown",
      "metadata": {
        "id": "Oi24kTUgB1mW",
        "colab_type": "text"
      },
      "source": [
        "###**Other Built-in types**\n",
        "\n",
        "\n",
        "The interpreter supports several other kinds of objects. Most of these support only one or two operations."
      ]
    },
    {
      "cell_type": "markdown",
      "metadata": {
        "id": "pqYPGAK_MTH7",
        "colab_type": "text"
      },
      "source": [
        "Modules\n",
        "\n",
        "The only special operation on a module is attribute access: m.name, where m is a module and name accesses a name defined in m’s symbol table."
      ]
    },
    {
      "cell_type": "code",
      "metadata": {
        "id": "MqiVeT5QMLdY",
        "colab_type": "code",
        "colab": {}
      },
      "source": [
        ""
      ],
      "execution_count": null,
      "outputs": []
    },
    {
      "cell_type": "markdown",
      "metadata": {
        "id": "tvgtkAcCB1Tk",
        "colab_type": "text"
      },
      "source": [
        "###**Special attributes**"
      ]
    },
    {
      "cell_type": "markdown",
      "metadata": {
        "id": "3G2HfvXXHlSq",
        "colab_type": "text"
      },
      "source": [
        "## **Built-in Exceptions(apabad hunya kura lai handle garxa)**\n",
        "\n",
        "* Exception le kasto error accept garxa tyo tha pauni ra teslai handle garni ok."
      ]
    },
    {
      "cell_type": "markdown",
      "metadata": {
        "id": "Djh5IFDwN1gG",
        "colab_type": "text"
      },
      "source": [
        "###**Base classes**"
      ]
    },
    {
      "cell_type": "code",
      "metadata": {
        "id": "il6Am6HRa1Sy",
        "colab_type": "code",
        "colab": {
          "base_uri": "https://localhost:8080/",
          "height": 51
        },
        "outputId": "80be6673-2601-48c5-d5ba-da40152168b8"
      },
      "source": [
        "try :\n",
        "\n",
        "  #You do your operations here\n",
        "  z=1/0\n",
        "except ZeroDivisionError as err: # most part\n",
        "\n",
        "#except ArtithmeticError\n",
        "#except BufferError\n",
        "#except LookupError...\n",
        "\n",
        "  #  If there is any exception from the given exception list, \n",
        "  #  then execute this block.\n",
        "  print('Handling run-time error:', err)\n",
        "else:\n",
        "  print('sucess')\n",
        "  # If there is no exception then execute this block.\n",
        "\n",
        "finally:\n",
        "  print('this execute nessecary')\n",
        "  #This would always be executed."
      ],
      "execution_count": null,
      "outputs": [
        {
          "output_type": "stream",
          "text": [
            "Handling run-time error: division by zero\n",
            "this execute nessecary\n"
          ],
          "name": "stdout"
        }
      ]
    },
    {
      "cell_type": "code",
      "metadata": {
        "id": "h5n1V7I9phZC",
        "colab_type": "code",
        "colab": {
          "base_uri": "https://localhost:8080/",
          "height": 51
        },
        "outputId": "d0901859-4a42-49c3-8d7b-90c190bee8b0"
      },
      "source": [
        "try :\n",
        "\n",
        "  #You do your operations here\n",
        "  z=1/2\n",
        "except ZeroDivisionError as err:\n",
        "\n",
        "#except ArtithmeticError\n",
        "#except BufferError\n",
        "#except LookupError...\n",
        "\n",
        "  #  If there is any exception from the given exception list, \n",
        "  #  then execute this block.\n",
        "  print('Handling run-time error:', err)\n",
        "else:\n",
        "  print('sucess')\n",
        "  # If there is no exception then execute this block.\n",
        "\n",
        "finally:\n",
        "  print('this execute nessecary')\n",
        "  #This would always be executed."
      ],
      "execution_count": null,
      "outputs": [
        {
          "output_type": "stream",
          "text": [
            "sucess\n",
            "this execute nessecary\n"
          ],
          "name": "stdout"
        }
      ]
    },
    {
      "cell_type": "code",
      "metadata": {
        "id": "55P3pvAyiS5t",
        "colab_type": "code",
        "colab": {
          "base_uri": "https://localhost:8080/",
          "height": 217
        },
        "outputId": "618be6ff-2630-42c2-9418-e6706ced8570"
      },
      "source": [
        "#The raise statement allows the programmer to force a specified exception to occur.\n",
        "\n",
        "#assert Expression[, Arguments]\n",
        "\n",
        "raise NameError('HiThere') "
      ],
      "execution_count": null,
      "outputs": [
        {
          "output_type": "error",
          "ename": "NameError",
          "evalue": "ignored",
          "traceback": [
            "\u001b[0;31m---------------------------------------------------------------------------\u001b[0m",
            "\u001b[0;31mNameError\u001b[0m                                 Traceback (most recent call last)",
            "\u001b[0;32m<ipython-input-1-5a4483c37bfd>\u001b[0m in \u001b[0;36m<module>\u001b[0;34m()\u001b[0m\n\u001b[1;32m      3\u001b[0m \u001b[0;31m#assert Expression[, Arguments]\u001b[0m\u001b[0;34m\u001b[0m\u001b[0;34m\u001b[0m\u001b[0;34m\u001b[0m\u001b[0m\n\u001b[1;32m      4\u001b[0m \u001b[0;34m\u001b[0m\u001b[0m\n\u001b[0;32m----> 5\u001b[0;31m \u001b[0;32mraise\u001b[0m \u001b[0mNameError\u001b[0m\u001b[0;34m(\u001b[0m\u001b[0;34m'HiThere'\u001b[0m\u001b[0;34m)\u001b[0m\u001b[0;34m\u001b[0m\u001b[0;34m\u001b[0m\u001b[0m\n\u001b[0m",
            "\u001b[0;31mNameError\u001b[0m: HiThere"
          ]
        }
      ]
    },
    {
      "cell_type": "markdown",
      "metadata": {
        "id": "W1YznJIsxSQn",
        "colab_type": "text"
      },
      "source": [
        "###**Concrete exceptions**\n",
        "\n",
        "* The following exceptions are the exceptions that are usually raised.\n",
        "\n"
      ]
    },
    {
      "cell_type": "markdown",
      "metadata": {
        "id": "3_m4ZDUF0lAO",
        "colab_type": "text"
      },
      "source": [
        "**OS exceptions**"
      ]
    },
    {
      "cell_type": "markdown",
      "metadata": {
        "id": "Twmc-YFU0tAJ",
        "colab_type": "text"
      },
      "source": [
        "###**Warning**"
      ]
    },
    {
      "cell_type": "markdown",
      "metadata": {
        "id": "x-80gueS-DRH",
        "colab_type": "text"
      },
      "source": [
        "### **Exception hierarchy**"
      ]
    },
    {
      "cell_type": "markdown",
      "metadata": {
        "id": "4L5K26R22AHe",
        "colab_type": "text"
      },
      "source": [
        "## [**Text Processing Services**](https://docs.python.org/3/library/text.html)"
      ]
    },
    {
      "cell_type": "markdown",
      "metadata": {
        "id": "uvBL9SSW25M-",
        "colab_type": "text"
      },
      "source": [
        "###**String- common strig operations (Text sequence type- str)**"
      ]
    },
    {
      "cell_type": "code",
      "metadata": {
        "id": "-iT91E2FCrTE",
        "colab_type": "code",
        "colab": {
          "base_uri": "https://localhost:8080/",
          "height": 224
        },
        "outputId": "17091c18-8d5a-407b-e1db-0b07e1cfe278"
      },
      "source": [
        "import string\n",
        "\n",
        "print(string.ascii_letters)\n",
        "print(string.ascii_lowercase)\n",
        "print(string.ascii_uppercase)\n",
        "print(string.digits)\n",
        "print(string.octdigits)\n",
        "print(string.hexdigits)\n",
        "print(string.punctuation)\n",
        "print(string.printable)\n",
        "print(string.whitespace)"
      ],
      "execution_count": null,
      "outputs": [
        {
          "output_type": "stream",
          "text": [
            "abcdefghijklmnopqrstuvwxyzABCDEFGHIJKLMNOPQRSTUVWXYZ\n",
            "abcdefghijklmnopqrstuvwxyz\n",
            "ABCDEFGHIJKLMNOPQRSTUVWXYZ\n",
            "0123456789\n",
            "01234567\n",
            "0123456789abcdefABCDEF\n",
            "!\"#$%&'()*+,-./:;<=>?@[\\]^_`{|}~\n",
            "0123456789abcdefghijklmnopqrstuvwxyzABCDEFGHIJKLMNOPQRSTUVWXYZ!\"#$%&'()*+,-./:;<=>?@[\\]^_`{|}~ \t\n",
            "\r\u000b\f\n",
            " \t\n",
            "\r\u000b\f\n"
          ],
          "name": "stdout"
        }
      ]
    },
    {
      "cell_type": "markdown",
      "metadata": {
        "id": "Dn0wT6DExVom",
        "colab_type": "text"
      },
      "source": [
        "Use of text rocessing service"
      ]
    },
    {
      "cell_type": "code",
      "metadata": {
        "id": "MQyKm6O1ec-b",
        "colab_type": "code",
        "colab": {
          "base_uri": "https://localhost:8080/",
          "height": 34
        },
        "outputId": "4d933253-71c7-4267-9e35-e08b682d7a51"
      },
      "source": [
        "import string\n",
        "if 'a' in string.ascii_letters:\n",
        "  print('right')"
      ],
      "execution_count": null,
      "outputs": [
        {
          "output_type": "stream",
          "text": [
            "right\n"
          ],
          "name": "stdout"
        }
      ]
    },
    {
      "cell_type": "markdown",
      "metadata": {
        "id": "rL1mtuKUxoxS",
        "colab_type": "text"
      },
      "source": [
        "###**re-Regular expression operations**"
      ]
    },
    {
      "cell_type": "markdown",
      "metadata": {
        "id": "AR4FoU-iQn2L",
        "colab_type": "text"
      },
      "source": [
        "Regular expression syntax\n",
        "\n",
        "The special characters are:\n",
        "\n",
        "\n",
        "* .(dot): In the default mode, this matches any character except a newline. If the DOTALL flag has been specified, this matches any character including a newline.\n",
        "* ^ (Caret): Matches the start of the string, and in MULTILINE mode also matches immediately after each newline.\n",
        "*$ : Matches the end of the string or just before the newline at the end of the string, and in MULTILINE mode also matches before a newline.\n",
        "\n",
        "---\n",
        "General rule:\n",
        "\n",
        "* step0: import re\n",
        "\n",
        "* step1: prog=re.compile(pattern)\n",
        "* step2: result=prog.function(string)\n",
        "\n",
        "or,\n",
        "\n",
        "* step1: re.function(pattern,string,flags=0)\n"
      ]
    },
    {
      "cell_type": "markdown",
      "metadata": {
        "id": "4j8r9AHSXD2Q",
        "colab_type": "text"
      },
      "source": [
        ""
      ]
    },
    {
      "cell_type": "code",
      "metadata": {
        "id": "SE10XpvEyblP",
        "colab_type": "code",
        "colab": {
          "base_uri": "https://localhost:8080/",
          "height": 34
        },
        "outputId": "a2f9b37b-f9c4-44a8-bd98-9ebf2b85f823"
      },
      "source": [
        "import re"
      ],
      "execution_count": null,
      "outputs": [
        {
          "output_type": "stream",
          "text": [
            "YES! We have a match!\n"
          ],
          "name": "stdout"
        }
      ]
    },
    {
      "cell_type": "code",
      "metadata": {
        "id": "H2823p2WUYl7",
        "colab_type": "code",
        "colab": {
          "base_uri": "https://localhost:8080/",
          "height": 34
        },
        "outputId": "1407b84d-0ef2-4337-b69b-06da3f41c429"
      },
      "source": [
        "txt = \"The rain in Spain\"\n",
        "x = re.split(\"\\s\", txt)\n",
        "print(x)"
      ],
      "execution_count": null,
      "outputs": [
        {
          "output_type": "stream",
          "text": [
            "['The', 'rain', 'in', 'Spain']\n"
          ],
          "name": "stdout"
        }
      ]
    },
    {
      "cell_type": "markdown",
      "metadata": {
        "id": "fT8R9CjYXsw9",
        "colab_type": "text"
      },
      "source": [
        "Module contents\n",
        "\n",
        "The module defines several functions, constants, and an exception"
      ]
    },
    {
      "cell_type": "code",
      "metadata": {
        "id": "g13Vl7eBX2Xo",
        "colab_type": "code",
        "colab": {
          "base_uri": "https://localhost:8080/",
          "height": 34
        },
        "outputId": "9d9aa119-7010-497c-cb4e-de2b515fa18f"
      },
      "source": [
        "re.split(r'\\W+', 'Words, words, words.')"
      ],
      "execution_count": null,
      "outputs": [
        {
          "output_type": "execute_result",
          "data": {
            "text/plain": [
              "['Words', 'words', 'words', '']"
            ]
          },
          "metadata": {
            "tags": []
          },
          "execution_count": 32
        }
      ]
    },
    {
      "cell_type": "code",
      "metadata": {
        "id": "2Umh2DDCXruS",
        "colab_type": "code",
        "colab": {}
      },
      "source": [
        "txt = \"The rain in Spain\"\n",
        "x = re.search(\"^The.*Spain$\", txt)#Check if the string starts with \"The\" and ends with \"Spain\":\n",
        "\n",
        "if x:\n",
        "  print(\"YES! We have a match!\")\n",
        "else:\n",
        "  print(\"No match\")"
      ],
      "execution_count": null,
      "outputs": []
    },
    {
      "cell_type": "markdown",
      "metadata": {
        "id": "COAIXLSxY0wq",
        "colab_type": "text"
      },
      "source": [
        "###**difflib- Helper for computing deltas**"
      ]
    },
    {
      "cell_type": "markdown",
      "metadata": {
        "id": "yTGQmaawdfRt",
        "colab_type": "text"
      },
      "source": [
        "Compair two sequence and find similarities between two sequences.\n",
        "\n",
        "\n",
        "* SequenceMatcher(isjunk=None,a=' ',b=' ',autojunk=True)\n",
        "* isjunk is the set of elements \n",
        "* It always compair b with a. "
      ]
    },
    {
      "cell_type": "code",
      "metadata": {
        "id": "eccc3k_ekx7H",
        "colab_type": "code",
        "colab": {
          "base_uri": "https://localhost:8080/",
          "height": 34
        },
        "outputId": "d0547ea1-42ac-40d8-9a3e-c5f2f5da75b2"
      },
      "source": [
        "import difflib\n",
        "\n",
        "\n",
        "str1 = 'eabcd'\n",
        "str2 = 'abcde'\n",
        "seq = difflib.SequenceMatcher(a=str1, b=str2)\n",
        "print(seq.ratio())"
      ],
      "execution_count": null,
      "outputs": [
        {
          "output_type": "stream",
          "text": [
            "0.8\n"
          ],
          "name": "stdout"
        }
      ]
    },
    {
      "cell_type": "code",
      "metadata": {
        "id": "dMNaPfCxY8Cf",
        "colab_type": "code",
        "colab": {
          "base_uri": "https://localhost:8080/",
          "height": 34
        },
        "outputId": "c2410e6c-1d1f-4b49-9ea6-62f6eed63a41"
      },
      "source": [
        "s = difflib.SequenceMatcher(lambda x: x == \" \",\n",
        "                    \"private Thread currentThread;\",\n",
        "                    \"private volatile Thread currentThread;\")\n",
        "print(round(s.ratio(),3))"
      ],
      "execution_count": null,
      "outputs": [
        {
          "output_type": "stream",
          "text": [
            "0.866\n"
          ],
          "name": "stdout"
        }
      ]
    },
    {
      "cell_type": "markdown",
      "metadata": {
        "id": "CoaycF72lkjT",
        "colab_type": "text"
      },
      "source": [
        "### [**textwrap-Text wrapping and filling**](https://www.geeksforgeeks.org/textwrap-text-wrapping-filling-python/)\n",
        "\n",
        "\n",
        "When textwrap use?\n",
        "* Graphics ma help garxa "
      ]
    },
    {
      "cell_type": "code",
      "metadata": {
        "id": "hv5Cji8Tls_m",
        "colab_type": "code",
        "colab": {
          "base_uri": "https://localhost:8080/",
          "height": 476
        },
        "outputId": "db1a9734-2a4d-4e41-a819-789e1a045f15"
      },
      "source": [
        "import textwrap \n",
        "  \n",
        "value = \"\"\"This function wraps the input paragraph such that each line \n",
        "in the paragraph is at most width characters long. The wrap method \n",
        "returns a list of output lines. The returned list \n",
        "is empty if the wrapped \n",
        "output has no content.\"\"\"\n",
        "  \n",
        "# Wrap this text. \n",
        "wrapper = textwrap.TextWrapper(width=10) \n",
        "  \n",
        "word_list = wrapper.wrap(text=value) \n",
        "  \n",
        "# Print each line. \n",
        "for element in word_list: \n",
        "    print(element) "
      ],
      "execution_count": null,
      "outputs": [
        {
          "output_type": "stream",
          "text": [
            "This\n",
            "function\n",
            "wraps the\n",
            "input\n",
            "paragraph\n",
            "such that\n",
            "each line\n",
            "in the\n",
            "paragraph\n",
            "is at most\n",
            "width\n",
            "characters\n",
            "long. The\n",
            "wrap\n",
            "method\n",
            "returns a\n",
            "list of\n",
            "output\n",
            "lines. The\n",
            "returned\n",
            "list  is\n",
            "empty if\n",
            "the\n",
            "wrapped\n",
            "output has\n",
            "no\n",
            "content.\n"
          ],
          "name": "stdout"
        }
      ]
    },
    {
      "cell_type": "markdown",
      "metadata": {
        "id": "NQGXD4RZooCD",
        "colab_type": "text"
      },
      "source": [
        "###**Unicodedata-Unicode database**"
      ]
    },
    {
      "cell_type": "markdown",
      "metadata": {
        "id": "SymcCcmvptIu",
        "colab_type": "text"
      },
      "source": [
        "In digits \n",
        "\n",
        " 32=100000\n",
        "\n",
        " 2=10\n",
        "\n",
        " Then what is in string?\n",
        "\n",
        " how do we manipylate it?\n",
        "\n",
        "\n",
        "\n",
        "what is ASCII ?\n",
        "*  A=65,B=66,C=67,D=68...\n",
        "* ASCII uses 7 bit\n",
        "* so 7 bit represent 127 numbers \n",
        "* A=1000001=65\n",
        "\n",
        "why ASCII?\n",
        "*\n",
        "\n",
        "But there is problem in nepali,greek,arabic language and lots of emoji, symbol etc. So unicode arise \n",
        "\n",
        "What is unicode?\n",
        "* So 32 bit represent,Unicode represent 127 numbers same as ASCII + other \n",
        "\n",
        "32bits=2,147,483,647\n",
        "\n",
        "why unicode?\n",
        "\n",
        "* Represents lots of characters"
      ]
    },
    {
      "cell_type": "code",
      "metadata": {
        "id": "Nay8WPqVowb2",
        "colab_type": "code",
        "colab": {
          "base_uri": "https://localhost:8080/",
          "height": 68
        },
        "outputId": "61c5d002-22b8-4558-c63e-5e3578bdab84"
      },
      "source": [
        "import unicodedata \n",
        "   \n",
        "print(unicodedata.lookup('LEFT CURLY BRACKET')) #Name bata unicodedata ma vayako character,symbol nikalini\n",
        "print(unicodedata.lookup('RIGHT CURLY BRACKET'))\n",
        "print(unicodedata.lookup('ASTERISK')) "
      ],
      "execution_count": null,
      "outputs": [
        {
          "output_type": "stream",
          "text": [
            "{\n",
            "}\n",
            "*\n"
          ],
          "name": "stdout"
        }
      ]
    },
    {
      "cell_type": "code",
      "metadata": {
        "id": "MVHamtVGvdyQ",
        "colab_type": "code",
        "colab": {
          "base_uri": "https://localhost:8080/",
          "height": 34
        },
        "outputId": "6c400f43-81aa-4dba-8f3a-321d3b65c3a6"
      },
      "source": [
        "print(unicodedata.name('/')) # symbol,character lai k vaninxa ta unicode ma"
      ],
      "execution_count": null,
      "outputs": [
        {
          "output_type": "stream",
          "text": [
            "SOLIDUS\n"
          ],
          "name": "stdout"
        }
      ]
    },
    {
      "cell_type": "code",
      "metadata": {
        "id": "SN3oAdggvp1u",
        "colab_type": "code",
        "colab": {
          "base_uri": "https://localhost:8080/",
          "height": 34
        },
        "outputId": "66f418c0-eb01-4f4e-c003-0a01544f13c5"
      },
      "source": [
        "print(unicodedata.name('1'))"
      ],
      "execution_count": null,
      "outputs": [
        {
          "output_type": "stream",
          "text": [
            "DIGIT ONE\n"
          ],
          "name": "stdout"
        }
      ]
    },
    {
      "cell_type": "code",
      "metadata": {
        "id": "kjtRX60NvvyR",
        "colab_type": "code",
        "colab": {
          "base_uri": "https://localhost:8080/",
          "height": 34
        },
        "outputId": "3fde168a-ef28-405c-9820-9bcf0a8ca595"
      },
      "source": [
        "print(unicodedata.lookup('DIGIT ONE'))"
      ],
      "execution_count": null,
      "outputs": [
        {
          "output_type": "stream",
          "text": [
            "1\n"
          ],
          "name": "stdout"
        }
      ]
    },
    {
      "cell_type": "code",
      "metadata": {
        "id": "0Yc_lTmjv79s",
        "colab_type": "code",
        "colab": {
          "base_uri": "https://localhost:8080/",
          "height": 34
        },
        "outputId": "12d83e51-b426-4a73-a940-dcac9eb1149f"
      },
      "source": [
        "unicodedata.decimal('4')"
      ],
      "execution_count": null,
      "outputs": [
        {
          "output_type": "execute_result",
          "data": {
            "text/plain": [
              "4"
            ]
          },
          "metadata": {
            "tags": []
          },
          "execution_count": 58
        }
      ]
    },
    {
      "cell_type": "code",
      "metadata": {
        "id": "byrr7POVwIVq",
        "colab_type": "code",
        "colab": {
          "base_uri": "https://localhost:8080/",
          "height": 34
        },
        "outputId": "8a1aee18-8f83-4f31-8f95-8b9c77d292dc"
      },
      "source": [
        "unicodedata.category('A')  # 'L'etter, 'u'ppercase"
      ],
      "execution_count": null,
      "outputs": [
        {
          "output_type": "execute_result",
          "data": {
            "text/plain": [
              "'Lu'"
            ]
          },
          "metadata": {
            "tags": []
          },
          "execution_count": 59
        }
      ]
    },
    {
      "cell_type": "code",
      "metadata": {
        "id": "YwgCMmscwKq-",
        "colab_type": "code",
        "colab": {
          "base_uri": "https://localhost:8080/",
          "height": 34
        },
        "outputId": "18a9fe38-580f-4c3e-a218-ae274dc0d1fb"
      },
      "source": [
        "unicodedata.bidirectional('\\u0660') # 'A'rabic, 'N'umber"
      ],
      "execution_count": null,
      "outputs": [
        {
          "output_type": "execute_result",
          "data": {
            "text/plain": [
              "'AN'"
            ]
          },
          "metadata": {
            "tags": []
          },
          "execution_count": 60
        }
      ]
    },
    {
      "cell_type": "code",
      "metadata": {
        "id": "B4LIQs9XwVai",
        "colab_type": "code",
        "colab": {
          "base_uri": "https://localhost:8080/",
          "height": 183
        },
        "outputId": "26b3b82d-8a52-4518-a218-4263497ab706"
      },
      "source": [
        "unicodedata.bidirectional('\\का') # Nepali ko ni herni"
      ],
      "execution_count": null,
      "outputs": [
        {
          "output_type": "error",
          "ename": "TypeError",
          "evalue": "ignored",
          "traceback": [
            "\u001b[0;31m---------------------------------------------------------------------------\u001b[0m",
            "\u001b[0;31mTypeError\u001b[0m                                 Traceback (most recent call last)",
            "\u001b[0;32m<ipython-input-63-82042416347f>\u001b[0m in \u001b[0;36m<module>\u001b[0;34m()\u001b[0m\n\u001b[0;32m----> 1\u001b[0;31m \u001b[0municodedata\u001b[0m\u001b[0;34m.\u001b[0m\u001b[0mbidirectional\u001b[0m\u001b[0;34m(\u001b[0m\u001b[0;34m'\\का'\u001b[0m\u001b[0;34m)\u001b[0m \u001b[0;31m# Nepali ko ni herni\u001b[0m\u001b[0;34m\u001b[0m\u001b[0;34m\u001b[0m\u001b[0m\n\u001b[0m",
            "\u001b[0;31mTypeError\u001b[0m: bidirectional() argument must be a unicode character, not str"
          ]
        }
      ]
    },
    {
      "cell_type": "markdown",
      "metadata": {
        "id": "NcARODsbyH05",
        "colab_type": "text"
      },
      "source": [
        "###**Stringprep-Internet string preparation**"
      ]
    },
    {
      "cell_type": "markdown",
      "metadata": {
        "id": "GXQSt1kUy1vP",
        "colab_type": "text"
      },
      "source": [
        "To identify different things in the internet, it is necessary to compare different identification for equality. The comparison procedure depends on the application domain. For an example, some things are case-insensitive etc. To check these kind of information stringprep is used.\n",
        "\n",
        "The RFC 3454 defines the procedure to prepare the Unicode strings before transmitting through the wire. After going through the preparation procedure, they have a certain normalized form."
      ]
    },
    {
      "cell_type": "code",
      "metadata": {
        "id": "9KvIQY5J10re",
        "colab_type": "code",
        "colab": {
          "base_uri": "https://localhost:8080/",
          "height": 85
        },
        "outputId": "38f8adf6-5a59-424d-8f12-dc6a56cd2f87"
      },
      "source": [
        "import stringprep as sp\n",
        "print('\\u0020') #The space character\n",
        "print(sp.in_table_c11('\\u0020')) #It is inside the ASCII space characters\n",
        "print(sp.in_table_d2('L')) #Letter L has bidirectional property from left to right\n",
        "print(sp.in_table_d1('L')) #Letter L has no bidirectional property for right to left"
      ],
      "execution_count": null,
      "outputs": [
        {
          "output_type": "stream",
          "text": [
            " \n",
            "True\n",
            "True\n",
            "False\n"
          ],
          "name": "stdout"
        }
      ]
    },
    {
      "cell_type": "markdown",
      "metadata": {
        "id": "f8Ux1fYH2rPT",
        "colab_type": "text"
      },
      "source": [
        "###**readline-GNU readline interface**\n",
        "\n",
        "The readline module defines a number of functions to facilitate completion and reading/writing of history files from the Python interpreter."
      ]
    },
    {
      "cell_type": "code",
      "metadata": {
        "id": "O6pEVMDR32Rj",
        "colab_type": "code",
        "colab": {
          "base_uri": "https://localhost:8080/",
          "height": 34
        },
        "outputId": "ba1db490-9d6a-47a1-df74-5ed27380ce29"
      },
      "source": [
        "import readline as rl\n",
        "import os\n",
        "import atexit\n",
        "\n",
        "my_hist_file = os.path.join(os.path.expanduser(\"~\"), \".my_python_hist\")\n",
        "try:\n",
        "   rl.read_history_file(my_hist_file)\n",
        "   rl.clear_history()\n",
        "except FileNotFoundError:\n",
        "   pass\n",
        "    \n",
        "print(\"Done\")"
      ],
      "execution_count": null,
      "outputs": [
        {
          "output_type": "stream",
          "text": [
            "Done\n"
          ],
          "name": "stdout"
        }
      ]
    },
    {
      "cell_type": "markdown",
      "metadata": {
        "id": "Xo1XSQ7f-jHW",
        "colab_type": "text"
      },
      "source": [
        "### **rlcompleter — Completion function for GNU readline**"
      ]
    }
  ]
}