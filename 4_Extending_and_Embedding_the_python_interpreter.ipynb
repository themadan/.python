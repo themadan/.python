{
  "nbformat": 4,
  "nbformat_minor": 0,
  "metadata": {
    "colab": {
      "name": "4.Extending and Embedding the python interpreter.ipynb",
      "provenance": [],
      "collapsed_sections": [],
      "authorship_tag": "ABX9TyNWenEIEFVA02ZvUYiq1MJ3",
      "include_colab_link": true
    },
    "kernelspec": {
      "name": "python3",
      "display_name": "Python 3"
    }
  },
  "cells": [
    {
      "cell_type": "markdown",
      "metadata": {
        "id": "view-in-github",
        "colab_type": "text"
      },
      "source": [
        "<a href=\"https://colab.research.google.com/github/themadan/.python/blob/master/4_Extending_and_Embedding_the_python_interpreter.ipynb\" target=\"_parent\"><img src=\"https://colab.research.google.com/assets/colab-badge.svg\" alt=\"Open In Colab\"/></a>"
      ]
    },
    {
      "cell_type": "markdown",
      "metadata": {
        "id": "Y6uvBA88w2P8",
        "colab_type": "text"
      },
      "source": [
        "### [Extending and Embedding the python interpreter](https://docs.python.org/3/extending/index.html#extending-index)"
      ]
    }
  ]
}