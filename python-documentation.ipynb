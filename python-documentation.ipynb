{
  "nbformat": 4,
  "nbformat_minor": 0,
  "metadata": {
    "colab": {
      "name": "Untitled1.ipynb",
      "provenance": []
    },
    "kernelspec": {
      "name": "python3",
      "display_name": "Python 3"
    }
  },
  "cells": [
    {
      "cell_type": "markdown",
      "metadata": {
        "id": "K64ZfXmzidF0",
        "colab_type": "text"
      },
      "source": [
        "# **[python.org](https://www.python.org/)**"
      ]
    },
    {
      "cell_type": "markdown",
      "metadata": {
        "id": "NUEDf-O88ZuR",
        "colab_type": "text"
      },
      "source": [
        "# [pyhton documentation](https://docs.python.org/3/)"
      ]
    },
    {
      "cell_type": "markdown",
      "metadata": {
        "id": "vZ5j7zbwyuVP",
        "colab_type": "text"
      },
      "source": [
        "# **1.Datastructure**\n",
        "* C=create([],{},())\n",
        "* R=read(iterator.[],iterator.count())\n",
        "* U=update(iterator.insert(index,value)iterator.append(value),iterator.extend(iterator),iterator.sort(),iterator.reverse())\n",
        "* D=Delet(iterator.remove(value),iterator.pop([index]),iterator.clear())"
      ]
    },
    {
      "cell_type": "markdown",
      "metadata": {
        "id": "fRyD1EJSE1kr",
        "colab_type": "text"
      },
      "source": [
        "# **Parts of the documentation:**"
      ]
    },
    {
      "cell_type": "markdown",
      "metadata": {
        "id": "uLaWOeooELJ8",
        "colab_type": "text"
      },
      "source": [
        "## [**What's new in Python 3.8?**](https://docs.python.org/3/whatsnew/3.8.html)"
      ]
    },
    {
      "cell_type": "markdown",
      "metadata": {
        "id": "VLqBvd4DDw23",
        "colab_type": "text"
      },
      "source": [
        "## [**Tutorial**](https://docs.python.org/3/tutorial/index.html)"
      ]
    },
    {
      "cell_type": "markdown",
      "metadata": {
        "id": "PEGvwAE9iYPY",
        "colab_type": "text"
      },
      "source": [
        "### [Python Standard Library](https://docs.python.org/3/library/index.html#library-index)"
      ]
    },
    {
      "cell_type": "markdown",
      "metadata": {
        "id": "hj2CmEbvwE00",
        "colab_type": "text"
      },
      "source": [
        "### [Python Language Referrence](https://docs.python.org/3/reference/index.html#reference-index)"
      ]
    },
    {
      "cell_type": "markdown",
      "metadata": {
        "id": "Y6uvBA88w2P8",
        "colab_type": "text"
      },
      "source": [
        "### [Extending and Embedding the python interpreter](https://docs.python.org/3/extending/index.html#extending-index)"
      ]
    },
    {
      "cell_type": "markdown",
      "metadata": {
        "id": "Ib1mRUl8yZfD",
        "colab_type": "text"
      },
      "source": [
        "### [Python/C API Reference Manual](https://docs.python.org/3/c-api/index.html#c-api-index)"
      ]
    },
    {
      "cell_type": "markdown",
      "metadata": {
        "id": "BOvCFRbMzQhQ",
        "colab_type": "text"
      },
      "source": [
        "### [Glossary](https://docs.python.org/3/glossary.html#glossary)"
      ]
    },
    {
      "cell_type": "markdown",
      "metadata": {
        "id": "g2riSQtDzt0D",
        "colab_type": "text"
      },
      "source": [
        "Objective: moduls and programs"
      ]
    },
    {
      "cell_type": "markdown",
      "metadata": {
        "id": "yRl55z7-FHXB",
        "colab_type": "text"
      },
      "source": [
        "1.[Whetting Your Appetite](https://docs.python.org/3/tutorial/appetite.html)"
      ]
    },
    {
      "cell_type": "markdown",
      "metadata": {
        "id": "Eg5ZP6ZDFNHd",
        "colab_type": "text"
      },
      "source": [
        "2.[Using the Python Interpreter](https://docs.python.org/3/tutorial/interpreter.html)"
      ]
    },
    {
      "cell_type": "markdown",
      "metadata": {
        "id": "-fgAkNpAILdN",
        "colab_type": "text"
      },
      "source": [
        "2.1 [Invoking the Interpreter](https://docs.python.org/3/tutorial/interpreter.html#invoking-the-interpreter)"
      ]
    },
    {
      "cell_type": "markdown",
      "metadata": {
        "id": "2uKSWb8z3WmD",
        "colab_type": "text"
      },
      "source": [
        "* Start: python3.8<br>\n",
        "stop: quit()\n",
        "\n",
        "\n",
        "or<br> \n",
        "[command line and environment](https://docs.python.org/3/using/cmdline.html#using-on-general)\n",
        "* start: python -c command [arg]..\n",
        "\n",
        "or \n",
        "\n",
        "* pyton -m module [args] ...\n"
      ]
    },
    {
      "cell_type": "markdown",
      "metadata": {
        "id": "R8GHLuIYfrsx",
        "colab_type": "text"
      },
      "source": [
        "2.1.1 [Argument Passing ](https://docs.python.org/3/tutorial/interpreter.html#argument-passing)"
      ]
    },
    {
      "cell_type": "markdown",
      "metadata": {
        "id": "iY4oMTCivsN5",
        "colab_type": "text"
      },
      "source": [
        "**Note**"
      ]
    },
    {
      "cell_type": "markdown",
      "metadata": {
        "id": "YPXUFPCiu9-D",
        "colab_type": "text"
      },
      "source": [
        "\n",
        "\n",
        "```\n",
        "print()\n",
        "print(dir())\n",
        "however over function \n",
        "```\n",
        "\n"
      ]
    },
    {
      "cell_type": "markdown",
      "metadata": {
        "id": "4Jb241po19cz",
        "colab_type": "text"
      },
      "source": [
        "### [Python Standard Library](https://docs.python.org/3/library/index.html#library-index)"
      ]
    },
    {
      "cell_type": "markdown",
      "metadata": {
        "id": "-KOHETxw4GOM",
        "colab_type": "text"
      },
      "source": [
        "#### **Introduction**\n",
        "\n",
        "* The bulk of the library, however, consists of a collection of modules."
      ]
    },
    {
      "cell_type": "markdown",
      "metadata": {
        "id": "MuzjfEdr8IbA",
        "colab_type": "text"
      },
      "source": [
        "#### **Built-in Function(note: build function le k linxa ra k denxa tyo tha pauni)**"
      ]
    },
    {
      "cell_type": "markdown",
      "metadata": {
        "id": "46C6NCM0RInk",
        "colab_type": "text"
      },
      "source": [
        "* Pass arguments \n",
        "* accept return value"
      ]
    },
    {
      "cell_type": "code",
      "metadata": {
        "id": "qhbQl-YJfzlq",
        "colab_type": "code",
        "colab": {
          "base_uri": "https://localhost:8080/",
          "height": 119
        },
        "outputId": "52030e7f-235a-4091-d60b-583fb901fc2b"
      },
      "source": [
        "print(abs(-5))\n",
        "a=[1,2,3] \n",
        "print(all(a))# Return True if all elements of the iterable are true (or if the iterable is empty)\n",
        "b=['1',''] # An empty value has a Boolean value of False. element has true boolean value.\n",
        "print(all(b))\n",
        "c=['1','']\n",
        "print(any(c)) #Return True if any element of the iterable is true.\n",
        "#ascii() returns a string containing a printable representation of an object and escape the non-ASCII characters in the string using \\x, \\u or \\U escapes.\n",
        "#The ascii() function returns a readable version of any object (Strings, Tuples, Lists, etc).\n",
        "print(ascii('µ'))\n",
        "#Convert an integer number to a binary string prefixed with “0b”.\n",
        "print(bin(5))"
      ],
      "execution_count": 38,
      "outputs": [
        {
          "output_type": "stream",
          "text": [
            "5\n",
            "True\n",
            "False\n",
            "True\n",
            "'\\xb5'\n",
            "0b101\n"
          ],
          "name": "stdout"
        }
      ]
    },
    {
      "cell_type": "markdown",
      "metadata": {
        "id": "9DWk0WCjQC3h",
        "colab_type": "text"
      },
      "source": [
        "####**Built- in constants(auta fix value or fix chiz )**"
      ]
    },
    {
      "cell_type": "markdown",
      "metadata": {
        "id": "PEF_g9L0Q-WK",
        "colab_type": "text"
      },
      "source": [
        "A small number of constants live in the built-in namespace. They are:"
      ]
    },
    {
      "cell_type": "code",
      "metadata": {
        "id": "ih56CehhNKYE",
        "colab_type": "code",
        "colab": {
          "base_uri": "https://localhost:8080/",
          "height": 34
        },
        "outputId": "cbef11e7-30cb-49b6-d75d-00d2266057da"
      },
      "source": [
        "print(False)"
      ],
      "execution_count": 27,
      "outputs": [
        {
          "output_type": "stream",
          "text": [
            "False\n"
          ],
          "name": "stdout"
        }
      ]
    },
    {
      "cell_type": "markdown",
      "metadata": {
        "id": "VyyVWibjZs6o",
        "colab_type": "text"
      },
      "source": [
        "####**Built-in Types(eg: variable ko type bujni)**"
      ]
    },
    {
      "cell_type": "markdown",
      "metadata": {
        "id": "WYatsLJAx1Kf",
        "colab_type": "text"
      },
      "source": [
        "**Truth value testing**\n",
        "* Any object can be tested for truth value"
      ]
    },
    {
      "cell_type": "code",
      "metadata": {
        "id": "BLu34ypFx22m",
        "colab_type": "code",
        "colab": {
          "base_uri": "https://localhost:8080/",
          "height": 51
        },
        "outputId": "c6454458-30e6-4af8-998e-a503566a56f0"
      },
      "source": [
        "if 1==1:\n",
        "  print('test pass')\n",
        "\n",
        "while 1<2:\n",
        "  print('pass test')\n",
        "  break"
      ],
      "execution_count": 57,
      "outputs": [
        {
          "output_type": "stream",
          "text": [
            "test pass\n",
            "pass test\n"
          ],
          "name": "stdout"
        }
      ]
    },
    {
      "cell_type": "code",
      "metadata": {
        "id": "ZD0j7Jnny-bJ",
        "colab_type": "code",
        "colab": {
          "base_uri": "https://localhost:8080/",
          "height": 51
        },
        "outputId": "e5d71aaf-c690-4135-9b29-f5f17fb17523"
      },
      "source": [
        "test=True\n",
        "print(test.__bool__())\n",
        "\n",
        "tes=[1,2,3]\n",
        "print(tes.__len__())"
      ],
      "execution_count": 63,
      "outputs": [
        {
          "output_type": "stream",
          "text": [
            "True\n",
            "3\n"
          ],
          "name": "stdout"
        }
      ]
    },
    {
      "cell_type": "markdown",
      "metadata": {
        "id": "WTWFMTA4zqFs",
        "colab_type": "text"
      },
      "source": [
        "**Boolean operation-and,or,not**\n",
        "\n",
        "* take value/s\n",
        "* return true or false"
      ]
    },
    {
      "cell_type": "code",
      "metadata": {
        "id": "1EeU3N_FYz9J",
        "colab_type": "code",
        "colab": {
          "base_uri": "https://localhost:8080/",
          "height": 170
        },
        "outputId": "7fe21d6d-f8f2-4b12-af2e-c2dfa71d77b1"
      },
      "source": [
        " print(True or False)\n",
        "print(False or False)\n",
        "print(True and True)\n",
        "print(not True)"
      ],
      "execution_count": 35,
      "outputs": [
        {
          "output_type": "stream",
          "text": [
            "True\n",
            "False\n",
            "True\n",
            "False\n",
            "True\n",
            "False\n",
            "True\n",
            "True\n",
            "3\n"
          ],
          "name": "stdout"
        }
      ]
    },
    {
      "cell_type": "markdown",
      "metadata": {
        "id": "ZsO2SIJAz5MU",
        "colab_type": "text"
      },
      "source": [
        "**comparisons**\n",
        "\n",
        "* take value/s\n",
        "* return true or false"
      ]
    },
    {
      "cell_type": "code",
      "metadata": {
        "id": "SXxYOn_dz5rC",
        "colab_type": "code",
        "colab": {
          "base_uri": "https://localhost:8080/",
          "height": 85
        },
        "outputId": "3cdfd2a7-150e-47c3-bb65-1be5544ee270"
      },
      "source": [
        "print(1==1)\n",
        "print(1==2)\n",
        "print(1<2)\n",
        "print(1 is 1)"
      ],
      "execution_count": 64,
      "outputs": [
        {
          "output_type": "stream",
          "text": [
            "True\n",
            "False\n",
            "True\n",
            "True\n"
          ],
          "name": "stdout"
        }
      ]
    },
    {
      "cell_type": "markdown",
      "metadata": {
        "id": "u4jSjbo_qsfb",
        "colab_type": "text"
      },
      "source": [
        "**Numerical types-int,float,complex**"
      ]
    },
    {
      "cell_type": "code",
      "metadata": {
        "id": "OXDHbe2DoV5Z",
        "colab_type": "code",
        "colab": {
          "base_uri": "https://localhost:8080/",
          "height": 68
        },
        "outputId": "17f857ab-f654-431c-fb89-78cdb0335ec7"
      },
      "source": [
        "# Numeric types-int,float,complex \n",
        "a=2 #int\n",
        "b=1.34 #float\n",
        "\n",
        "z=1+2j # complex number\n",
        "k=complex(3,4)\n",
        "print(z.real)\n",
        "print(z.imag)\n",
        "print(z,k)"
      ],
      "execution_count": 44,
      "outputs": [
        {
          "output_type": "stream",
          "text": [
            "1.0\n",
            "2.0\n",
            "(1+2j) (3+4j)\n"
          ],
          "name": "stdout"
        }
      ]
    },
    {
      "cell_type": "markdown",
      "metadata": {
        "id": "JgJiRoS4qwjS",
        "colab_type": "text"
      },
      "source": [
        "**Iterator types**\n",
        "\n",
        "* create iterator object of an items\n",
        "* access the iterator items"
      ]
    },
    {
      "cell_type": "code",
      "metadata": {
        "id": "2JgYT8MuaRCw",
        "colab_type": "code",
        "colab": {
          "base_uri": "https://localhost:8080/",
          "height": 119
        },
        "outputId": "4f301a49-e5f1-48a0-a9f0-800f9a2894a3"
      },
      "source": [
        "#Iterator types\n",
        "i=[1,2,3,4]\n",
        "it=iter(i)\n",
        "print(it)\n",
        "print(it.__next__())\n",
        "print(it.__next__())\n",
        "print(it.__next__())\n",
        "\n",
        "print(next(it))\n",
        "\n",
        "\n",
        "itt=i.__iter__()\n",
        "print()"
      ],
      "execution_count": 53,
      "outputs": [
        {
          "output_type": "stream",
          "text": [
            "<list_iterator object at 0x7f822bed20b8>\n",
            "1\n",
            "2\n",
            "3\n",
            "4\n",
            "<list_iterator object at 0x7f822bed20b8>\n"
          ],
          "name": "stdout"
        }
      ]
    },
    {
      "cell_type": "markdown",
      "metadata": {
        "id": "Amw7fYb3_2Tn",
        "colab_type": "text"
      },
      "source": [
        "Generator Types"
      ]
    },
    {
      "cell_type": "markdown",
      "metadata": {
        "id": "Q72pxepf28y_",
        "colab_type": "text"
      },
      "source": [
        "**Sequence Types-list,tuple,range**"
      ]
    },
    {
      "cell_type": "markdown",
      "metadata": {
        "id": "uMP7R0x85qrv",
        "colab_type": "text"
      },
      "source": [
        "Common sequence operation"
      ]
    },
    {
      "cell_type": "code",
      "metadata": {
        "id": "qllH7WsRsLn4",
        "colab_type": "code",
        "colab": {
          "base_uri": "https://localhost:8080/",
          "height": 221
        },
        "outputId": "9e4617b0-c56c-45ab-a0a9-8a30a2d09d06"
      },
      "source": [
        "l=[1,2,3,4,5]\n",
        "l1=[6,7,8,9]\n",
        "\n",
        "print(1 in l)\n",
        "print(1 not in l)\n",
        "print(l + l1)\n",
        "print( l * 2)\n",
        "print(l[2])\n",
        "print(l[0:1])\n",
        "print(l[0:4:2])\n",
        "print(len(l))\n",
        "print(min(l))\n",
        "print(max(l))\n",
        "print(l.index(1))\n",
        "print(l.count(1))"
      ],
      "execution_count": 78,
      "outputs": [
        {
          "output_type": "stream",
          "text": [
            "True\n",
            "False\n",
            "[1, 2, 3, 4, 5, 6, 7, 8, 9]\n",
            "[1, 2, 3, 4, 5, 1, 2, 3, 4, 5]\n",
            "3\n",
            "[1]\n",
            "[1, 3]\n",
            "5\n",
            "1\n",
            "5\n",
            "0\n",
            "1\n"
          ],
          "name": "stdout"
        }
      ]
    },
    {
      "cell_type": "markdown",
      "metadata": {
        "id": "8qMlpLjt28rY",
        "colab_type": "text"
      },
      "source": [
        "Immutable sequence types"
      ]
    },
    {
      "cell_type": "markdown",
      "metadata": {
        "id": "GiEGxo_Z55-c",
        "colab_type": "text"
      },
      "source": [
        "* hash()\n",
        "* tuple"
      ]
    },
    {
      "cell_type": "markdown",
      "metadata": {
        "id": "U_MNRrhS6Thu",
        "colab_type": "text"
      },
      "source": [
        "Mutable sequence types"
      ]
    },
    {
      "cell_type": "code",
      "metadata": {
        "id": "vyBiLd0_5yWf",
        "colab_type": "code",
        "colab": {
          "base_uri": "https://localhost:8080/",
          "height": 241
        },
        "outputId": "6aa8045e-674b-4d1e-f7ce-60c485c02864"
      },
      "source": [
        "a=[1,2,3,4,5,6,7,8,9]\n",
        "b=[0,'a','b']\n",
        "\n",
        "a[0]=0\n",
        "print(a)\n",
        "\n",
        "\n",
        "a[0:6]=['a','b','c','d','e']\n",
        "print(a)\n",
        "\n",
        "\n",
        "a[0:6:2]=[1,2,3]\n",
        "print(a)\n",
        "\n",
        "del a[0:6:2]\n",
        "print(a)\n",
        "\n",
        "a.append(0)\n",
        "print(a)\n",
        "\n",
        "\n",
        "a.copy()\n",
        "print(a)\n",
        "\n",
        "a.extend(b)\n",
        "print(a)\n",
        "\n",
        "\n",
        "a*=2\n",
        "print(a)\n",
        "\n",
        "\n",
        "a.insert(5,'insert')\n",
        "print(a)\n",
        "\n",
        "\n",
        "print(a.pop())\n",
        "\n",
        "\n",
        "a.remove('b')\n",
        "print(a)\n",
        "\n",
        "a.reverse()\n",
        "print(a)\n",
        "# a.clear(a)\n",
        "# print(a)"
      ],
      "execution_count": 106,
      "outputs": [
        {
          "output_type": "stream",
          "text": [
            "[0, 2, 3, 4, 5, 6, 7, 8, 9]\n",
            "['a', 'b', 'c', 'd', 'e', 7, 8, 9]\n",
            "[1, 'b', 2, 'd', 3, 7, 8, 9]\n",
            "['b', 'd', 7, 8, 9]\n",
            "['b', 'd', 7, 8, 9, 0]\n",
            "['b', 'd', 7, 8, 9, 0]\n",
            "['b', 'd', 7, 8, 9, 0, 0, 'a', 'b']\n",
            "['b', 'd', 7, 8, 9, 0, 0, 'a', 'b', 'b', 'd', 7, 8, 9, 0, 0, 'a', 'b']\n",
            "['b', 'd', 7, 8, 9, 'insert', 0, 0, 'a', 'b', 'b', 'd', 7, 8, 9, 0, 0, 'a', 'b']\n",
            "b\n",
            "['d', 7, 8, 9, 'insert', 0, 0, 'a', 'b', 'b', 'd', 7, 8, 9, 0, 0, 'a']\n",
            "['a', 0, 0, 9, 8, 7, 'd', 'b', 'b', 'a', 0, 0, 'insert', 9, 8, 7, 'd']\n"
          ],
          "name": "stdout"
        }
      ]
    },
    {
      "cell_type": "markdown",
      "metadata": {
        "id": "r8jMA9OB28gj",
        "colab_type": "text"
      },
      "source": [
        "List\n",
        "\n",
        "* Using a pair of square brackets to denote the empty list: []\n",
        "\n",
        "* Using square brackets, separating items with commas: [a], [a, b, c]\n",
        "\n",
        "* Using a list comprehension: [x for x in iterable]\n",
        "\n",
        "* Using the type constructor: list() or list(iterable)"
      ]
    },
    {
      "cell_type": "code",
      "metadata": {
        "id": "wRXZ89_M-3as",
        "colab_type": "code",
        "colab": {}
      },
      "source": [
        ""
      ],
      "execution_count": null,
      "outputs": []
    },
    {
      "cell_type": "markdown",
      "metadata": {
        "id": "G-MMkLuC28N4",
        "colab_type": "text"
      },
      "source": [
        "Tuples \n",
        "\n",
        "\n",
        "* Using a pair of parentheses to denote the empty tuple: ()\n",
        "\n",
        "* Using a trailing comma for a singleton tuple: a, or (a,)\n",
        "\n",
        "* Separating items with commas: a, b, c or (a, b, c)\n",
        "\n",
        "* Using the tuple() built-in: tuple() or tuple(iterable)\n"
      ]
    },
    {
      "cell_type": "code",
      "metadata": {
        "id": "JQ0l9lN5_OKN",
        "colab_type": "code",
        "colab": {}
      },
      "source": [
        ""
      ],
      "execution_count": null,
      "outputs": []
    },
    {
      "cell_type": "markdown",
      "metadata": {
        "id": "ygHgMf9s-1b1",
        "colab_type": "text"
      },
      "source": [
        "Ranges \n",
        "\n",
        "* start\n",
        "* stop\n",
        "* step"
      ]
    },
    {
      "cell_type": "code",
      "metadata": {
        "id": "icVKPfN-AxPp",
        "colab_type": "code",
        "colab": {}
      },
      "source": [
        ""
      ],
      "execution_count": null,
      "outputs": []
    },
    {
      "cell_type": "markdown",
      "metadata": {
        "id": "Xl_x9_12-155",
        "colab_type": "text"
      },
      "source": [
        "**Text sequence type -str**"
      ]
    },
    {
      "cell_type": "markdown",
      "metadata": {
        "id": "h4FZpLkeBfxM",
        "colab_type": "text"
      },
      "source": [
        "String methods"
      ]
    },
    {
      "cell_type": "code",
      "metadata": {
        "id": "yPmvSbjiBmFa",
        "colab_type": "code",
        "colab": {}
      },
      "source": [
        ""
      ],
      "execution_count": null,
      "outputs": []
    },
    {
      "cell_type": "markdown",
      "metadata": {
        "id": "IuFbGxSc-2Oe",
        "colab_type": "text"
      },
      "source": [
        "**Binary sequence types-bytes,bytearray,memoryview**"
      ]
    },
    {
      "cell_type": "markdown",
      "metadata": {
        "id": "o0qSI8FoB2IA",
        "colab_type": "text"
      },
      "source": [
        "**Set types-set, frozenset**"
      ]
    },
    {
      "cell_type": "markdown",
      "metadata": {
        "id": "YbKmhQK2B19Q",
        "colab_type": "text"
      },
      "source": [
        "**Mapping types-dict**\n"
      ]
    },
    {
      "cell_type": "markdown",
      "metadata": {
        "id": "tYBuSt-AB1y2",
        "colab_type": "text"
      },
      "source": [
        "**Context Manager types**"
      ]
    },
    {
      "cell_type": "markdown",
      "metadata": {
        "id": "Oi24kTUgB1mW",
        "colab_type": "text"
      },
      "source": [
        "**Other Built-in types**"
      ]
    },
    {
      "cell_type": "markdown",
      "metadata": {
        "id": "tvgtkAcCB1Tk",
        "colab_type": "text"
      },
      "source": [
        "**Special attributes**"
      ]
    },
    {
      "cell_type": "markdown",
      "metadata": {
        "id": "3G2HfvXXHlSq",
        "colab_type": "text"
      },
      "source": [
        ""
      ]
    },
    {
      "cell_type": "markdown",
      "metadata": {
        "id": "AYQQ1tXoyzfz",
        "colab_type": "text"
      },
      "source": [
        "# A.Using List as a Stacks(LIFO)"
      ]
    },
    {
      "cell_type": "code",
      "metadata": {
        "id": "XIYhjkqJheXz",
        "colab_type": "code",
        "colab": {
          "base_uri": "https://localhost:8080/",
          "height": 52
        },
        "outputId": "5047fc80-d899-4d92-9dd5-ed716df96395"
      },
      "source": [
        "stack=[1,2,3,4]\n",
        "print(stack)\n",
        "stack.append(5)\n",
        "print(stack)"
      ],
      "execution_count": null,
      "outputs": [
        {
          "output_type": "stream",
          "text": [
            "[1, 2, 3, 4]\n",
            "[1, 2, 3, 4, 5]\n"
          ],
          "name": "stdout"
        }
      ]
    },
    {
      "cell_type": "code",
      "metadata": {
        "id": "5jisZ7xD812Q",
        "colab_type": "code",
        "colab": {
          "base_uri": "https://localhost:8080/",
          "height": 34
        },
        "outputId": "168b82ba-5f4b-4430-be28-a9d5064ddebd"
      },
      "source": [
        "stack.append(6)\n",
        "print(stack)"
      ],
      "execution_count": null,
      "outputs": [
        {
          "output_type": "stream",
          "text": [
            "[1, 2, 3, 4, 5, 6]\n"
          ],
          "name": "stdout"
        }
      ]
    },
    {
      "cell_type": "code",
      "metadata": {
        "id": "uvt-wIATzaOz",
        "colab_type": "code",
        "colab": {
          "base_uri": "https://localhost:8080/",
          "height": 34
        },
        "outputId": "0896db4d-0393-4a98-c4aa-8e707299703d"
      },
      "source": [
        "stack.pop()"
      ],
      "execution_count": null,
      "outputs": [
        {
          "output_type": "execute_result",
          "data": {
            "text/plain": [
              "6"
            ]
          },
          "metadata": {
            "tags": []
          },
          "execution_count": 5
        }
      ]
    },
    {
      "cell_type": "code",
      "metadata": {
        "id": "Th5GZs2bzdMb",
        "colab_type": "code",
        "colab": {
          "base_uri": "https://localhost:8080/",
          "height": 34
        },
        "outputId": "66077e97-57e2-4686-a849-0a4614c2aa15"
      },
      "source": [
        "stack.pop()"
      ],
      "execution_count": null,
      "outputs": [
        {
          "output_type": "execute_result",
          "data": {
            "text/plain": [
              "5"
            ]
          },
          "metadata": {
            "tags": []
          },
          "execution_count": 6
        }
      ]
    },
    {
      "cell_type": "markdown",
      "metadata": {
        "id": "4Gyx_E_3zhbD",
        "colab_type": "text"
      },
      "source": [
        "# B.Using List as Queues(FIFO)\n",
        "* To implement a queue, use collections.deque which was designed to have fast appends and pops from both ends."
      ]
    },
    {
      "cell_type": "code",
      "metadata": {
        "id": "_AN0HOjxzf33",
        "colab_type": "code",
        "colab": {}
      },
      "source": [
        "from collections  import deque\n",
        "queue=deque(['madan','tapendra']) # dequeue le queue type collection banauxa"
      ],
      "execution_count": null,
      "outputs": []
    },
    {
      "cell_type": "code",
      "metadata": {
        "id": "2pi9407U0BnT",
        "colab_type": "code",
        "colab": {}
      },
      "source": [
        "queue.append('rajkala')"
      ],
      "execution_count": null,
      "outputs": []
    },
    {
      "cell_type": "code",
      "metadata": {
        "id": "ltN1cwoc0Gj8",
        "colab_type": "code",
        "colab": {
          "base_uri": "https://localhost:8080/",
          "height": 34
        },
        "outputId": "1c456244-24b6-45c0-c9c3-061775cc1e26"
      },
      "source": [
        "print(queue)"
      ],
      "execution_count": null,
      "outputs": [
        {
          "output_type": "stream",
          "text": [
            "deque(['madan', 'tapendra', 'rajkala'])\n"
          ],
          "name": "stdout"
        }
      ]
    },
    {
      "cell_type": "code",
      "metadata": {
        "id": "YuICn0La0J3_",
        "colab_type": "code",
        "colab": {
          "base_uri": "https://localhost:8080/",
          "height": 34
        },
        "outputId": "4f902d91-2cef-4c2c-fde3-0075b13a2133"
      },
      "source": [
        "queue.popleft()"
      ],
      "execution_count": null,
      "outputs": [
        {
          "output_type": "execute_result",
          "data": {
            "text/plain": [
              "'madan'"
            ]
          },
          "metadata": {
            "tags": []
          },
          "execution_count": 20
        }
      ]
    },
    {
      "cell_type": "code",
      "metadata": {
        "id": "Luo018Kh0O1r",
        "colab_type": "code",
        "colab": {
          "base_uri": "https://localhost:8080/",
          "height": 34
        },
        "outputId": "d75c61b8-e988-49eb-bc20-fc52d3707c89"
      },
      "source": [
        "queue.pop()"
      ],
      "execution_count": null,
      "outputs": [
        {
          "output_type": "execute_result",
          "data": {
            "text/plain": [
              "'rajkala'"
            ]
          },
          "metadata": {
            "tags": []
          },
          "execution_count": 23
        }
      ]
    },
    {
      "cell_type": "markdown",
      "metadata": {
        "id": "BwYWKHEW04_I",
        "colab_type": "text"
      },
      "source": [
        "# C.List Comprehensions"
      ]
    },
    {
      "cell_type": "code",
      "metadata": {
        "id": "Fmyz3RQU0yjK",
        "colab_type": "code",
        "colab": {
          "base_uri": "https://localhost:8080/",
          "height": 34
        },
        "outputId": "be36d6ef-efe8-4e6d-9f2a-b6de74f6918b"
      },
      "source": [
        "squares=[]\n",
        "for x in range(10):\n",
        "  squares.append(x**2)\n",
        "print(squares)"
      ],
      "execution_count": null,
      "outputs": [
        {
          "output_type": "stream",
          "text": [
            "[0, 1, 4, 9, 16, 25, 36, 49, 64, 81]\n"
          ],
          "name": "stdout"
        }
      ]
    },
    {
      "cell_type": "markdown",
      "metadata": {
        "id": "z80oR5zzCK8Q",
        "colab_type": "text"
      },
      "source": [
        "# OR"
      ]
    },
    {
      "cell_type": "code",
      "metadata": {
        "id": "3wbEJaN01T9x",
        "colab_type": "code",
        "colab": {
          "base_uri": "https://localhost:8080/",
          "height": 34
        },
        "outputId": "10f77613-7804-4719-84b6-a4e84f3ab5e0"
      },
      "source": [
        "squares=list(map(lambda x:x**2 , range (10))) # map le function ra iterator  linxa ,and pratyak interator lai function ma pass gardai compute garxa\n",
        "print(squares)"
      ],
      "execution_count": null,
      "outputs": [
        {
          "output_type": "stream",
          "text": [
            "[0, 1, 4, 9, 16, 25, 36, 49, 64, 81]\n"
          ],
          "name": "stdout"
        }
      ]
    },
    {
      "cell_type": "markdown",
      "metadata": {
        "id": "BlnAvtLACOxZ",
        "colab_type": "text"
      },
      "source": [
        "# OR"
      ]
    },
    {
      "cell_type": "code",
      "metadata": {
        "id": "W81MerHbBADP",
        "colab_type": "code",
        "colab": {
          "base_uri": "https://localhost:8080/",
          "height": 34
        },
        "outputId": "c2997253-3ebf-4f40-c01b-260d29c2ae06"
      },
      "source": [
        "squares=[x**2 for x in range(10)]\n",
        "print(squares)"
      ],
      "execution_count": null,
      "outputs": [
        {
          "output_type": "stream",
          "text": [
            "[0, 1, 4, 9, 16, 25, 36, 49, 64, 81]\n"
          ],
          "name": "stdout"
        }
      ]
    },
    {
      "cell_type": "markdown",
      "metadata": {
        "id": "zGomw8BbCk4q",
        "colab_type": "text"
      },
      "source": [
        "user input lai  linparya"
      ]
    },
    {
      "cell_type": "code",
      "metadata": {
        "id": "MdEH6ePJCXt5",
        "colab_type": "code",
        "colab": {
          "base_uri": "https://localhost:8080/",
          "height": 34
        },
        "outputId": "df7ceaa8-d5dd-44a2-8a42-757e850730d9"
      },
      "source": [
        "inp=input('enter the number of sequence with comma ')\n",
        "li=[x for x in inp.split(',')]"
      ],
      "execution_count": null,
      "outputs": [
        {
          "output_type": "stream",
          "text": [
            "enter the number of sequence with comma 1,2,3,4\n"
          ],
          "name": "stdout"
        }
      ]
    },
    {
      "cell_type": "code",
      "metadata": {
        "id": "_Ahx8mYlIyyj",
        "colab_type": "code",
        "colab": {
          "base_uri": "https://localhost:8080/",
          "height": 34
        },
        "outputId": "e4f4e6b5-d71c-4542-d573-cb195a8896e3"
      },
      "source": [
        "print(li)"
      ],
      "execution_count": null,
      "outputs": [
        {
          "output_type": "stream",
          "text": [
            "['1', '2', '3', '4']\n"
          ],
          "name": "stdout"
        }
      ]
    },
    {
      "cell_type": "markdown",
      "metadata": {
        "id": "2psRUbQaJQJL",
        "colab_type": "text"
      },
      "source": [
        "# some intreasting "
      ]
    },
    {
      "cell_type": "code",
      "metadata": {
        "id": "jTIG9lFfI22s",
        "colab_type": "code",
        "colab": {
          "base_uri": "https://localhost:8080/",
          "height": 34
        },
        "outputId": "b2312c3f-af44-43e8-cf29-1e86e04025f7"
      },
      "source": [
        "vec=[[1,2,3,4,5],[1,2,3,4,5,],[4,5,6,7]]\n",
        "[num for elem in vec for num in elem ] # for loop bhitra ni for loop"
      ],
      "execution_count": null,
      "outputs": [
        {
          "output_type": "execute_result",
          "data": {
            "text/plain": [
              "[1, 2, 3, 4, 5, 1, 2, 3, 4, 5, 4, 5, 6, 7]"
            ]
          },
          "metadata": {
            "tags": []
          },
          "execution_count": 42
        }
      ]
    },
    {
      "cell_type": "markdown",
      "metadata": {
        "id": "8rfS1FNROo6i",
        "colab_type": "text"
      },
      "source": [
        "# C.A: Nested List Comprehensions"
      ]
    },
    {
      "cell_type": "code",
      "metadata": {
        "id": "vxzA1XjqKdxY",
        "colab_type": "code",
        "colab": {}
      },
      "source": [
        "marix=[[1,3,5,7],[2,4,6,8],[9,10,11,12]]"
      ],
      "execution_count": null,
      "outputs": []
    },
    {
      "cell_type": "code",
      "metadata": {
        "id": "FxiHEG7DKi0P",
        "colab_type": "code",
        "colab": {}
      },
      "source": [
        "[[row]]"
      ],
      "execution_count": null,
      "outputs": []
    }
  ]
}