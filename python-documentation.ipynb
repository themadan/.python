{
  "nbformat": 4,
  "nbformat_minor": 0,
  "metadata": {
    "colab": {
      "name": "Untitled1.ipynb",
      "provenance": []
    },
    "kernelspec": {
      "name": "python3",
      "display_name": "Python 3"
    }
  },
  "cells": [
    {
      "cell_type": "markdown",
      "metadata": {
        "id": "NUEDf-O88ZuR",
        "colab_type": "text"
      },
      "source": [
        "# pyhton documentation"
      ]
    },
    {
      "cell_type": "markdown",
      "metadata": {
        "id": "vZ5j7zbwyuVP",
        "colab_type": "text"
      },
      "source": [
        "# 1.Datastructure\n",
        "* C=create([],{},())\n",
        "* R=read(iterator.[],iterator.count())\n",
        "* U=update(iterator.insert(index,value)iterator.append(value),iterator.extend(iterator),iterator.sort(),iterator.reverse())\n",
        "* D=Delet(iterator.remove(value),iterator.pop([index]),iterator.clear())"
      ]
    },
    {
      "cell_type": "markdown",
      "metadata": {
        "id": "AYQQ1tXoyzfz",
        "colab_type": "text"
      },
      "source": [
        "# A.Using List as a Stacks(LIFO)"
      ]
    },
    {
      "cell_type": "code",
      "metadata": {
        "id": "XIYhjkqJheXz",
        "colab_type": "code",
        "colab": {
          "base_uri": "https://localhost:8080/",
          "height": 52
        },
        "outputId": "5047fc80-d899-4d92-9dd5-ed716df96395"
      },
      "source": [
        "stack=[1,2,3,4]\n",
        "print(stack)\n",
        "stack.append(5)\n",
        "print(stack)"
      ],
      "execution_count": 3,
      "outputs": [
        {
          "output_type": "stream",
          "text": [
            "[1, 2, 3, 4]\n",
            "[1, 2, 3, 4, 5]\n"
          ],
          "name": "stdout"
        }
      ]
    },
    {
      "cell_type": "code",
      "metadata": {
        "id": "5jisZ7xD812Q",
        "colab_type": "code",
        "colab": {
          "base_uri": "https://localhost:8080/",
          "height": 34
        },
        "outputId": "168b82ba-5f4b-4430-be28-a9d5064ddebd"
      },
      "source": [
        "stack.append(6)\n",
        "print(stack)"
      ],
      "execution_count": 4,
      "outputs": [
        {
          "output_type": "stream",
          "text": [
            "[1, 2, 3, 4, 5, 6]\n"
          ],
          "name": "stdout"
        }
      ]
    },
    {
      "cell_type": "code",
      "metadata": {
        "id": "uvt-wIATzaOz",
        "colab_type": "code",
        "colab": {
          "base_uri": "https://localhost:8080/",
          "height": 34
        },
        "outputId": "0896db4d-0393-4a98-c4aa-8e707299703d"
      },
      "source": [
        "stack.pop()"
      ],
      "execution_count": 5,
      "outputs": [
        {
          "output_type": "execute_result",
          "data": {
            "text/plain": [
              "6"
            ]
          },
          "metadata": {
            "tags": []
          },
          "execution_count": 5
        }
      ]
    },
    {
      "cell_type": "code",
      "metadata": {
        "id": "Th5GZs2bzdMb",
        "colab_type": "code",
        "colab": {
          "base_uri": "https://localhost:8080/",
          "height": 34
        },
        "outputId": "66077e97-57e2-4686-a849-0a4614c2aa15"
      },
      "source": [
        "stack.pop()"
      ],
      "execution_count": 6,
      "outputs": [
        {
          "output_type": "execute_result",
          "data": {
            "text/plain": [
              "5"
            ]
          },
          "metadata": {
            "tags": []
          },
          "execution_count": 6
        }
      ]
    },
    {
      "cell_type": "markdown",
      "metadata": {
        "id": "4Gyx_E_3zhbD",
        "colab_type": "text"
      },
      "source": [
        "# B.Using List as Queues(FIFO)\n",
        "* To implement a queue, use collections.deque which was designed to have fast appends and pops from both ends."
      ]
    },
    {
      "cell_type": "code",
      "metadata": {
        "id": "_AN0HOjxzf33",
        "colab_type": "code",
        "colab": {}
      },
      "source": [
        "from collections  import deque\n",
        "queue=deque(['madan','tapendra']) # dequeue le queue type collection banauxa"
      ],
      "execution_count": 0,
      "outputs": []
    },
    {
      "cell_type": "code",
      "metadata": {
        "id": "2pi9407U0BnT",
        "colab_type": "code",
        "colab": {}
      },
      "source": [
        "queue.append('rajkala')"
      ],
      "execution_count": 0,
      "outputs": []
    },
    {
      "cell_type": "code",
      "metadata": {
        "id": "ltN1cwoc0Gj8",
        "colab_type": "code",
        "colab": {
          "base_uri": "https://localhost:8080/",
          "height": 34
        },
        "outputId": "1c456244-24b6-45c0-c9c3-061775cc1e26"
      },
      "source": [
        "print(queue)"
      ],
      "execution_count": 19,
      "outputs": [
        {
          "output_type": "stream",
          "text": [
            "deque(['madan', 'tapendra', 'rajkala'])\n"
          ],
          "name": "stdout"
        }
      ]
    },
    {
      "cell_type": "code",
      "metadata": {
        "id": "YuICn0La0J3_",
        "colab_type": "code",
        "colab": {
          "base_uri": "https://localhost:8080/",
          "height": 34
        },
        "outputId": "4f902d91-2cef-4c2c-fde3-0075b13a2133"
      },
      "source": [
        "queue.popleft()"
      ],
      "execution_count": 20,
      "outputs": [
        {
          "output_type": "execute_result",
          "data": {
            "text/plain": [
              "'madan'"
            ]
          },
          "metadata": {
            "tags": []
          },
          "execution_count": 20
        }
      ]
    },
    {
      "cell_type": "code",
      "metadata": {
        "id": "Luo018Kh0O1r",
        "colab_type": "code",
        "colab": {
          "base_uri": "https://localhost:8080/",
          "height": 34
        },
        "outputId": "d75c61b8-e988-49eb-bc20-fc52d3707c89"
      },
      "source": [
        "queue.pop()"
      ],
      "execution_count": 23,
      "outputs": [
        {
          "output_type": "execute_result",
          "data": {
            "text/plain": [
              "'rajkala'"
            ]
          },
          "metadata": {
            "tags": []
          },
          "execution_count": 23
        }
      ]
    },
    {
      "cell_type": "markdown",
      "metadata": {
        "id": "BwYWKHEW04_I",
        "colab_type": "text"
      },
      "source": [
        "# C.List Comprehensions"
      ]
    },
    {
      "cell_type": "code",
      "metadata": {
        "id": "Fmyz3RQU0yjK",
        "colab_type": "code",
        "colab": {
          "base_uri": "https://localhost:8080/",
          "height": 34
        },
        "outputId": "be36d6ef-efe8-4e6d-9f2a-b6de74f6918b"
      },
      "source": [
        "squares=[]\n",
        "for x in range(10):\n",
        "  squares.append(x**2)\n",
        "print(squares)"
      ],
      "execution_count": 25,
      "outputs": [
        {
          "output_type": "stream",
          "text": [
            "[0, 1, 4, 9, 16, 25, 36, 49, 64, 81]\n"
          ],
          "name": "stdout"
        }
      ]
    },
    {
      "cell_type": "markdown",
      "metadata": {
        "id": "z80oR5zzCK8Q",
        "colab_type": "text"
      },
      "source": [
        "# OR"
      ]
    },
    {
      "cell_type": "code",
      "metadata": {
        "id": "3wbEJaN01T9x",
        "colab_type": "code",
        "colab": {
          "base_uri": "https://localhost:8080/",
          "height": 34
        },
        "outputId": "10f77613-7804-4719-84b6-a4e84f3ab5e0"
      },
      "source": [
        "squares=list(map(lambda x:x**2 , range (10))) # map le function ra iterator  linxa ,and pratyak interator lai function ma pass gardai compute garxa\n",
        "print(squares)"
      ],
      "execution_count": 28,
      "outputs": [
        {
          "output_type": "stream",
          "text": [
            "[0, 1, 4, 9, 16, 25, 36, 49, 64, 81]\n"
          ],
          "name": "stdout"
        }
      ]
    },
    {
      "cell_type": "markdown",
      "metadata": {
        "id": "BlnAvtLACOxZ",
        "colab_type": "text"
      },
      "source": [
        "# OR"
      ]
    },
    {
      "cell_type": "code",
      "metadata": {
        "id": "W81MerHbBADP",
        "colab_type": "code",
        "colab": {
          "base_uri": "https://localhost:8080/",
          "height": 34
        },
        "outputId": "c2997253-3ebf-4f40-c01b-260d29c2ae06"
      },
      "source": [
        "squares=[x**2 for x in range(10)]\n",
        "print(squares)"
      ],
      "execution_count": 29,
      "outputs": [
        {
          "output_type": "stream",
          "text": [
            "[0, 1, 4, 9, 16, 25, 36, 49, 64, 81]\n"
          ],
          "name": "stdout"
        }
      ]
    },
    {
      "cell_type": "markdown",
      "metadata": {
        "id": "zGomw8BbCk4q",
        "colab_type": "text"
      },
      "source": [
        "user input lai  linparya"
      ]
    },
    {
      "cell_type": "code",
      "metadata": {
        "id": "MdEH6ePJCXt5",
        "colab_type": "code",
        "colab": {
          "base_uri": "https://localhost:8080/",
          "height": 34
        },
        "outputId": "df7ceaa8-d5dd-44a2-8a42-757e850730d9"
      },
      "source": [
        "inp=input('enter the number of sequence with comma ')\n",
        "li=[x for x in inp.split(',')]"
      ],
      "execution_count": 30,
      "outputs": [
        {
          "output_type": "stream",
          "text": [
            "enter the number of sequence with comma 1,2,3,4\n"
          ],
          "name": "stdout"
        }
      ]
    },
    {
      "cell_type": "code",
      "metadata": {
        "id": "_Ahx8mYlIyyj",
        "colab_type": "code",
        "colab": {
          "base_uri": "https://localhost:8080/",
          "height": 34
        },
        "outputId": "e4f4e6b5-d71c-4542-d573-cb195a8896e3"
      },
      "source": [
        "print(li)"
      ],
      "execution_count": 31,
      "outputs": [
        {
          "output_type": "stream",
          "text": [
            "['1', '2', '3', '4']\n"
          ],
          "name": "stdout"
        }
      ]
    },
    {
      "cell_type": "markdown",
      "metadata": {
        "id": "2psRUbQaJQJL",
        "colab_type": "text"
      },
      "source": [
        "# some intreasting "
      ]
    },
    {
      "cell_type": "code",
      "metadata": {
        "id": "jTIG9lFfI22s",
        "colab_type": "code",
        "colab": {
          "base_uri": "https://localhost:8080/",
          "height": 34
        },
        "outputId": "b2312c3f-af44-43e8-cf29-1e86e04025f7"
      },
      "source": [
        "vec=[[1,2,3,4,5],[1,2,3,4,5,],[4,5,6,7]]\n",
        "[num for elem in vec for num in elem ] # for loop bhitra ni for loop"
      ],
      "execution_count": 42,
      "outputs": [
        {
          "output_type": "execute_result",
          "data": {
            "text/plain": [
              "[1, 2, 3, 4, 5, 1, 2, 3, 4, 5, 4, 5, 6, 7]"
            ]
          },
          "metadata": {
            "tags": []
          },
          "execution_count": 42
        }
      ]
    },
    {
      "cell_type": "markdown",
      "metadata": {
        "id": "8rfS1FNROo6i",
        "colab_type": "text"
      },
      "source": [
        "# C.A: Nested List Comprehensions"
      ]
    },
    {
      "cell_type": "code",
      "metadata": {
        "id": "vxzA1XjqKdxY",
        "colab_type": "code",
        "colab": {}
      },
      "source": [
        "marix=[[1,3,5,7],[2,4,6,8],[9,10,11,12]]"
      ],
      "execution_count": 0,
      "outputs": []
    },
    {
      "cell_type": "code",
      "metadata": {
        "id": "FxiHEG7DKi0P",
        "colab_type": "code",
        "colab": {}
      },
      "source": [
        "[[row]]"
      ],
      "execution_count": 0,
      "outputs": []
    }
  ]
}
