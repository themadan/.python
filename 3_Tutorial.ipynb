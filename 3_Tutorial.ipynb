{
  "nbformat": 4,
  "nbformat_minor": 0,
  "metadata": {
    "colab": {
      "name": "3. Tutorial.ipynb",
      "provenance": [],
      "collapsed_sections": [],
      "authorship_tag": "ABX9TyOdcgF7Z9JibixFDXoAf8h7",
      "include_colab_link": true
    },
    "kernelspec": {
      "name": "python3",
      "display_name": "Python 3"
    }
  },
  "cells": [
    {
      "cell_type": "markdown",
      "metadata": {
        "id": "view-in-github",
        "colab_type": "text"
      },
      "source": [
        "<a href=\"https://colab.research.google.com/github/themadan/.python/blob/master/3_Tutorial.ipynb\" target=\"_parent\"><img src=\"https://colab.research.google.com/assets/colab-badge.svg\" alt=\"Open In Colab\"/></a>"
      ]
    },
    {
      "cell_type": "markdown",
      "metadata": {
        "id": "i1enpnFq_Wq9",
        "colab_type": "text"
      },
      "source": [
        "## [**6. Modules**](https://docs.python.org/3/tutorial/modules.html)"
      ]
    },
    {
      "cell_type": "markdown",
      "metadata": {
        "id": "rHgZqp4jBh3K",
        "colab_type": "text"
      },
      "source": [
        "**Creating module and packages**\n",
        "\n",
        "**module:**\n",
        "\n",
        "* The file name is the module name with the suffix .py appended.\n",
        "\n",
        "```\n",
        "pythonfile.py\n",
        "```\n",
        "\n",
        "**packages:**\n",
        "\n",
        "* Create package folder and inside package folder crate __ init__.py empty file to represent this folder as package\n",
        "\n",
        "\n",
        "\n",
        "```\n",
        "packagefolder/modules... and __init__.py\n",
        "```\n",
        "\n"
      ]
    },
    {
      "cell_type": "markdown",
      "metadata": {
        "id": "wD1Q9qJBdjQH",
        "colab_type": "text"
      },
      "source": [
        "### **6.1 More on modules**"
      ]
    },
    {
      "cell_type": "markdown",
      "metadata": {
        "id": "9ns7humvd-mW",
        "colab_type": "text"
      },
      "source": [
        "\n",
        "```\n",
        "from package(folder) import module(file)\n",
        "\n",
        "or\n",
        "\n",
        "from module(file) import functions\n",
        "\n",
        "or\n",
        "\n",
        "from package(folder) import *\n",
        "\n",
        "or\n",
        "\n",
        "from module(file) import *\n",
        "\n",
        "or \n",
        "\n",
        "from package(folder) import module(file) as give_newname\n",
        "\n",
        "or\n",
        "\n",
        "import module(file) as give_newname\n",
        "\n",
        "or\n",
        "\n",
        "from module(file) import function as give_newname\n",
        "\n",
        "\n",
        "```\n",
        "\n"
      ]
    },
    {
      "cell_type": "markdown",
      "metadata": {
        "id": "AaXD8lLWgMS5",
        "colab_type": "text"
      },
      "source": [
        "#### **6.1.1 Executing modules as scripts**"
      ]
    },
    {
      "cell_type": "markdown",
      "metadata": {
        "id": "4DnFznP3gYFt",
        "colab_type": "text"
      },
      "source": [
        "\n",
        "\n",
        "```\n",
        "python argv[0](.py file which contain if __name__ == \"__main__\":) argv[1] argv[2]...\n",
        "```\n",
        "\n"
      ]
    },
    {
      "cell_type": "markdown",
      "metadata": {
        "id": "Aq--o-2agq92",
        "colab_type": "text"
      },
      "source": [
        "create main file of project from where project start\n",
        "\n",
        "```\n",
        "if __name__ == \"__main__\":\n",
        "\n",
        "```\n",
        "\n"
      ]
    },
    {
      "cell_type": "markdown",
      "metadata": {
        "id": "v7ePXpX9hBLT",
        "colab_type": "text"
      },
      "source": [
        "\n",
        "\n",
        "```\n",
        "if __name__ == \"__main__\":\n",
        "    import sys\n",
        "     argument1=sys.argv[1]..\n",
        "\n",
        "```\n",
        "\n"
      ]
    },
    {
      "cell_type": "markdown",
      "metadata": {
        "id": "p0Manfkwix8X",
        "colab_type": "text"
      },
      "source": [
        "#### **6.1.2. The Module Search Path**"
      ]
    },
    {
      "cell_type": "markdown",
      "metadata": {
        "id": "EGHwWId3j6DL",
        "colab_type": "text"
      },
      "source": [
        "#### **6.1.3. “Compiled” Python files**"
      ]
    },
    {
      "cell_type": "markdown",
      "metadata": {
        "id": "Cc5olhwekDkY",
        "colab_type": "text"
      },
      "source": [
        "### **6.2. Standard Modules**"
      ]
    },
    {
      "cell_type": "markdown",
      "metadata": {
        "id": "wxROVDPgka7I",
        "colab_type": "text"
      },
      "source": [
        "### **6.3. The dir() Function**"
      ]
    },
    {
      "cell_type": "markdown",
      "metadata": {
        "id": "TA7Wo-J9krSZ",
        "colab_type": "text"
      },
      "source": [
        "The built-in function dir() is used to find out which names a module defines. It returns a sorted list of strings:"
      ]
    },
    {
      "cell_type": "markdown",
      "metadata": {
        "id": "1fZgNu3PlJxz",
        "colab_type": "text"
      },
      "source": [
        "### **6.4. Packages**"
      ]
    },
    {
      "cell_type": "markdown",
      "metadata": {
        "id": "GLMsJNlmlUWl",
        "colab_type": "text"
      },
      "source": [
        "Packages are a way of structuring Python’s module namespace by using “dotted module names”."
      ]
    },
    {
      "cell_type": "markdown",
      "metadata": {
        "id": "3EMuCLE4laBl",
        "colab_type": "text"
      },
      "source": [
        "\n",
        "\n",
        "```\n",
        "sound/                          Top-level package\n",
        "      __init__.py               Initialize the sound package\n",
        "      formats/                  Subpackage for file format conversions\n",
        "              __init__.py\n",
        "              wavread.py\n",
        "              wavwrite.py\n",
        "              aiffread.py\n",
        "              aiffwrite.py\n",
        "              auread.py\n",
        "              auwrite.py\n",
        "              ...\n",
        "      effects/                  Subpackage for sound effects\n",
        "              __init__.py\n",
        "              echo.py\n",
        "              surround.py\n",
        "              reverse.py\n",
        "              ...\n",
        "      filters/                  Subpackage for filters\n",
        "              __init__.py\n",
        "              equalizer.py\n",
        "              vocoder.py\n",
        "              karaoke.py\n",
        "              ...\n",
        "```\n",
        "\n"
      ]
    },
    {
      "cell_type": "markdown",
      "metadata": {
        "id": "mR0qXQuXln2T",
        "colab_type": "text"
      },
      "source": [
        "\n",
        "\n",
        "```\n",
        "import sound.effects.echo\n",
        "```\n",
        "\n"
      ]
    },
    {
      "cell_type": "markdown",
      "metadata": {
        "id": "YmWMFDhilx-P",
        "colab_type": "text"
      },
      "source": [
        "\n",
        "\n",
        "```\n",
        "from sound.effects import echo\n",
        "```\n",
        "\n"
      ]
    },
    {
      "cell_type": "markdown",
      "metadata": {
        "id": "zU2CHAErl6Jt",
        "colab_type": "text"
      },
      "source": [
        "#### **6.4.1. Importing * From a Package** "
      ]
    },
    {
      "cell_type": "markdown",
      "metadata": {
        "id": "Xsu5V0YImI7D",
        "colab_type": "text"
      },
      "source": [
        "\n",
        "\n",
        "```\n",
        "from sound.effects import *\n",
        "```\n",
        "\n"
      ]
    },
    {
      "cell_type": "markdown",
      "metadata": {
        "id": "q4jeZTL8nkvH",
        "colab_type": "text"
      },
      "source": [
        "#### **6.4.2. Intra-package References**"
      ]
    },
    {
      "cell_type": "markdown",
      "metadata": {
        "id": "nQSgpmeLn2ax",
        "colab_type": "text"
      },
      "source": [
        "Optional topic ho so not necessary"
      ]
    },
    {
      "cell_type": "markdown",
      "metadata": {
        "id": "-bD0TkbTnq_d",
        "colab_type": "text"
      },
      "source": [
        "#### **6.4.3. Packages in Multiple Directories**"
      ]
    },
    {
      "cell_type": "code",
      "metadata": {
        "id": "VsFSEfXPnqdO",
        "colab_type": "code",
        "colab": {}
      },
      "source": [
        ""
      ],
      "execution_count": null,
      "outputs": []
    },
    {
      "cell_type": "markdown",
      "metadata": {
        "id": "b4wIqS13oNoN",
        "colab_type": "text"
      },
      "source": [
        "## [**7. Input and Output**](https://docs.python.org/3/tutorial/inputoutput.html)"
      ]
    },
    {
      "cell_type": "markdown",
      "metadata": {
        "id": "s1lTJfdJo7oJ",
        "colab_type": "text"
      },
      "source": [
        "### **7.1. Fancier Output Formatting**"
      ]
    },
    {
      "cell_type": "markdown",
      "metadata": {
        "id": "Pi4D-MTtsG5J",
        "colab_type": "text"
      },
      "source": [
        "Note:\n",
        "\n",
        "* f '  {variable or value}'  yasari variable or value lekhna milxa \n",
        "* print(variabl, value)\n",
        "* Passing an integer after the ':' will cause that field to be a minimum number of characters wide."
      ]
    },
    {
      "cell_type": "code",
      "metadata": {
        "id": "VZjBioLcoZmL",
        "colab_type": "code",
        "colab": {
          "base_uri": "https://localhost:8080/",
          "height": 35
        },
        "outputId": "c4e18a7b-6e60-48b4-9b08-1f9b69e9c30c"
      },
      "source": [
        "f'helo iam madan'"
      ],
      "execution_count": null,
      "outputs": [
        {
          "output_type": "execute_result",
          "data": {
            "application/vnd.google.colaboratory.intrinsic": {
              "type": "string"
            },
            "text/plain": [
              "'helo iama madan'"
            ]
          },
          "metadata": {
            "tags": []
          },
          "execution_count": 1
        }
      ]
    },
    {
      "cell_type": "code",
      "metadata": {
        "id": "FicLJWpspIiw",
        "colab_type": "code",
        "colab": {
          "base_uri": "https://localhost:8080/",
          "height": 35
        },
        "outputId": "ca60d37f-ef6a-4530-cfa2-761bf6b47a08"
      },
      "source": [
        "name='madan'\n",
        "cast='Baduwal'\n",
        "\n",
        "F'Helo iam  {name} {cast}' # Note "
      ],
      "execution_count": null,
      "outputs": [
        {
          "output_type": "execute_result",
          "data": {
            "application/vnd.google.colaboratory.intrinsic": {
              "type": "string"
            },
            "text/plain": [
              "'Helo iam  madan Baduwal'"
            ]
          },
          "metadata": {
            "tags": []
          },
          "execution_count": 3
        }
      ]
    },
    {
      "cell_type": "code",
      "metadata": {
        "id": "DmoNuhcPphT2",
        "colab_type": "code",
        "colab": {
          "base_uri": "https://localhost:8080/",
          "height": 35
        },
        "outputId": "c7990bb9-b445-40e4-d80c-7ca897221a29"
      },
      "source": [
        "'{} from {}'.format('iam','Nepal')"
      ],
      "execution_count": null,
      "outputs": [
        {
          "output_type": "execute_result",
          "data": {
            "application/vnd.google.colaboratory.intrinsic": {
              "type": "string"
            },
            "text/plain": [
              "'iam from Nepal'"
            ]
          },
          "metadata": {
            "tags": []
          },
          "execution_count": 10
        }
      ]
    },
    {
      "cell_type": "markdown",
      "metadata": {
        "id": "7jAdkayZqyiu",
        "colab_type": "text"
      },
      "source": [
        "When you don’t need fancy output but just want a quick display of some variables for debugging purposes, you can convert any value to a string with the repr() or str() functions."
      ]
    },
    {
      "cell_type": "code",
      "metadata": {
        "id": "JfzQMKb5qDUS",
        "colab_type": "code",
        "colab": {
          "base_uri": "https://localhost:8080/",
          "height": 35
        },
        "outputId": "e37f2b42-df3b-4695-cbff-a25deb52ccda"
      },
      "source": [
        "m='madan'\n",
        "k='baduwal'\n",
        "\n",
        "str(m)\n"
      ],
      "execution_count": null,
      "outputs": [
        {
          "output_type": "execute_result",
          "data": {
            "application/vnd.google.colaboratory.intrinsic": {
              "type": "string"
            },
            "text/plain": [
              "'madan'"
            ]
          },
          "metadata": {
            "tags": []
          },
          "execution_count": 12
        }
      ]
    },
    {
      "cell_type": "code",
      "metadata": {
        "id": "dXDVnXJhrCLW",
        "colab_type": "code",
        "colab": {
          "base_uri": "https://localhost:8080/",
          "height": 35
        },
        "outputId": "19a80196-1162-4f02-9a9f-f79a75a627fb"
      },
      "source": [
        "repr(k)\n"
      ],
      "execution_count": null,
      "outputs": [
        {
          "output_type": "execute_result",
          "data": {
            "application/vnd.google.colaboratory.intrinsic": {
              "type": "string"
            },
            "text/plain": [
              "\"'baduwal'\""
            ]
          },
          "metadata": {
            "tags": []
          },
          "execution_count": 13
        }
      ]
    },
    {
      "cell_type": "markdown",
      "metadata": {
        "id": "oyoodvPIrWB8",
        "colab_type": "text"
      },
      "source": [
        "#### **7.1.1. Formatted String Literals**"
      ]
    },
    {
      "cell_type": "code",
      "metadata": {
        "id": "AhclC_AyrKz7",
        "colab_type": "code",
        "colab": {
          "base_uri": "https://localhost:8080/",
          "height": 34
        },
        "outputId": "63f37062-828e-4c9f-c5ab-61d45d01009c"
      },
      "source": [
        "import math\n",
        "print(f'The value of pi is approximately {math.pi:.3f}.') #rounds pi to three places after the decimal:"
      ],
      "execution_count": null,
      "outputs": [
        {
          "output_type": "stream",
          "text": [
            "The value of pi is approximately 3.142.\n"
          ],
          "name": "stdout"
        }
      ]
    },
    {
      "cell_type": "markdown",
      "metadata": {
        "id": "XL_w0rkls-UY",
        "colab_type": "text"
      },
      "source": [
        "#### **7.1.2. The String format() Method**"
      ]
    },
    {
      "cell_type": "markdown",
      "metadata": {
        "id": "bRR96DD2tEJI",
        "colab_type": "text"
      },
      "source": [
        "Basic usage of the str.format() method looks like this:\n",
        "\n",
        "So, Note:\n",
        "\n",
        "```\n",
        "str.format() #str string lai kasari dekhauni vanny kura format le determine garxa\n",
        "```\n",
        "\n"
      ]
    },
    {
      "cell_type": "code",
      "metadata": {
        "id": "wTgLTw9RrmQi",
        "colab_type": "code",
        "colab": {
          "base_uri": "https://localhost:8080/",
          "height": 34
        },
        "outputId": "696119d8-a9a2-4f9e-b8eb-c1e24300196b"
      },
      "source": [
        "print('{0} and {1}'.format('spam', 'eggs'))"
      ],
      "execution_count": null,
      "outputs": [
        {
          "output_type": "stream",
          "text": [
            "spam and eggs\n"
          ],
          "name": "stdout"
        }
      ]
    },
    {
      "cell_type": "code",
      "metadata": {
        "id": "r4YrMi5utdLl",
        "colab_type": "code",
        "colab": {
          "base_uri": "https://localhost:8080/",
          "height": 187
        },
        "outputId": "23e36d5e-19c0-456a-cae3-5a5fb4ec32a6"
      },
      "source": [
        "for x in range(1, 11):\n",
        "     print('{0:5d} {1:5d} {2:5d}'.format(x, x*x, x*x*x)) # "
      ],
      "execution_count": null,
      "outputs": [
        {
          "output_type": "stream",
          "text": [
            "    1     1     1\n",
            "    2     4     8\n",
            "    3     9    27\n",
            "    4    16    64\n",
            "    5    25   125\n",
            "    6    36   216\n",
            "    7    49   343\n",
            "    8    64   512\n",
            "    9    81   729\n",
            "   10   100  1000\n"
          ],
          "name": "stdout"
        }
      ]
    },
    {
      "cell_type": "markdown",
      "metadata": {
        "id": "JwQTaqv5xbzE",
        "colab_type": "text"
      },
      "source": [
        "### **7.2. Reading and Writing Files**\n",
        "\n",
        "\n",
        "\n",
        "\n",
        "\n"
      ]
    },
    {
      "cell_type": "markdown",
      "metadata": {
        "id": "8s6MjkBNxlnM",
        "colab_type": "text"
      },
      "source": [
        "Open() returns a file object, and is most commonly used with two arguments: open(filename, mode)."
      ]
    },
    {
      "cell_type": "code",
      "metadata": {
        "id": "F54O0HTztm4r",
        "colab_type": "code",
        "colab": {
          "base_uri": "https://localhost:8080/",
          "height": 217
        },
        "outputId": "426bdc3a-5671-45a6-a75c-cdf5c27a977e"
      },
      "source": [
        "with open('workfile') as f:\n",
        "     read_data = f.read()\n",
        "f.closed"
      ],
      "execution_count": null,
      "outputs": [
        {
          "output_type": "error",
          "ename": "FileNotFoundError",
          "evalue": "ignored",
          "traceback": [
            "\u001b[0;31m---------------------------------------------------------------------------\u001b[0m",
            "\u001b[0;31mFileNotFoundError\u001b[0m                         Traceback (most recent call last)",
            "\u001b[0;32m<ipython-input-27-3bc87ba30de3>\u001b[0m in \u001b[0;36m<module>\u001b[0;34m()\u001b[0m\n\u001b[0;32m----> 1\u001b[0;31m \u001b[0;32mwith\u001b[0m \u001b[0mopen\u001b[0m\u001b[0;34m(\u001b[0m\u001b[0;34m'workfile'\u001b[0m\u001b[0;34m)\u001b[0m \u001b[0;32mas\u001b[0m \u001b[0mf\u001b[0m\u001b[0;34m:\u001b[0m\u001b[0;34m\u001b[0m\u001b[0;34m\u001b[0m\u001b[0m\n\u001b[0m\u001b[1;32m      2\u001b[0m      \u001b[0mread_data\u001b[0m \u001b[0;34m=\u001b[0m \u001b[0mf\u001b[0m\u001b[0;34m.\u001b[0m\u001b[0mread\u001b[0m\u001b[0;34m(\u001b[0m\u001b[0;34m)\u001b[0m\u001b[0;34m\u001b[0m\u001b[0;34m\u001b[0m\u001b[0m\n\u001b[1;32m      3\u001b[0m \u001b[0mf\u001b[0m\u001b[0;34m.\u001b[0m\u001b[0mclosed\u001b[0m\u001b[0;34m\u001b[0m\u001b[0;34m\u001b[0m\u001b[0m\n",
            "\u001b[0;31mFileNotFoundError\u001b[0m: [Errno 2] No such file or directory: 'workfile'"
          ]
        }
      ]
    },
    {
      "cell_type": "markdown",
      "metadata": {
        "id": "5mS_KGmUx_nO",
        "colab_type": "text"
      },
      "source": [
        "#### **7.2.1. Methods of File Objects**"
      ]
    },
    {
      "cell_type": "markdown",
      "metadata": {
        "id": "ROqE6o3gyGmX",
        "colab_type": "text"
      },
      "source": [
        "\n",
        "\n",
        "```\n",
        "f.read() #This is the entire file.'\n",
        "f.readline() # his is the first line of the file.\n",
        "f.readlines() #read all the lines of a file in a list \n",
        "list(f)#read all the lines of a file in a list \n",
        "\n",
        "\n",
        "\n",
        "f.write('This is a test\\n') #\n",
        "\n",
        "\n",
        "f.tell() # returns an integer giving the file object’s current position in the file represented as number of bytes from the beginning of the file when in binary mode and an opaque number when in text mode.\n",
        "\n",
        "f.seek(5) #Go to the 6th byte in the file\n",
        "\n",
        "```\n",
        "\n"
      ]
    },
    {
      "cell_type": "markdown",
      "metadata": {
        "id": "ooR76ZEwzU2s",
        "colab_type": "text"
      },
      "source": [
        "#### **7.2.2. Saving structured data with**"
      ]
    },
    {
      "cell_type": "code",
      "metadata": {
        "id": "li8jlx4nxyET",
        "colab_type": "code",
        "colab": {
          "base_uri": "https://localhost:8080/",
          "height": 217
        },
        "outputId": "3ebd0432-f827-427d-9172-42237bcab335"
      },
      "source": [
        "import json\n",
        "\n",
        "json.dump(x, f) # x:data , f:file"
      ],
      "execution_count": null,
      "outputs": [
        {
          "output_type": "error",
          "ename": "NameError",
          "evalue": "ignored",
          "traceback": [
            "\u001b[0;31m---------------------------------------------------------------------------\u001b[0m",
            "\u001b[0;31mNameError\u001b[0m                                 Traceback (most recent call last)",
            "\u001b[0;32m<ipython-input-28-8523f84d5cfc>\u001b[0m in \u001b[0;36m<module>\u001b[0;34m()\u001b[0m\n\u001b[1;32m      1\u001b[0m \u001b[0;32mimport\u001b[0m \u001b[0mjson\u001b[0m\u001b[0;34m\u001b[0m\u001b[0;34m\u001b[0m\u001b[0m\n\u001b[1;32m      2\u001b[0m \u001b[0;34m\u001b[0m\u001b[0m\n\u001b[0;32m----> 3\u001b[0;31m \u001b[0mjson\u001b[0m\u001b[0;34m.\u001b[0m\u001b[0mdump\u001b[0m\u001b[0;34m(\u001b[0m\u001b[0mx\u001b[0m\u001b[0;34m,\u001b[0m \u001b[0mf\u001b[0m\u001b[0;34m)\u001b[0m \u001b[0;31m# x:data , f:file\u001b[0m\u001b[0;34m\u001b[0m\u001b[0;34m\u001b[0m\u001b[0m\n\u001b[0m",
            "\u001b[0;31mNameError\u001b[0m: name 'f' is not defined"
          ]
        }
      ]
    },
    {
      "cell_type": "code",
      "metadata": {
        "id": "ZOShQl84z-Vj",
        "colab_type": "code",
        "colab": {
          "base_uri": "https://localhost:8080/",
          "height": 183
        },
        "outputId": "db39bd57-2d7d-4d2f-b454-8e766f0a5c10"
      },
      "source": [
        "x = json.load(f)"
      ],
      "execution_count": null,
      "outputs": [
        {
          "output_type": "error",
          "ename": "NameError",
          "evalue": "ignored",
          "traceback": [
            "\u001b[0;31m---------------------------------------------------------------------------\u001b[0m",
            "\u001b[0;31mNameError\u001b[0m                                 Traceback (most recent call last)",
            "\u001b[0;32m<ipython-input-29-bb45846d9f9b>\u001b[0m in \u001b[0;36m<module>\u001b[0;34m()\u001b[0m\n\u001b[0;32m----> 1\u001b[0;31m \u001b[0mx\u001b[0m \u001b[0;34m=\u001b[0m \u001b[0mjson\u001b[0m\u001b[0;34m.\u001b[0m\u001b[0mload\u001b[0m\u001b[0;34m(\u001b[0m\u001b[0mf\u001b[0m\u001b[0;34m)\u001b[0m\u001b[0;34m\u001b[0m\u001b[0;34m\u001b[0m\u001b[0m\n\u001b[0m",
            "\u001b[0;31mNameError\u001b[0m: name 'f' is not defined"
          ]
        }
      ]
    },
    {
      "cell_type": "code",
      "metadata": {
        "id": "OCkuDfEs0BFM",
        "colab_type": "code",
        "colab": {}
      },
      "source": [
        ""
      ],
      "execution_count": null,
      "outputs": []
    },
    {
      "cell_type": "markdown",
      "metadata": {
        "id": "r0EORrga0Jkg",
        "colab_type": "text"
      },
      "source": [
        "## [**8. Error and Exceptions**](https://docs.python.org/3/tutorial/errors.html)"
      ]
    },
    {
      "cell_type": "markdown",
      "metadata": {
        "id": "T5uyVMpN0-O_",
        "colab_type": "text"
      },
      "source": [
        "### **8.1. Syntax Errors**"
      ]
    },
    {
      "cell_type": "code",
      "metadata": {
        "id": "tRIxs9Ca0Qjc",
        "colab_type": "code",
        "colab": {
          "base_uri": "https://localhost:8080/",
          "height": 129
        },
        "outputId": "7a950b8e-2dd7-4929-b99c-0d0e0d6166ff"
      },
      "source": [
        "while True print('Hello world')"
      ],
      "execution_count": null,
      "outputs": [
        {
          "output_type": "error",
          "ename": "SyntaxError",
          "evalue": "ignored",
          "traceback": [
            "\u001b[0;36m  File \u001b[0;32m\"<ipython-input-32-2b688bc740d7>\"\u001b[0;36m, line \u001b[0;32m1\u001b[0m\n\u001b[0;31m    while True print('Hello world')\u001b[0m\n\u001b[0m                   ^\u001b[0m\n\u001b[0;31mSyntaxError\u001b[0m\u001b[0;31m:\u001b[0m invalid syntax\n"
          ]
        }
      ]
    },
    {
      "cell_type": "markdown",
      "metadata": {
        "id": "SDyDdRO72qMO",
        "colab_type": "text"
      },
      "source": [
        "### **8.2. Exceptions**"
      ]
    },
    {
      "cell_type": "markdown",
      "metadata": {
        "id": "3XI_9EB-20Xj",
        "colab_type": "text"
      },
      "source": [
        "Errors detected during execution are called exceptions and are not unconditionally fatal:"
      ]
    },
    {
      "cell_type": "markdown",
      "metadata": {
        "id": "0lh58rlK3xp5",
        "colab_type": "text"
      },
      "source": [
        "* ZeroDivisionError\n",
        "* NameError\n",
        "* TypeError"
      ]
    },
    {
      "cell_type": "code",
      "metadata": {
        "id": "R_1SWX622Sc2",
        "colab_type": "code",
        "colab": {
          "base_uri": "https://localhost:8080/",
          "height": 183
        },
        "outputId": "99669bc2-a428-4d79-b2e1-d418236a6674"
      },
      "source": [
        "10 * (1/0)"
      ],
      "execution_count": null,
      "outputs": [
        {
          "output_type": "error",
          "ename": "ZeroDivisionError",
          "evalue": "ignored",
          "traceback": [
            "\u001b[0;31m---------------------------------------------------------------------------\u001b[0m",
            "\u001b[0;31mZeroDivisionError\u001b[0m                         Traceback (most recent call last)",
            "\u001b[0;32m<ipython-input-33-0b280f36835c>\u001b[0m in \u001b[0;36m<module>\u001b[0;34m()\u001b[0m\n\u001b[0;32m----> 1\u001b[0;31m \u001b[0;36m10\u001b[0m \u001b[0;34m*\u001b[0m \u001b[0;34m(\u001b[0m\u001b[0;36m1\u001b[0m\u001b[0;34m/\u001b[0m\u001b[0;36m0\u001b[0m\u001b[0;34m)\u001b[0m\u001b[0;34m\u001b[0m\u001b[0;34m\u001b[0m\u001b[0m\n\u001b[0m",
            "\u001b[0;31mZeroDivisionError\u001b[0m: division by zero"
          ]
        }
      ]
    },
    {
      "cell_type": "code",
      "metadata": {
        "id": "LMyqqatb3dZv",
        "colab_type": "code",
        "colab": {
          "base_uri": "https://localhost:8080/",
          "height": 183
        },
        "outputId": "11149465-00be-424d-ba40-4bd89af1774d"
      },
      "source": [
        "4 + spam*3"
      ],
      "execution_count": null,
      "outputs": [
        {
          "output_type": "error",
          "ename": "NameError",
          "evalue": "ignored",
          "traceback": [
            "\u001b[0;31m---------------------------------------------------------------------------\u001b[0m",
            "\u001b[0;31mNameError\u001b[0m                                 Traceback (most recent call last)",
            "\u001b[0;32m<ipython-input-34-c98bb92cdcac>\u001b[0m in \u001b[0;36m<module>\u001b[0;34m()\u001b[0m\n\u001b[0;32m----> 1\u001b[0;31m \u001b[0;36m4\u001b[0m \u001b[0;34m+\u001b[0m \u001b[0mspam\u001b[0m\u001b[0;34m*\u001b[0m\u001b[0;36m3\u001b[0m\u001b[0;34m\u001b[0m\u001b[0;34m\u001b[0m\u001b[0m\n\u001b[0m",
            "\u001b[0;31mNameError\u001b[0m: name 'spam' is not defined"
          ]
        }
      ]
    },
    {
      "cell_type": "code",
      "metadata": {
        "id": "CHBd9to-3kID",
        "colab_type": "code",
        "colab": {
          "base_uri": "https://localhost:8080/",
          "height": 183
        },
        "outputId": "6c7260cb-cf46-4ac2-cdfc-e8874f88284a"
      },
      "source": [
        "'2' + 2"
      ],
      "execution_count": null,
      "outputs": [
        {
          "output_type": "error",
          "ename": "TypeError",
          "evalue": "ignored",
          "traceback": [
            "\u001b[0;31m---------------------------------------------------------------------------\u001b[0m",
            "\u001b[0;31mTypeError\u001b[0m                                 Traceback (most recent call last)",
            "\u001b[0;32m<ipython-input-35-d2b23a1db757>\u001b[0m in \u001b[0;36m<module>\u001b[0;34m()\u001b[0m\n\u001b[0;32m----> 1\u001b[0;31m \u001b[0;34m'2'\u001b[0m \u001b[0;34m+\u001b[0m \u001b[0;36m2\u001b[0m\u001b[0;34m\u001b[0m\u001b[0;34m\u001b[0m\u001b[0m\n\u001b[0m",
            "\u001b[0;31mTypeError\u001b[0m: must be str, not int"
          ]
        }
      ]
    },
    {
      "cell_type": "markdown",
      "metadata": {
        "id": "ssiWy7K74Dy_",
        "colab_type": "text"
      },
      "source": [
        "### **8.3. Handling Exceptions**"
      ]
    },
    {
      "cell_type": "code",
      "metadata": {
        "id": "gBY2O8vZ3tg0",
        "colab_type": "code",
        "colab": {
          "base_uri": "https://localhost:8080/",
          "height": 34
        },
        "outputId": "95e3c283-c5cc-4938-98e6-bad33fb37d8d"
      },
      "source": [
        "import sys\n",
        "\n",
        "try:\n",
        "    f = open('myfile.txt')\n",
        "    s = f.readline()\n",
        "    i = int(s.strip())\n",
        "except OSError as err:\n",
        "    print(\"OS error: {0}\".format(err))\n",
        "except ValueError:\n",
        "    print(\"Could not convert data to an integer.\")\n",
        "except:\n",
        "    print(\"Unexpected error:\", sys.exc_info()[0])\n",
        "    raise"
      ],
      "execution_count": null,
      "outputs": [
        {
          "output_type": "stream",
          "text": [
            "OS error: [Errno 2] No such file or directory: 'myfile.txt'\n"
          ],
          "name": "stdout"
        }
      ]
    },
    {
      "cell_type": "code",
      "metadata": {
        "id": "IgnsJBMU4gQ9",
        "colab_type": "code",
        "colab": {
          "base_uri": "https://localhost:8080/",
          "height": 34
        },
        "outputId": "c3fd782c-e297-4a52-94eb-74b36285f9ed"
      },
      "source": [
        "def this_fails():\n",
        "     x = 1/0\n",
        "\n",
        "try:\n",
        "    this_fails()\n",
        "except ZeroDivisionError as err:\n",
        "    print('Handling run-time error:', err)"
      ],
      "execution_count": null,
      "outputs": [
        {
          "output_type": "stream",
          "text": [
            "Handling run-time error: division by zero\n"
          ],
          "name": "stdout"
        }
      ]
    },
    {
      "cell_type": "markdown",
      "metadata": {
        "id": "x0NQh6xD5i_i",
        "colab_type": "text"
      },
      "source": [
        "### **8.4. Raising Exceptions**"
      ]
    },
    {
      "cell_type": "markdown",
      "metadata": {
        "id": "Tv2-ENvg5qNY",
        "colab_type": "text"
      },
      "source": [
        "The raise statement allows the programmer to force a specified exception to occur."
      ]
    },
    {
      "cell_type": "code",
      "metadata": {
        "id": "-8FE3DcC5M_P",
        "colab_type": "code",
        "colab": {
          "base_uri": "https://localhost:8080/",
          "height": 183
        },
        "outputId": "71c8ac7b-ae48-467a-f3d6-48897c0715c8"
      },
      "source": [
        "raise NameError('this is error message')"
      ],
      "execution_count": null,
      "outputs": [
        {
          "output_type": "error",
          "ename": "NameError",
          "evalue": "ignored",
          "traceback": [
            "\u001b[0;31m---------------------------------------------------------------------------\u001b[0m",
            "\u001b[0;31mNameError\u001b[0m                                 Traceback (most recent call last)",
            "\u001b[0;32m<ipython-input-43-10ac9280b4a3>\u001b[0m in \u001b[0;36m<module>\u001b[0;34m()\u001b[0m\n\u001b[0;32m----> 1\u001b[0;31m \u001b[0;32mraise\u001b[0m \u001b[0mNameError\u001b[0m\u001b[0;34m(\u001b[0m\u001b[0;34m'this is error message'\u001b[0m\u001b[0;34m)\u001b[0m\u001b[0;34m\u001b[0m\u001b[0;34m\u001b[0m\u001b[0m\n\u001b[0m",
            "\u001b[0;31mNameError\u001b[0m: this is error message"
          ]
        }
      ]
    },
    {
      "cell_type": "markdown",
      "metadata": {
        "id": "zhpvhlUT59UZ",
        "colab_type": "text"
      },
      "source": [
        "### **8.5. User-defined Exceptions**"
      ]
    },
    {
      "cell_type": "code",
      "metadata": {
        "id": "GxPdbhYX5xWW",
        "colab_type": "code",
        "colab": {}
      },
      "source": [
        ""
      ],
      "execution_count": null,
      "outputs": []
    }
  ]
}