{
  "nbformat": 4,
  "nbformat_minor": 0,
  "metadata": {
    "colab": {
      "name": "1.Tutorial.ipynb",
      "provenance": [],
      "collapsed_sections": [],
      "authorship_tag": "ABX9TyOIQ+vPcAJeD7SnaaEcJ72u",
      "include_colab_link": true
    },
    "kernelspec": {
      "name": "python3",
      "display_name": "Python 3"
    }
  },
  "cells": [
    {
      "cell_type": "markdown",
      "metadata": {
        "id": "view-in-github",
        "colab_type": "text"
      },
      "source": [
        "<a href=\"https://colab.research.google.com/github/themadan/.python/blob/master/1_Tutorial.ipynb\" target=\"_parent\"><img src=\"https://colab.research.google.com/assets/colab-badge.svg\" alt=\"Open In Colab\"/></a>"
      ]
    },
    {
      "cell_type": "markdown",
      "metadata": {
        "id": "CdYACajLstiQ",
        "colab_type": "text"
      },
      "source": [
        "# [**The Python Tutorial**](https://docs.python.org/3/tutorial/index.html)"
      ]
    },
    {
      "cell_type": "markdown",
      "metadata": {
        "id": "yRl55z7-FHXB",
        "colab_type": "text"
      },
      "source": [
        "## [**1.Whetting Your Appetite**](https://docs.python.org/3/tutorial/appetite.html)"
      ]
    },
    {
      "cell_type": "markdown",
      "metadata": {
        "id": "Eg5ZP6ZDFNHd",
        "colab_type": "text"
      },
      "source": [
        "## [**2.Using the Python Interpreter**](https://docs.python.org/3/tutorial/interpreter.html)"
      ]
    },
    {
      "cell_type": "markdown",
      "metadata": {
        "id": "-fgAkNpAILdN",
        "colab_type": "text"
      },
      "source": [
        "###  **2.1 Invoking the Interpreter**"
      ]
    },
    {
      "cell_type": "markdown",
      "metadata": {
        "id": "TXXz46hSt5V4",
        "colab_type": "text"
      },
      "source": [
        "The way of starting python interpreter"
      ]
    },
    {
      "cell_type": "markdown",
      "metadata": {
        "id": "2uKSWb8z3WmD",
        "colab_type": "text"
      },
      "source": [
        "* Start: python3.8<br>\n",
        "stop: quit()\n",
        "\n",
        "\n",
        "or<br> \n",
        "command line and environment\n",
        "\n",
        "* start: python -c command [arg]...\n",
        "\n",
        "or \n",
        "\n",
        "* pyton -m module [arg] ...\n"
      ]
    },
    {
      "cell_type": "markdown",
      "metadata": {
        "id": "R8GHLuIYfrsx",
        "colab_type": "text"
      },
      "source": [
        "#### **2.1.1 Argument Passing** "
      ]
    },
    {
      "cell_type": "markdown",
      "metadata": {
        "id": "Qmkdsi4m392I",
        "colab_type": "text"
      },
      "source": [
        "`python argument0 argument1 argument2....`\n",
        "\n",
        "So system bata argument lai accept garni sys module hunxa jasle argument receive garxa system bata."
      ]
    },
    {
      "cell_type": "code",
      "metadata": {
        "id": "iblh5WUTvBZj",
        "colab_type": "code",
        "colab": {
          "base_uri": "https://localhost:8080/",
          "height": 207
        },
        "outputId": "fdd49a3f-d14f-43f0-9e50-0325d6843cea"
      },
      "source": [
        "import sys\n",
        "\n",
        "#help(sys)\n",
        "\n",
        "\n",
        "print(sys.argv)\n",
        "print('\\n')\n",
        "print(sys.argv[0]) # argument0 eg. run.py\n",
        "print('\\n')\n",
        "print(sys.argv[1]) # argument1 \n",
        "print('\\n')\n",
        "print(sys.argv[2]) # argument2"
      ],
      "execution_count": null,
      "outputs": [
        {
          "output_type": "stream",
          "text": [
            "['/usr/local/lib/python3.6/dist-packages/ipykernel_launcher.py', '-f', '/root/.local/share/jupyter/runtime/kernel-188543b4-9cd5-4068-8dd5-a0231e2b13a6.json']\n",
            "\n",
            "\n",
            "/usr/local/lib/python3.6/dist-packages/ipykernel_launcher.py\n",
            "\n",
            "\n",
            "-f\n",
            "\n",
            "\n",
            "/root/.local/share/jupyter/runtime/kernel-188543b4-9cd5-4068-8dd5-a0231e2b13a6.json\n"
          ],
          "name": "stdout"
        }
      ]
    },
    {
      "cell_type": "markdown",
      "metadata": {
        "id": "tQxI9roWwopc",
        "colab_type": "text"
      },
      "source": [
        "#### **2.1.2 Interactive Mode**"
      ]
    },
    {
      "cell_type": "markdown",
      "metadata": {
        "id": "HO1dFU6L7V0J",
        "colab_type": "text"
      },
      "source": [
        "`$ python3.8`"
      ]
    },
    {
      "cell_type": "code",
      "metadata": {
        "id": "XiUFuwzuvtpQ",
        "colab_type": "code",
        "colab": {}
      },
      "source": [
        ""
      ],
      "execution_count": null,
      "outputs": []
    },
    {
      "cell_type": "markdown",
      "metadata": {
        "id": "f1Fi-uQYw55S",
        "colab_type": "text"
      },
      "source": [
        "### **2.2 The Interpreter and Its Environment**"
      ]
    },
    {
      "cell_type": "markdown",
      "metadata": {
        "id": "Tl4dSFkHxPpZ",
        "colab_type": "text"
      },
      "source": [
        "#### **2.2.1 Source Code Encoding**"
      ]
    },
    {
      "cell_type": "markdown",
      "metadata": {
        "id": "Hx86uX_A74ZV",
        "colab_type": "text"
      },
      "source": [
        "* By default, Python source files are treated as encoded in UTF-8.\n",
        "* To declare an encoding other than the default one, a special comment line should be added as the first line of the file. The syntax is as follows:"
      ]
    },
    {
      "cell_type": "code",
      "metadata": {
        "id": "wqJ3YakxxL6H",
        "colab_type": "code",
        "colab": {}
      },
      "source": [
        "#!/usr/bin/env python3\n",
        "# -*- coding: encoding -*- or # -*- coding: cp1252 -*-\n",
        "\n"
      ],
      "execution_count": null,
      "outputs": []
    },
    {
      "cell_type": "markdown",
      "metadata": {
        "id": "gWkfNlLN849V",
        "colab_type": "text"
      },
      "source": [
        "## [**3. An information introduction to python**](https://docs.python.org/3/tutorial/introduction.html)"
      ]
    },
    {
      "cell_type": "markdown",
      "metadata": {
        "id": "By2sI9Hs9ZeD",
        "colab_type": "text"
      },
      "source": [
        "### **3.1 Using python as a calculator**"
      ]
    },
    {
      "cell_type": "markdown",
      "metadata": {
        "id": "fV2f-L0q-Jj_",
        "colab_type": "text"
      },
      "source": [
        "#### **3.1.1 Number**"
      ]
    },
    {
      "cell_type": "markdown",
      "metadata": {
        "id": "yHxBU1O5-OoM",
        "colab_type": "text"
      },
      "source": [
        "#### **3.1.2 Strings**\n"
      ]
    },
    {
      "cell_type": "markdown",
      "metadata": {
        "id": "lwQB6zwk-SYp",
        "colab_type": "text"
      },
      "source": [
        "#### **3.1.3 Lists**"
      ]
    },
    {
      "cell_type": "markdown",
      "metadata": {
        "id": "2szY6um3-c5y",
        "colab_type": "text"
      },
      "source": [
        "### **3.2 First steps toward programming**"
      ]
    },
    {
      "cell_type": "markdown",
      "metadata": {
        "id": "cJMaT6Oa-k1u",
        "colab_type": "text"
      },
      "source": [
        "## [**4. More control flow tools**](https://docs.python.org/3/tutorial/controlflow.html)"
      ]
    },
    {
      "cell_type": "markdown",
      "metadata": {
        "id": "rMhXosoj_8vY",
        "colab_type": "text"
      },
      "source": [
        "### **4.1 if statements**\n",
        "\n",
        "\n",
        "\n",
        "```\n",
        "\n",
        "if condition(true or false):\n",
        "   body\n",
        "elif condition(true or false):\n",
        " ...\n",
        "else: \n",
        "```\n"
      ]
    },
    {
      "cell_type": "code",
      "metadata": {
        "id": "-g6C4WFi9EKi",
        "colab_type": "code",
        "colab": {
          "base_uri": "https://localhost:8080/",
          "height": 34
        },
        "outputId": "8011d7b1-2357-44e9-cd70-9f862f092774"
      },
      "source": [
        "if True:\n",
        "  print('condition is true')\n",
        "elif True:\n",
        "  print('elif condition id true')\n",
        "else:\n",
        "  print('all above condition are false')"
      ],
      "execution_count": null,
      "outputs": [
        {
          "output_type": "stream",
          "text": [
            "condition is true\n"
          ],
          "name": "stdout"
        }
      ]
    },
    {
      "cell_type": "markdown",
      "metadata": {
        "id": "TkvXdU0PByQZ",
        "colab_type": "text"
      },
      "source": [
        "### **4.2 for statements**\n",
        "\n",
        "* Note: Iterator ko auta auta element nikalyara denxa\n",
        "\n",
        "* Note: iterator ko kasto(element, key...) element  denxa tyo tha pauni ok\n",
        "\n",
        "```\n",
        "for elemen in iterator:\n",
        "     body\n",
        "```\n",
        "\n"
      ]
    },
    {
      "cell_type": "code",
      "metadata": {
        "id": "3KK6glg8BfWw",
        "colab_type": "code",
        "colab": {
          "base_uri": "https://localhost:8080/",
          "height": 68
        },
        "outputId": "2521c8f7-e297-413b-8e55-927ef0604ff3"
      },
      "source": [
        "madan=['helo','iam','madan']\n",
        "for i in madan:\n",
        "  print(i)"
      ],
      "execution_count": null,
      "outputs": [
        {
          "output_type": "stream",
          "text": [
            "helo\n",
            "iam\n",
            "madan\n"
          ],
          "name": "stdout"
        }
      ]
    },
    {
      "cell_type": "code",
      "metadata": {
        "id": "mTHbfE-mCagk",
        "colab_type": "code",
        "colab": {
          "base_uri": "https://localhost:8080/",
          "height": 102
        },
        "outputId": "1da60676-6d3d-49b7-f3bf-b7d59b7985bc"
      },
      "source": [
        "for i in range(5):\n",
        "  print(i)"
      ],
      "execution_count": null,
      "outputs": [
        {
          "output_type": "stream",
          "text": [
            "0\n",
            "1\n",
            "2\n",
            "3\n",
            "4\n"
          ],
          "name": "stdout"
        }
      ]
    },
    {
      "cell_type": "markdown",
      "metadata": {
        "id": "q6qDeskoC97p",
        "colab_type": "text"
      },
      "source": [
        "* **Note: dictionary ma key as a element denxa**"
      ]
    },
    {
      "cell_type": "code",
      "metadata": {
        "id": "HBfqLHJTCoC-",
        "colab_type": "code",
        "colab": {
          "base_uri": "https://localhost:8080/",
          "height": 68
        },
        "outputId": "1a6e32ae-62c7-495f-ae90-2d79f80cbbaf"
      },
      "source": [
        "dic={'on':\"one\",'2':\"two\",'3':\"three\"} # dictonary ma key denya raixa\n",
        "for i in dic:\n",
        "  print(i)"
      ],
      "execution_count": null,
      "outputs": [
        {
          "output_type": "stream",
          "text": [
            "on\n",
            "2\n",
            "3\n"
          ],
          "name": "stdout"
        }
      ]
    },
    {
      "cell_type": "markdown",
      "metadata": {
        "id": "3Ho1d1KrD-P3",
        "colab_type": "text"
      },
      "source": [
        "### **4.3 The range() function**\n",
        "\n",
        "\n"
      ]
    },
    {
      "cell_type": "markdown",
      "metadata": {
        "id": "hYzHXwWbE7Ll",
        "colab_type": "text"
      },
      "source": [
        "* range(n)\n",
        "\n",
        "start from:0\n",
        "\n",
        "end at : n-1 (last exclude)\n",
        "\n",
        "Note: numerial value denxa step anushar"
      ]
    },
    {
      "cell_type": "code",
      "metadata": {
        "id": "Bs7u7m3oC0mW",
        "colab_type": "code",
        "colab": {
          "base_uri": "https://localhost:8080/",
          "height": 34
        },
        "outputId": "ff10f1a6-16d8-4c10-c0a9-fa7d84693d9b"
      },
      "source": [
        "range(5)"
      ],
      "execution_count": null,
      "outputs": [
        {
          "output_type": "execute_result",
          "data": {
            "text/plain": [
              "range(0, 5)"
            ]
          },
          "metadata": {
            "tags": []
          },
          "execution_count": 32
        }
      ]
    },
    {
      "cell_type": "code",
      "metadata": {
        "id": "e8-dOl17ET8i",
        "colab_type": "code",
        "colab": {
          "base_uri": "https://localhost:8080/",
          "height": 34
        },
        "outputId": "f5bf870f-94c2-45ae-b812-8289d589d6c6"
      },
      "source": [
        "list(range(6))"
      ],
      "execution_count": null,
      "outputs": [
        {
          "output_type": "execute_result",
          "data": {
            "text/plain": [
              "[0, 1, 2, 3, 4, 5]"
            ]
          },
          "metadata": {
            "tags": []
          },
          "execution_count": 33
        }
      ]
    },
    {
      "cell_type": "code",
      "metadata": {
        "id": "QOTNye-sEWtV",
        "colab_type": "code",
        "colab": {
          "base_uri": "https://localhost:8080/",
          "height": 102
        },
        "outputId": "e5f0c7d6-7b07-46ae-8ce3-9a110a3f1fb5"
      },
      "source": [
        "for i in range(5):\n",
        "  print(i)"
      ],
      "execution_count": null,
      "outputs": [
        {
          "output_type": "stream",
          "text": [
            "0\n",
            "1\n",
            "2\n",
            "3\n",
            "4\n"
          ],
          "name": "stdout"
        }
      ]
    },
    {
      "cell_type": "code",
      "metadata": {
        "id": "16W7Q35LE27F",
        "colab_type": "code",
        "colab": {
          "base_uri": "https://localhost:8080/",
          "height": 85
        },
        "outputId": "163a1980-87aa-4ab0-c9a8-05d7b4316ec1"
      },
      "source": [
        "a=['madan','baduwal','from','kailali']\n",
        "\n",
        "for i in range(len(a)):\n",
        "  print(i,a[i])"
      ],
      "execution_count": null,
      "outputs": [
        {
          "output_type": "stream",
          "text": [
            "0 madan\n",
            "1 baduwal\n",
            "2 from\n",
            "3 kailali\n"
          ],
          "name": "stdout"
        }
      ]
    },
    {
      "cell_type": "code",
      "metadata": {
        "id": "ZavPxV7YFv5P",
        "colab_type": "code",
        "colab": {
          "base_uri": "https://localhost:8080/",
          "height": 34
        },
        "outputId": "48c52b0f-c63e-43c8-a850-630f50c8922c"
      },
      "source": [
        "sum(range(5))# 1+2+3+4"
      ],
      "execution_count": null,
      "outputs": [
        {
          "output_type": "execute_result",
          "data": {
            "text/plain": [
              "10"
            ]
          },
          "metadata": {
            "tags": []
          },
          "execution_count": 36
        }
      ]
    },
    {
      "cell_type": "markdown",
      "metadata": {
        "id": "jLlMeteLGT1X",
        "colab_type": "text"
      },
      "source": [
        "### **4.4 break and continue statements, and else clauses on loops**"
      ]
    },
    {
      "cell_type": "markdown",
      "metadata": {
        "id": "CXg-BfUAG_Kz",
        "colab_type": "text"
      },
      "source": [
        "The break statement, like in C, breaks out of the innermost enclosing for or while loop.\n",
        "\n",
        "* break: loop break garna use garinxa\n",
        "\n",
        "* continue: loop continue garirakhna use garinxa\n"
      ]
    },
    {
      "cell_type": "code",
      "metadata": {
        "id": "LzPJh5BkMxw7",
        "colab_type": "code",
        "colab": {
          "base_uri": "https://localhost:8080/",
          "height": 34
        },
        "outputId": "0ad7c82f-7fe8-4302-b265-da4df2e0fef8"
      },
      "source": [
        "for num in range(2, 10):\n",
        "   if num % 2 == 0:\n",
        "        print(\"Found an even number\", num)\n",
        "        break"
      ],
      "execution_count": null,
      "outputs": [
        {
          "output_type": "stream",
          "text": [
            "Found an even number 2\n"
          ],
          "name": "stdout"
        }
      ]
    },
    {
      "cell_type": "code",
      "metadata": {
        "id": "OocSd6BrGzZG",
        "colab_type": "code",
        "colab": {
          "base_uri": "https://localhost:8080/",
          "height": 85
        },
        "outputId": "82fb0a87-b6b5-4490-e977-6866fc9126c1"
      },
      "source": [
        "for num in range(2, 10):\n",
        "   if num % 2 == 0:\n",
        "        print(\"Found an even number\", num)\n",
        "        continue"
      ],
      "execution_count": null,
      "outputs": [
        {
          "output_type": "stream",
          "text": [
            "Found an even number 2\n",
            "Found an even number 4\n",
            "Found an even number 6\n",
            "Found an even number 8\n"
          ],
          "name": "stdout"
        }
      ]
    },
    {
      "cell_type": "markdown",
      "metadata": {
        "id": "QvncKXS1OrYW",
        "colab_type": "text"
      },
      "source": [
        "### **4.5 pass statement**"
      ]
    },
    {
      "cell_type": "code",
      "metadata": {
        "id": "4V6q-KQNMt85",
        "colab_type": "code",
        "colab": {}
      },
      "source": [
        "# while True:\n",
        "#   pass"
      ],
      "execution_count": null,
      "outputs": []
    },
    {
      "cell_type": "code",
      "metadata": {
        "id": "_jtFI-5yPQnT",
        "colab_type": "code",
        "colab": {}
      },
      "source": [
        "class empty:\n",
        "  pass"
      ],
      "execution_count": null,
      "outputs": []
    },
    {
      "cell_type": "code",
      "metadata": {
        "id": "omLuxt1hPVXQ",
        "colab_type": "code",
        "colab": {}
      },
      "source": [
        "def empty():\n",
        "  pass"
      ],
      "execution_count": null,
      "outputs": []
    },
    {
      "cell_type": "code",
      "metadata": {
        "id": "35-LbmLuP4y-",
        "colab_type": "code",
        "colab": {}
      },
      "source": [
        "empty()"
      ],
      "execution_count": null,
      "outputs": []
    },
    {
      "cell_type": "markdown",
      "metadata": {
        "id": "_tcyZuw2Pb-L",
        "colab_type": "text"
      },
      "source": [
        "### **4.6 Defining function**"
      ]
    },
    {
      "cell_type": "markdown",
      "metadata": {
        "id": "kmxZ8nt5P9AO",
        "colab_type": "text"
      },
      "source": [
        "Note:\n",
        "\n",
        "* function start with small latter \n",
        "* Class start with Capital letter"
      ]
    },
    {
      "cell_type": "code",
      "metadata": {
        "id": "neHz0L-aPrSp",
        "colab_type": "code",
        "colab": {}
      },
      "source": [
        "def functionname(a,b): \n",
        "  \"\"\" Gets two parameters a and b add them\n",
        "\n",
        "  parameters\n",
        "  ----------\n",
        "  a: int,float\n",
        "    First parameter of addition operation\n",
        "  b: int,float\n",
        "    Second parameter of addition operation\n",
        "\n",
        "  Returns\n",
        "  -------\n",
        "  int,float\n",
        "     a float or int sum of two values\n",
        "  \"\"\"\n",
        "  c=a+b\n",
        "  return c\n",
        "\n"
      ],
      "execution_count": null,
      "outputs": []
    },
    {
      "cell_type": "code",
      "metadata": {
        "id": "Ioaz89asTlBX",
        "colab_type": "code",
        "colab": {
          "base_uri": "https://localhost:8080/",
          "height": 34
        },
        "outputId": "9eb271fa-2d9e-480d-d704-48346746e222"
      },
      "source": [
        "functionname"
      ],
      "execution_count": null,
      "outputs": [
        {
          "output_type": "execute_result",
          "data": {
            "text/plain": [
              "<function __main__.functionname>"
            ]
          },
          "metadata": {
            "tags": []
          },
          "execution_count": 83
        }
      ]
    },
    {
      "cell_type": "code",
      "metadata": {
        "id": "2UlgCBkcU9af",
        "colab_type": "code",
        "colab": {
          "base_uri": "https://localhost:8080/",
          "height": 34
        },
        "outputId": "dd3c1da5-c8f2-4eff-c8f4-99d5f2f5db3a"
      },
      "source": [
        "print(functionname)"
      ],
      "execution_count": null,
      "outputs": [
        {
          "output_type": "stream",
          "text": [
            "<function functionname at 0x7f1667750048>\n"
          ],
          "name": "stdout"
        }
      ]
    },
    {
      "cell_type": "code",
      "metadata": {
        "id": "ZRHKTCZdSdQp",
        "colab_type": "code",
        "colab": {}
      },
      "source": [
        "functionname.__doc__"
      ],
      "execution_count": null,
      "outputs": []
    },
    {
      "cell_type": "code",
      "metadata": {
        "id": "WNuHWsJkUTJZ",
        "colab_type": "code",
        "colab": {}
      },
      "source": [
        "print(functionname.__doc__)"
      ],
      "execution_count": null,
      "outputs": []
    },
    {
      "cell_type": "code",
      "metadata": {
        "id": "NZQuJmdPSgXc",
        "colab_type": "code",
        "colab": {}
      },
      "source": [
        "help(functionname)"
      ],
      "execution_count": null,
      "outputs": []
    },
    {
      "cell_type": "code",
      "metadata": {
        "id": "z-nHR-nsVaW-",
        "colab_type": "code",
        "colab": {}
      },
      "source": [
        "print(help(functionname))"
      ],
      "execution_count": null,
      "outputs": []
    },
    {
      "cell_type": "code",
      "metadata": {
        "id": "fGgmUxwATVgA",
        "colab_type": "code",
        "colab": {}
      },
      "source": [
        "dir(functionname)"
      ],
      "execution_count": null,
      "outputs": []
    },
    {
      "cell_type": "code",
      "metadata": {
        "id": "CERA5283UMRu",
        "colab_type": "code",
        "colab": {}
      },
      "source": [
        "print(dir(functionname))"
      ],
      "execution_count": null,
      "outputs": []
    },
    {
      "cell_type": "markdown",
      "metadata": {
        "id": "VcRminnOWtAY",
        "colab_type": "text"
      },
      "source": [
        "### **4.7 More on Defining Functions**"
      ]
    },
    {
      "cell_type": "markdown",
      "metadata": {
        "id": "DlvLKgAWW8OC",
        "colab_type": "text"
      },
      "source": [
        "#### **4.7.1 Default argument values**"
      ]
    },
    {
      "cell_type": "markdown",
      "metadata": {
        "id": "2zBtnacRXGHB",
        "colab_type": "text"
      },
      "source": [
        "Note: \n",
        "* no default argument should't follow default argument\n",
        "\n",
        "* giving only the mandatory argument: ok\n",
        "* giving one of the optional arguments:ok\n",
        "* or even giving all arguments:ok"
      ]
    },
    {
      "cell_type": "code",
      "metadata": {
        "id": "bXekD9E5ZHmq",
        "colab_type": "code",
        "colab": {
          "base_uri": "https://localhost:8080/",
          "height": 129
        },
        "outputId": "3e64c5dd-1060-4858-f73b-0f2ae3da3f53"
      },
      "source": [
        "def add(a=1,b=2,c): # Note order matter in default and non-default arguments\n",
        "  return a+b+c"
      ],
      "execution_count": null,
      "outputs": [
        {
          "output_type": "error",
          "ename": "SyntaxError",
          "evalue": "ignored",
          "traceback": [
            "\u001b[0;36m  File \u001b[0;32m\"<ipython-input-109-954fed0dcc18>\"\u001b[0;36m, line \u001b[0;32m1\u001b[0m\n\u001b[0;31m    def add(a=1,b=2,c):\u001b[0m\n\u001b[0m           ^\u001b[0m\n\u001b[0;31mSyntaxError\u001b[0m\u001b[0;31m:\u001b[0m non-default argument follows default argument\n"
          ]
        }
      ]
    },
    {
      "cell_type": "code",
      "metadata": {
        "id": "EGdHKdw0WyLv",
        "colab_type": "code",
        "colab": {}
      },
      "source": [
        "def add(c,a=1,b=2):\n",
        "  return a+b+c"
      ],
      "execution_count": null,
      "outputs": []
    },
    {
      "cell_type": "code",
      "metadata": {
        "id": "d8mtVNMpXcS3",
        "colab_type": "code",
        "colab": {
          "base_uri": "https://localhost:8080/",
          "height": 34
        },
        "outputId": "2b648d1b-2393-459f-ca0d-0adb3e0bc9cf"
      },
      "source": [
        "add(3) "
      ],
      "execution_count": null,
      "outputs": [
        {
          "output_type": "execute_result",
          "data": {
            "text/plain": [
              "6"
            ]
          },
          "metadata": {
            "tags": []
          },
          "execution_count": 106
        }
      ]
    },
    {
      "cell_type": "code",
      "metadata": {
        "id": "T60th9UnXdi8",
        "colab_type": "code",
        "colab": {
          "base_uri": "https://localhost:8080/",
          "height": 34
        },
        "outputId": "47d3e9f1-bc7f-4d2e-8bf4-cd6f92b468b8"
      },
      "source": [
        "add(5,4)"
      ],
      "execution_count": null,
      "outputs": [
        {
          "output_type": "execute_result",
          "data": {
            "text/plain": [
              "11"
            ]
          },
          "metadata": {
            "tags": []
          },
          "execution_count": 107
        }
      ]
    },
    {
      "cell_type": "code",
      "metadata": {
        "id": "XsDqRMzkXt37",
        "colab_type": "code",
        "colab": {
          "base_uri": "https://localhost:8080/",
          "height": 34
        },
        "outputId": "7e24835c-f3b2-4b96-aa84-288a1e0416a4"
      },
      "source": [
        "add(1,2,3)"
      ],
      "execution_count": null,
      "outputs": [
        {
          "output_type": "execute_result",
          "data": {
            "text/plain": [
              "6"
            ]
          },
          "metadata": {
            "tags": []
          },
          "execution_count": 112
        }
      ]
    },
    {
      "cell_type": "markdown",
      "metadata": {
        "id": "sgagoSTsaUus",
        "colab_type": "text"
      },
      "source": [
        "**Important warning:** The default value is evaluated only once. This makes a difference when the default is a mutable object such as a list, dictionary, or instances of most classes."
      ]
    },
    {
      "cell_type": "code",
      "metadata": {
        "id": "adtb3DM6Zy1u",
        "colab_type": "code",
        "colab": {
          "base_uri": "https://localhost:8080/",
          "height": 68
        },
        "outputId": "7629a4dd-eedd-46c8-f921-7b06a5471414"
      },
      "source": [
        "def f(a, L=[]):\n",
        "    L.append(a)\n",
        "    return L\n",
        "\n",
        "print(f(1))\n",
        "print(f(2))\n",
        "print(f(3))\n"
      ],
      "execution_count": null,
      "outputs": [
        {
          "output_type": "stream",
          "text": [
            "[1]\n",
            "[1, 2]\n",
            "[1, 2, 3]\n"
          ],
          "name": "stdout"
        }
      ]
    },
    {
      "cell_type": "markdown",
      "metadata": {
        "id": "FyaybgPobJCl",
        "colab_type": "text"
      },
      "source": [
        "#### **4.7.2 Keyword Arguments**"
      ]
    },
    {
      "cell_type": "markdown",
      "metadata": {
        "id": "Rur8oqeub-Kk",
        "colab_type": "text"
      },
      "source": [
        "* Functions can also be called using keyword arguments of the form kwarg=value."
      ]
    },
    {
      "cell_type": "code",
      "metadata": {
        "id": "katQq1U6a537",
        "colab_type": "code",
        "colab": {}
      },
      "source": [
        "def a(a,b=1,c=2):\n",
        "  return a+b+c"
      ],
      "execution_count": null,
      "outputs": []
    },
    {
      "cell_type": "code",
      "metadata": {
        "id": "NRZE1_2EcNlL",
        "colab_type": "code",
        "colab": {
          "base_uri": "https://localhost:8080/",
          "height": 34
        },
        "outputId": "678904fd-0c61-43cb-aae2-26ceff8ac790"
      },
      "source": [
        "a(1) # 1 positional argument"
      ],
      "execution_count": null,
      "outputs": [
        {
          "output_type": "execute_result",
          "data": {
            "text/plain": [
              "4"
            ]
          },
          "metadata": {
            "tags": []
          },
          "execution_count": 120
        }
      ]
    },
    {
      "cell_type": "code",
      "metadata": {
        "id": "mcrnDepJcYLO",
        "colab_type": "code",
        "colab": {
          "base_uri": "https://localhost:8080/",
          "height": 34
        },
        "outputId": "3cf890a8-2250-43a7-a860-83030a60f22b"
      },
      "source": [
        "a(a=1) # 1 keyword argument"
      ],
      "execution_count": null,
      "outputs": [
        {
          "output_type": "execute_result",
          "data": {
            "text/plain": [
              "4"
            ]
          },
          "metadata": {
            "tags": []
          },
          "execution_count": 121
        }
      ]
    },
    {
      "cell_type": "code",
      "metadata": {
        "id": "hKusM48Ncc6b",
        "colab_type": "code",
        "colab": {
          "base_uri": "https://localhost:8080/",
          "height": 34
        },
        "outputId": "85e9f2c4-afc1-4885-eaaf-f16da7fea161"
      },
      "source": [
        "a(a=1,c=4) # 2 keyword arguments"
      ],
      "execution_count": null,
      "outputs": [
        {
          "output_type": "execute_result",
          "data": {
            "text/plain": [
              "6"
            ]
          },
          "metadata": {
            "tags": []
          },
          "execution_count": 123
        }
      ]
    },
    {
      "cell_type": "markdown",
      "metadata": {
        "id": "THDkwP0ody86",
        "colab_type": "text"
      },
      "source": [
        "keyword help doesn't matter in order"
      ]
    },
    {
      "cell_type": "code",
      "metadata": {
        "id": "j5j9oUVFdjOR",
        "colab_type": "code",
        "colab": {}
      },
      "source": [
        "def d(a,b):\n",
        "  return b/a"
      ],
      "execution_count": null,
      "outputs": []
    },
    {
      "cell_type": "code",
      "metadata": {
        "id": "94XNaWQOdsm7",
        "colab_type": "code",
        "colab": {
          "base_uri": "https://localhost:8080/",
          "height": 34
        },
        "outputId": "ea013565-43d2-4242-9fe7-f328d3efd646"
      },
      "source": [
        "d(b=4,a=2)"
      ],
      "execution_count": null,
      "outputs": [
        {
          "output_type": "execute_result",
          "data": {
            "text/plain": [
              "2.0"
            ]
          },
          "metadata": {
            "tags": []
          },
          "execution_count": 127
        }
      ]
    },
    {
      "cell_type": "markdown",
      "metadata": {
        "id": "yGMJI0vheFhd",
        "colab_type": "text"
      },
      "source": [
        "\n",
        "```\n",
        "Note:\n",
        "\n",
        " Tuple as a argument: *name\n",
        " Dictionary as a argument: **name\n",
        "```\n",
        "\n",
        "\n"
      ]
    },
    {
      "cell_type": "code",
      "metadata": {
        "id": "gAq0LDMpet-f",
        "colab_type": "code",
        "colab": {}
      },
      "source": [
        "def function1(tup,dit):\n",
        "  print(tup)\n",
        "  print(tup[0])\n",
        "  print(dit)\n",
        "  print(dit['one'])"
      ],
      "execution_count": null,
      "outputs": []
    },
    {
      "cell_type": "code",
      "metadata": {
        "id": "A7QBwZIpfHxi",
        "colab_type": "code",
        "colab": {
          "base_uri": "https://localhost:8080/",
          "height": 85
        },
        "outputId": "f3b52264-9a0d-4f39-d6bb-ba876d5492f6"
      },
      "source": [
        "arg1=(1,2,3,4)\n",
        "arg2={'one':1,'two':2,'three':3}\n",
        "\n",
        "function1(arg1,arg2)"
      ],
      "execution_count": null,
      "outputs": [
        {
          "output_type": "stream",
          "text": [
            "(1, 2, 3, 4)\n",
            "1\n",
            "{'one': 1, 'two': 2, 'three': 3}\n",
            "1\n"
          ],
          "name": "stdout"
        }
      ]
    },
    {
      "cell_type": "markdown",
      "metadata": {
        "id": "6CBAXIt9hB-R",
        "colab_type": "text"
      },
      "source": [
        "Note: doing * name and ** name is , while calling function we can call as follow, and function receive as tuple and dictionary."
      ]
    },
    {
      "cell_type": "code",
      "metadata": {
        "id": "2NzyYCdlfViu",
        "colab_type": "code",
        "colab": {}
      },
      "source": [
        "def function12(*tup,**dit):\n",
        "  print(tup)\n",
        "  print(dit)"
      ],
      "execution_count": null,
      "outputs": []
    },
    {
      "cell_type": "code",
      "metadata": {
        "id": "MYguUc-yfwc3",
        "colab_type": "code",
        "colab": {
          "base_uri": "https://localhost:8080/",
          "height": 51
        },
        "outputId": "4fec5fca-b765-48d1-993a-b67a88b1a51d"
      },
      "source": [
        "function12(1,2,shopkeeper=\"Michael Palin\",client=\"John Cleese\",sketch=\"Cheese Shop Sketch\")"
      ],
      "execution_count": null,
      "outputs": [
        {
          "output_type": "stream",
          "text": [
            "(1, 2)\n",
            "{'shopkeeper': 'Michael Palin', 'client': 'John Cleese', 'sketch': 'Cheese Shop Sketch'}\n"
          ],
          "name": "stdout"
        }
      ]
    },
    {
      "cell_type": "markdown",
      "metadata": {
        "id": "dldQkiKbi6j8",
        "colab_type": "text"
      },
      "source": [
        "**Note: keyword 1 rakhnu paryo vanya kasari rakhni?**"
      ]
    },
    {
      "cell_type": "code",
      "metadata": {
        "id": "iVd-A_Ssjr-c",
        "colab_type": "code",
        "colab": {
          "base_uri": "https://localhost:8080/",
          "height": 129
        },
        "outputId": "39c4fae8-de51-4741-f5ae-978ac6b8502a"
      },
      "source": [
        "function12(1,2,1=\"Michael Palin\",client=\"John Cleese\",sketch=\"Cheese Shop Sketch\")"
      ],
      "execution_count": null,
      "outputs": [
        {
          "output_type": "error",
          "ename": "SyntaxError",
          "evalue": "ignored",
          "traceback": [
            "\u001b[0;36m  File \u001b[0;32m\"<ipython-input-170-43a1ab3f7e29>\"\u001b[0;36m, line \u001b[0;32m1\u001b[0m\n\u001b[0;31m    function12(1,2,1=\"Michael Palin\",client=\"John Cleese\",sketch=\"Cheese Shop Sketch\")\u001b[0m\n\u001b[0m                  ^\u001b[0m\n\u001b[0;31mSyntaxError\u001b[0m\u001b[0;31m:\u001b[0m keyword can't be an expression\n"
          ]
        }
      ]
    },
    {
      "cell_type": "markdown",
      "metadata": {
        "id": "kcAogpY1kqmm",
        "colab_type": "text"
      },
      "source": [
        "Note: dictionary ta {'key':value} yasari banauni hina ra? so why i can't pass this formate."
      ]
    },
    {
      "cell_type": "code",
      "metadata": {
        "id": "H34qgRktfxue",
        "colab_type": "code",
        "colab": {
          "base_uri": "https://localhost:8080/",
          "height": 129
        },
        "outputId": "c6d86b2d-f385-40a5-bae3-5667628f52bb"
      },
      "source": [
        "function12(1,2,'madan'=Michael Palin,'client'=John Cleese,'sketch'=Cheese Shop Sketch)"
      ],
      "execution_count": null,
      "outputs": [
        {
          "output_type": "error",
          "ename": "SyntaxError",
          "evalue": "ignored",
          "traceback": [
            "\u001b[0;36m  File \u001b[0;32m\"<ipython-input-171-ca51ad90b62b>\"\u001b[0;36m, line \u001b[0;32m1\u001b[0m\n\u001b[0;31m    function12(1,2,'madan'=Michael Palin,'client'=John Cleese,'sketch'=Cheese Shop Sketch)\u001b[0m\n\u001b[0m                                       ^\u001b[0m\n\u001b[0;31mSyntaxError\u001b[0m\u001b[0;31m:\u001b[0m invalid syntax\n"
          ]
        }
      ]
    },
    {
      "cell_type": "markdown",
      "metadata": {
        "id": "C05vKq5Yk8Yp",
        "colab_type": "text"
      },
      "source": [
        "#### **4.7.3 Special parameters**"
      ]
    },
    {
      "cell_type": "markdown",
      "metadata": {
        "id": "qrrIo5jalz9l",
        "colab_type": "text"
      },
      "source": [
        "##### **4.7.3.1 Position-or-keywors arguments**"
      ]
    },
    {
      "cell_type": "markdown",
      "metadata": {
        "id": "c9mZ9_QSl_BH",
        "colab_type": "text"
      },
      "source": [
        "If / and * are not present in the function definition, arguments may be passed to a function by position or by keyword."
      ]
    },
    {
      "cell_type": "markdown",
      "metadata": {
        "id": "vr-CNCrFmBsA",
        "colab_type": "text"
      },
      "source": [
        "##### **4.7.3.2 position-only parameters**"
      ]
    },
    {
      "cell_type": "markdown",
      "metadata": {
        "id": "4pai8bfFma0m",
        "colab_type": "text"
      },
      "source": [
        "If positional-only, the parameters’ order matters, and the parameters cannot be passed by keyword"
      ]
    },
    {
      "cell_type": "code",
      "metadata": {
        "id": "KVd48LoJi2re",
        "colab_type": "code",
        "colab": {
          "base_uri": "https://localhost:8080/",
          "height": 129
        },
        "outputId": "8ff37db9-952a-4e51-9614-6ff39521f800"
      },
      "source": [
        "def pow(x, y,/, mod=None):\n",
        "    r = x ** y\n",
        "    if mod is not None:\n",
        "        r %= mod\n",
        "    return r"
      ],
      "execution_count": null,
      "outputs": [
        {
          "output_type": "error",
          "ename": "SyntaxError",
          "evalue": "ignored",
          "traceback": [
            "\u001b[0;36m  File \u001b[0;32m\"<ipython-input-1-ae76f20303dc>\"\u001b[0;36m, line \u001b[0;32m1\u001b[0m\n\u001b[0;31m    def pow(x, y,/, mod=None):\u001b[0m\n\u001b[0m                 ^\u001b[0m\n\u001b[0;31mSyntaxError\u001b[0m\u001b[0;31m:\u001b[0m invalid syntax\n"
          ]
        }
      ]
    },
    {
      "cell_type": "code",
      "metadata": {
        "id": "Uhxp3l8WuhL1",
        "colab_type": "code",
        "colab": {
          "base_uri": "https://localhost:8080/",
          "height": 34
        },
        "outputId": "4190f94a-0d8e-4b62-f18d-de2648080182"
      },
      "source": [
        "#pow(2, 10)  # valid\n",
        "pow(2, 10, 17)  # valid\n",
        "# pow(2, 10, mod=17)  # valid\n",
        "#  pow(x=2, y=10)  # invalid, will raise a TypeError\n",
        "#  pow(2, y=10)  # invalid, will raise a TypeError"
      ],
      "execution_count": null,
      "outputs": [
        {
          "output_type": "execute_result",
          "data": {
            "text/plain": [
              "4"
            ]
          },
          "metadata": {
            "tags": []
          },
          "execution_count": 2
        }
      ]
    },
    {
      "cell_type": "markdown",
      "metadata": {
        "id": "DbXjKocip99l",
        "colab_type": "text"
      },
      "source": [
        "##### **4.7.3.3 Keyword-only arguments**"
      ]
    },
    {
      "cell_type": "markdown",
      "metadata": {
        "id": "jergy5ajqJ3D",
        "colab_type": "text"
      },
      "source": [
        "To mark parameters as keyword-only, indicating the parameters must be passed by keyword argument, place an * in the arguments list just before the first keyword-only parameter.\n",
        "\n"
      ]
    },
    {
      "cell_type": "code",
      "metadata": {
        "id": "qY6ox6S3nwtx",
        "colab_type": "code",
        "colab": {}
      },
      "source": [
        "def kwd_only_arg(*, arg):\n",
        "     print(arg)"
      ],
      "execution_count": null,
      "outputs": []
    },
    {
      "cell_type": "code",
      "metadata": {
        "id": "R8-M6Ekxpno6",
        "colab_type": "code",
        "colab": {
          "base_uri": "https://localhost:8080/",
          "height": 129
        },
        "outputId": "9e74e6f7-88d6-482d-f04b-0f2c6e45e562"
      },
      "source": [
        "\n",
        "def combined_example(pos_only, /, standard, *, kwd_only):\n",
        "     print(pos_only, standard, kwd_only)"
      ],
      "execution_count": null,
      "outputs": [
        {
          "output_type": "error",
          "ename": "SyntaxError",
          "evalue": "ignored",
          "traceback": [
            "\u001b[0;36m  File \u001b[0;32m\"<ipython-input-180-9ae8279b9b8d>\"\u001b[0;36m, line \u001b[0;32m2\u001b[0m\n\u001b[0;31m    def combined_example(pos_only, /, standard, *, kwd_only):\u001b[0m\n\u001b[0m                                   ^\u001b[0m\n\u001b[0;31mSyntaxError\u001b[0m\u001b[0;31m:\u001b[0m invalid syntax\n"
          ]
        }
      ]
    },
    {
      "cell_type": "markdown",
      "metadata": {
        "id": "wqBYeCCer3nj",
        "colab_type": "text"
      },
      "source": [
        "#### **4.7.4 Arbitrary Argument Lists**"
      ]
    },
    {
      "cell_type": "markdown",
      "metadata": {
        "id": "hMiwAJgRs38c",
        "colab_type": "text"
      },
      "source": [
        "Finally, the least frequently used option is to specify that a function can be called with an arbitrary number of arguments. These arguments will be wrapped up in a tuple"
      ]
    },
    {
      "cell_type": "code",
      "metadata": {
        "id": "B3MK_QLGqdEE",
        "colab_type": "code",
        "colab": {}
      },
      "source": [
        "def concat(*args, sep=\"/\"):\n",
        "     return sep.join(args)"
      ],
      "execution_count": null,
      "outputs": []
    },
    {
      "cell_type": "code",
      "metadata": {
        "id": "PNnZnI1ntA0C",
        "colab_type": "code",
        "colab": {
          "base_uri": "https://localhost:8080/",
          "height": 35
        },
        "outputId": "620a22ba-2d8e-40d9-fa96-c0f97c414717"
      },
      "source": [
        "concat(\"earth\", \"mars\", \"venus\", sep=\".\")"
      ],
      "execution_count": null,
      "outputs": [
        {
          "output_type": "execute_result",
          "data": {
            "application/vnd.google.colaboratory.intrinsic": {
              "type": "string"
            },
            "text/plain": [
              "'earth.mars.venus'"
            ]
          },
          "metadata": {
            "tags": []
          },
          "execution_count": 183
        }
      ]
    },
    {
      "cell_type": "markdown",
      "metadata": {
        "id": "oTB-W3tNteCS",
        "colab_type": "text"
      },
      "source": [
        "#### **4.7.5 Unpacking Argument Lists**"
      ]
    },
    {
      "cell_type": "code",
      "metadata": {
        "id": "KpZvOF5wtpIv",
        "colab_type": "code",
        "colab": {}
      },
      "source": [
        ""
      ],
      "execution_count": null,
      "outputs": []
    },
    {
      "cell_type": "markdown",
      "metadata": {
        "id": "UmYh-qF6FNVO",
        "colab_type": "text"
      },
      "source": [
        "#### **4.7.6 Lambda Expression**"
      ]
    },
    {
      "cell_type": "markdown",
      "metadata": {
        "id": "HFx70rPXF-Q_",
        "colab_type": "text"
      },
      "source": [
        "Small anonymous functions can be created with the lambda keyword. \n",
        "\n",
        "* `lambda arguments : expression`\n",
        "\n",
        "**Arguments:**\n",
        "\n",
        "-Positional arguments\n",
        "\n",
        "-Named arguments (sometimes called keyword arguments)\n",
        "\n",
        "-Variable list of arguments (often referred to as varargs)\n",
        "\n",
        "-Variable list of keyword arguments\n",
        "\n",
        "-Keyword-only arguments\n"
      ]
    },
    {
      "cell_type": "code",
      "metadata": {
        "id": "7dSuRC4IFcVQ",
        "colab_type": "code",
        "colab": {
          "base_uri": "https://localhost:8080/",
          "height": 34
        },
        "outputId": "2cfb0f75-c743-4bc3-d9bc-46c4e7fffb54"
      },
      "source": [
        "lambda a,b: a+b\n",
        "\n"
      ],
      "execution_count": null,
      "outputs": [
        {
          "output_type": "execute_result",
          "data": {
            "text/plain": [
              "<function __main__.<lambda>>"
            ]
          },
          "metadata": {
            "tags": []
          },
          "execution_count": 19
        }
      ]
    },
    {
      "cell_type": "code",
      "metadata": {
        "id": "GTX3TqBhsrb6",
        "colab_type": "code",
        "colab": {
          "base_uri": "https://localhost:8080/",
          "height": 34
        },
        "outputId": "d5eccd4f-e08c-4af0-9971-c658a7abfaa9"
      },
      "source": [
        "_(1,2) # calling lambda function"
      ],
      "execution_count": null,
      "outputs": [
        {
          "output_type": "execute_result",
          "data": {
            "text/plain": [
              "3"
            ]
          },
          "metadata": {
            "tags": []
          },
          "execution_count": 12
        }
      ]
    },
    {
      "cell_type": "code",
      "metadata": {
        "id": "fLDTBh3kJ5UG",
        "colab_type": "code",
        "colab": {
          "base_uri": "https://localhost:8080/",
          "height": 34
        },
        "outputId": "ecde45af-1e8e-4aa7-9879-1f5f84ed41ac"
      },
      "source": [
        "(lambda a,b:a*b)(2,3)# call lambda function"
      ],
      "execution_count": null,
      "outputs": [
        {
          "output_type": "execute_result",
          "data": {
            "text/plain": [
              "6"
            ]
          },
          "metadata": {
            "tags": []
          },
          "execution_count": 22
        }
      ]
    },
    {
      "cell_type": "code",
      "metadata": {
        "id": "htcCa6BrKE0z",
        "colab_type": "code",
        "colab": {
          "base_uri": "https://localhost:8080/",
          "height": 34
        },
        "outputId": "67400583-3c8d-4a51-ee42-f4e51e5e4f0a"
      },
      "source": [
        "divide=lambda a,b: a/b\n",
        "\n",
        "divide(4,2) # calling lambda function\n"
      ],
      "execution_count": null,
      "outputs": [
        {
          "output_type": "execute_result",
          "data": {
            "text/plain": [
              "2.0"
            ]
          },
          "metadata": {
            "tags": []
          },
          "execution_count": 14
        }
      ]
    },
    {
      "cell_type": "markdown",
      "metadata": {
        "id": "ZAx7sTRyK-3i",
        "colab_type": "text"
      },
      "source": [
        "Must use of lambda\n",
        "\n",
        "* Pass a function as an argument"
      ]
    },
    {
      "cell_type": "code",
      "metadata": {
        "id": "q2ewwLZDKTmM",
        "colab_type": "code",
        "colab": {}
      },
      "source": [
        "def test(num):\n",
        "  return lambda x: x*num\n",
        "\n"
      ],
      "execution_count": null,
      "outputs": []
    },
    {
      "cell_type": "code",
      "metadata": {
        "id": "ozU42idlM6VP",
        "colab_type": "code",
        "colab": {}
      },
      "source": [
        "result=test(10) # result=lambda x: x* 10"
      ],
      "execution_count": null,
      "outputs": []
    },
    {
      "cell_type": "code",
      "metadata": {
        "id": "vBivyZWbNHew",
        "colab_type": "code",
        "colab": {
          "base_uri": "https://localhost:8080/",
          "height": 34
        },
        "outputId": "757f6471-f2b0-4462-b6f8-81a6418c5787"
      },
      "source": [
        "result(2)"
      ],
      "execution_count": null,
      "outputs": [
        {
          "output_type": "execute_result",
          "data": {
            "text/plain": [
              "20"
            ]
          },
          "metadata": {
            "tags": []
          },
          "execution_count": 8
        }
      ]
    },
    {
      "cell_type": "code",
      "metadata": {
        "id": "ckqZcZGJNM_L",
        "colab_type": "code",
        "colab": {}
      },
      "source": [
        ""
      ],
      "execution_count": null,
      "outputs": []
    },
    {
      "cell_type": "markdown",
      "metadata": {
        "id": "zgamVWnISUIy",
        "colab_type": "text"
      },
      "source": [
        "#### **4.7.7 Documentation Strings**"
      ]
    },
    {
      "cell_type": "markdown",
      "metadata": {
        "id": "m6bAwcI6S_Oe",
        "colab_type": "text"
      },
      "source": [
        "Here are some conventions about the content and formatting of documentation strings.\n",
        "\n",
        "1. The first line should always be a short, concise summary of the object’s purpose. For brevity, it should not explicitly state the object’s name or type, since these are available by other means (except if the name happens to be a verb describing a function’s operation). This line should begin with a capital letter and end with a period.\n",
        "\n",
        "\n",
        "2. If there are more lines in the documentation string, the second line should be blank, visually separating the summary from the rest of the description. The following lines should be one or more paragraphs describing the object’s calling conventions, its side effects, etc.\n",
        "\n",
        "3. The first non-blank line after the first line of the string determines the amount of indentation for the entire documentation string. (We can’t use the first line since it is generally adjacent to the string’s opening quotes so its indentation is not apparent in the string literal.)\n"
      ]
    },
    {
      "cell_type": "code",
      "metadata": {
        "id": "-GBSKSwkSbKa",
        "colab_type": "code",
        "colab": {}
      },
      "source": [
        "def my_function():\n",
        "    \"\"\"Do nothing, but document it.         # first latter capital and end with period\n",
        "                                            # second line is blank if there is multiple line for documentation string.\n",
        "     No, really, it doesn't do anything.     # indentation determine by first line open quote\n",
        "     \"\"\"\n",
        "    pass"
      ],
      "execution_count": null,
      "outputs": []
    },
    {
      "cell_type": "code",
      "metadata": {
        "id": "GG1_ft6WVSY8",
        "colab_type": "code",
        "colab": {
          "base_uri": "https://localhost:8080/",
          "height": 85
        },
        "outputId": "6b6a00ad-99aa-4e1d-db53-447664095379"
      },
      "source": [
        "print(my_function.__doc__)"
      ],
      "execution_count": null,
      "outputs": [
        {
          "output_type": "stream",
          "text": [
            "Do nothing, but document it.         # first latter capital and end with period\n",
            "                                            # second line is blank if there is multiple line for documentation string.\n",
            "     No, really, it doesn't do anything.     # indentation determine by first line open quote\n",
            "     \n"
          ],
          "name": "stdout"
        }
      ]
    },
    {
      "cell_type": "code",
      "metadata": {
        "id": "qJWBTsujVgDV",
        "colab_type": "code",
        "colab": {}
      },
      "source": [
        ""
      ],
      "execution_count": null,
      "outputs": []
    },
    {
      "cell_type": "markdown",
      "metadata": {
        "id": "AwC7z756XqtK",
        "colab_type": "text"
      },
      "source": [
        "#### **4.7.8 Function Annotations**"
      ]
    },
    {
      "cell_type": "code",
      "metadata": {
        "id": "3a-3RNHbXwBa",
        "colab_type": "code",
        "colab": {}
      },
      "source": [
        "def bio(name: str, address: str='address')->str: # colon (:) paxiko annotation ho and -> paxiko return type janauna\n",
        "  print(\"ANnotation\",bio.__annotations__)\n",
        "  return name +'and'+address"
      ],
      "execution_count": null,
      "outputs": []
    },
    {
      "cell_type": "code",
      "metadata": {
        "id": "ENjLAER_YR3-",
        "colab_type": "code",
        "colab": {
          "base_uri": "https://localhost:8080/",
          "height": 52
        },
        "outputId": "543a4398-1878-4a68-d348-2af46a608d8a"
      },
      "source": [
        "bio('madan')"
      ],
      "execution_count": null,
      "outputs": [
        {
          "output_type": "stream",
          "text": [
            "ANnotation {'name': <class 'str'>, 'address': <class 'str'>, 'return': <class 'str'>}\n"
          ],
          "name": "stdout"
        },
        {
          "output_type": "execute_result",
          "data": {
            "application/vnd.google.colaboratory.intrinsic": {
              "type": "string"
            },
            "text/plain": [
              "'madanandaddress'"
            ]
          },
          "metadata": {
            "tags": []
          },
          "execution_count": 23
        }
      ]
    },
    {
      "cell_type": "markdown",
      "metadata": {
        "id": "LS6bd4ZTZZuq",
        "colab_type": "text"
      },
      "source": [
        "### **4.8 Intermezzo: Coading Style**"
      ]
    },
    {
      "cell_type": "markdown",
      "metadata": {
        "id": "zGzqp0g4ZoLz",
        "colab_type": "text"
      },
      "source": [
        "1. Use 4-space indentation, and no tabs. \n",
        "\n",
        "    tab=2-space indentation\n",
        "\n",
        "\n"
      ]
    },
    {
      "cell_type": "code",
      "metadata": {
        "id": "kdQBKMC7a-O3",
        "colab_type": "code",
        "colab": {}
      },
      "source": [
        "# 2-space indentation\n",
        "def print(name):  \n",
        "  if True:\n",
        "    print(name)"
      ],
      "execution_count": null,
      "outputs": []
    },
    {
      "cell_type": "code",
      "metadata": {
        "id": "Kj9fBSDFYW20",
        "colab_type": "code",
        "colab": {}
      },
      "source": [
        "# 4-space indentation\n",
        "def print(name):  \n",
        "    if True:\n",
        "        print(name)"
      ],
      "execution_count": null,
      "outputs": []
    },
    {
      "cell_type": "markdown",
      "metadata": {
        "id": "5-0DVIFybMQi",
        "colab_type": "text"
      },
      "source": [
        "2. Wrap lines so that they doen't exceed 79 characters.\n",
        "\n",
        "This helps users with small displays and makes it possible to have several code files side-by-side on larger displays."
      ]
    },
    {
      "cell_type": "code",
      "metadata": {
        "id": "RArr1ATQZ7C_",
        "colab_type": "code",
        "colab": {}
      },
      "source": [
        "a=[1,2,3,4,5,6,7,8,9,0,1,2,3,4,5,\n",
        "   6,7,8,9,0,1,2,3,4,5,6,7,8,9,0]"
      ],
      "execution_count": null,
      "outputs": []
    },
    {
      "cell_type": "markdown",
      "metadata": {
        "id": "QRDMakYNcbHa",
        "colab_type": "text"
      },
      "source": [
        "3. Use blank lines to separate functions and classes, and larger blocks of code inside functions."
      ]
    },
    {
      "cell_type": "code",
      "metadata": {
        "id": "6AetgoSDbl-q",
        "colab_type": "code",
        "colab": {}
      },
      "source": [
        "# Correct:\n",
        "def foo(x):\n",
        "\n",
        "    if x >= 0:\n",
        "\n",
        "        return math.sqrt(x)\n",
        "\n",
        "    else:\n",
        "\n",
        "        return None\n",
        "\n",
        "def bar(x):\n",
        "\n",
        "    if x < 0:\n",
        "\n",
        "        return None\n",
        "\n",
        "    return math.sqrt(x)"
      ],
      "execution_count": null,
      "outputs": []
    },
    {
      "cell_type": "markdown",
      "metadata": {
        "id": "BkUzCSjOcfET",
        "colab_type": "text"
      },
      "source": [
        "4. When possible, put comments on a line of their own."
      ]
    },
    {
      "cell_type": "code",
      "metadata": {
        "id": "-4s498TUcjC3",
        "colab_type": "code",
        "colab": {}
      },
      "source": [
        "# define the general structure of the product with default values\n",
        "product = {\n",
        "    \"productId\": 0,          # product reference id, default: 0\n",
        "    \"description\": \"\",       # item description, default: empty\n",
        "    \"categoryId\": 0,         # item category, default: 0\n",
        "    \"price\": 0.00            # price, default: 0.00\n",
        "}"
      ],
      "execution_count": null,
      "outputs": []
    },
    {
      "cell_type": "markdown",
      "metadata": {
        "id": "AVDQR4xvcjoZ",
        "colab_type": "text"
      },
      "source": [
        "5. Use docstrings."
      ]
    },
    {
      "cell_type": "code",
      "metadata": {
        "id": "NiHm1XKZcl6x",
        "colab_type": "code",
        "colab": {}
      },
      "source": [
        ""
      ],
      "execution_count": null,
      "outputs": []
    },
    {
      "cell_type": "markdown",
      "metadata": {
        "id": "RjIYdknEcmeZ",
        "colab_type": "text"
      },
      "source": [
        "6. Use spaces around operators and after commas, but not directly inside bracketing constructs: `a = f(1, 2) + g(3, 4).`"
      ]
    },
    {
      "cell_type": "code",
      "metadata": {
        "id": "XzUVno71cso6",
        "colab_type": "code",
        "colab": {}
      },
      "source": [
        "def sum(a,b):\n",
        "  return a+b"
      ],
      "execution_count": null,
      "outputs": []
    },
    {
      "cell_type": "code",
      "metadata": {
        "id": "W4sA4zUDf_yt",
        "colab_type": "code",
        "colab": {
          "base_uri": "https://localhost:8080/",
          "height": 34
        },
        "outputId": "d47a9120-f080-41cb-c814-c60e13024acf"
      },
      "source": [
        "s=sum(1, 2) + sum(3, 4) # operator and comma paxi space\n",
        "print(s)"
      ],
      "execution_count": null,
      "outputs": [
        {
          "output_type": "stream",
          "text": [
            "10\n"
          ],
          "name": "stdout"
        }
      ]
    },
    {
      "cell_type": "markdown",
      "metadata": {
        "id": "KxSEVBeZc3NX",
        "colab_type": "text"
      },
      "source": [
        "7. Name your classes and functions consistently; the convention is to use UpperCamelCase for classes and lowercase_with_underscores for functions and methods. Always use self as the name for the first method argument (see A First Look at Classes for more on classes and methods)."
      ]
    },
    {
      "cell_type": "code",
      "metadata": {
        "id": "CIlmYFOBc9xT",
        "colab_type": "code",
        "colab": {}
      },
      "source": [
        "class Madan(): #class always start with capital letter\n",
        "\n",
        "  def __init__(self,name,cast): # always use self \n",
        "\n",
        "    self.name=name\n",
        "    self.cast=cast\n",
        "\n"
      ],
      "execution_count": null,
      "outputs": []
    },
    {
      "cell_type": "code",
      "metadata": {
        "id": "17bOeEB-g8wV",
        "colab_type": "code",
        "colab": {}
      },
      "source": [
        "classobject=Madan('madan','baduwal')"
      ],
      "execution_count": null,
      "outputs": []
    },
    {
      "cell_type": "code",
      "metadata": {
        "id": "TmvaAyF7hD5C",
        "colab_type": "code",
        "colab": {
          "base_uri": "https://localhost:8080/",
          "height": 51
        },
        "outputId": "638566f4-b393-46de-d5c3-8ae9894ba7b6"
      },
      "source": [
        "print(classobject.name)\n",
        "print(classobject.cast)"
      ],
      "execution_count": null,
      "outputs": [
        {
          "output_type": "stream",
          "text": [
            "madan\n",
            "baduwal\n"
          ],
          "name": "stdout"
        }
      ]
    },
    {
      "cell_type": "code",
      "metadata": {
        "id": "TRv2cFfRhkEz",
        "colab_type": "code",
        "colab": {}
      },
      "source": [
        "def madan(a,b):\n",
        "  return a+b\n",
        "  "
      ],
      "execution_count": null,
      "outputs": []
    },
    {
      "cell_type": "code",
      "metadata": {
        "id": "YZQdsyqsh4YB",
        "colab_type": "code",
        "colab": {
          "base_uri": "https://localhost:8080/",
          "height": 34
        },
        "outputId": "288dc8b3-7e30-4167-cb69-4abcf2aba960"
      },
      "source": [
        "print(madan(1,2))"
      ],
      "execution_count": null,
      "outputs": [
        {
          "output_type": "stream",
          "text": [
            "3\n"
          ],
          "name": "stdout"
        }
      ]
    },
    {
      "cell_type": "markdown",
      "metadata": {
        "id": "0etDz7yadAfT",
        "colab_type": "text"
      },
      "source": [
        "8. Don’t use fancy encodings if your code is meant to be used in international environments. Python’s default, UTF-8, or even plain ASCII work best in any case."
      ]
    },
    {
      "cell_type": "code",
      "metadata": {
        "id": "52H5M0LZdD4f",
        "colab_type": "code",
        "colab": {}
      },
      "source": [
        ""
      ],
      "execution_count": null,
      "outputs": []
    },
    {
      "cell_type": "markdown",
      "metadata": {
        "id": "8l3ar8g2dEW3",
        "colab_type": "text"
      },
      "source": [
        "9. Likewise, don’t use non-ASCII characters in identifiers if there is only the slightest chance people speaking a different language will read or maintain the code.\n",
        "\n"
      ]
    },
    {
      "cell_type": "code",
      "metadata": {
        "id": "raxMaHB8dHkz",
        "colab_type": "code",
        "colab": {}
      },
      "source": [
        ""
      ],
      "execution_count": null,
      "outputs": []
    }
  ]
}