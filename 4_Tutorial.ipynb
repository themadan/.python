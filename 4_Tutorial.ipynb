{
  "nbformat": 4,
  "nbformat_minor": 0,
  "metadata": {
    "colab": {
      "name": "4. Tutorial.ipynb",
      "provenance": [],
      "collapsed_sections": [],
      "authorship_tag": "ABX9TyP7Z7Pz+TsIIetrLwzOSiOK",
      "include_colab_link": true
    },
    "kernelspec": {
      "name": "python3",
      "display_name": "Python 3"
    }
  },
  "cells": [
    {
      "cell_type": "markdown",
      "metadata": {
        "id": "view-in-github",
        "colab_type": "text"
      },
      "source": [
        "<a href=\"https://colab.research.google.com/github/themadan/.python/blob/master/4_Tutorial.ipynb\" target=\"_parent\"><img src=\"https://colab.research.google.com/assets/colab-badge.svg\" alt=\"Open In Colab\"/></a>"
      ]
    },
    {
      "cell_type": "markdown",
      "metadata": {
        "id": "cBXh6p0POr4d",
        "colab_type": "text"
      },
      "source": [
        "## [**9.Classes**](https://docs.python.org/3/tutorial/classes.html)"
      ]
    },
    {
      "cell_type": "markdown",
      "metadata": {
        "id": "jVgpGSGEPHnD",
        "colab_type": "text"
      },
      "source": [
        "* Classes provide a means of bundling data and functionality together.\n",
        "\n",
        "* Creating a new class creates a new type of object, allowing new instances of that type to be made. \n",
        "\n",
        "* Each class instance can have attributes attached to it for maintaining its state.\n",
        "\n",
        "*  Class instances can also have methods (defined by its class) for modifying its state.\n",
        "\n",
        "* Python classes provide all the standard features of Object Oriented Programming: \n",
        "\n",
        "    * The class inheritance mechanism allows multiple base classes, a derived class can override any methods of its base class or classes, and a method can call the method of a base class with the same name. \n",
        "    * Objects can contain arbitrary amounts and kinds of data. As is true for modules, classes partake of the dynamic nature of Python: they are created at runtime, and can be modified further after creation.\n",
        "\n",
        "\n",
        "* In C++ terminology, normally class members (including the data members) are public (except see below Private Variables), and all member functions are virtual. "
      ]
    },
    {
      "cell_type": "markdown",
      "metadata": {
        "id": "9jTikzD3Jol9",
        "colab_type": "text"
      },
      "source": [
        "### **9.1 A word about names and objects**"
      ]
    },
    {
      "cell_type": "markdown",
      "metadata": {
        "id": "FKVPfWfFKRaA",
        "colab_type": "text"
      },
      "source": [
        "### **9.2 Python scope and namespaces**"
      ]
    },
    {
      "cell_type": "markdown",
      "metadata": {
        "id": "69bWKlmLMB6I",
        "colab_type": "text"
      },
      "source": [
        "#### **9.2.1 Scopes and Namespaces Example**"
      ]
    },
    {
      "cell_type": "markdown",
      "metadata": {
        "id": "hD6ELMFzPee2",
        "colab_type": "text"
      },
      "source": [
        "* A namespace is a system to have a unique name for each and every object in Python.\n",
        "\n",
        "* Its Name (which means name, an unique identifier) + Space(which talks something related to scope).\n",
        "\n",
        "* Here, a name might be of any Python method or variable and space depends upon the location from where is trying to access a variable or a method.\n",
        "\n",
        "\n",
        "* Built-in namespace-inside built in\n",
        "    * Global namespace-inside module\n",
        "        * Local namespace-inside function\n",
        "\n",
        "* Python itself maintains a namespace in the form of a Python dictionary.\n",
        "\n",
        "\n",
        "\n"
      ]
    },
    {
      "cell_type": "markdown",
      "metadata": {
        "id": "LGteHkl6R0ab",
        "colab_type": "text"
      },
      "source": [
        "**Lifetime of a namespace :**\n",
        "\n",
        "A lifetime of a namespace depends upon the scope of objects, if the scope of an object ends, the lifetime of that namespace comes to an end. Hence, it is not possible to access inner namespace’s objects from an outer namespace."
      ]
    },
    {
      "cell_type": "code",
      "metadata": {
        "id": "Qg-FIt_IbmP8",
        "colab_type": "code",
        "colab": {
          "base_uri": "https://localhost:8080/",
          "height": 85
        },
        "outputId": "18dcc1cf-8236-49fd-b99a-7a76d8e2a054"
      },
      "source": [
        "def scope_test():\n",
        "    def do_local():\n",
        "        spam = \"local spam\" # only for this function\n",
        "\n",
        "    def do_nonlocal():\n",
        "        nonlocal spam\n",
        "        spam = \"nonlocal spam\" # outside of thsi function \n",
        "\n",
        "    def do_global():\n",
        "        global spam   \n",
        "        spam = \"global spam\" # overall module\n",
        "\n",
        "    spam = \"test spam\"\n",
        "    do_local() # local spam call and local spam varaible destroyed\n",
        "    print(\"After local assignment:\", spam) \n",
        "    do_nonlocal() # override test spam\n",
        "    print(\"After no nlocal assignment:\", spam)\n",
        "    do_global() # override nonlocal spam\n",
        "    print(\"After global assignment:\", spam)\n",
        "\n",
        "scope_test()\n",
        "print(\"In global scope:\", spam)"
      ],
      "execution_count": null,
      "outputs": [
        {
          "output_type": "stream",
          "text": [
            "After local assignment: test spam\n",
            "After nonlocal assignment: nonlocal spam\n",
            "After global assignment: nonlocal spam\n",
            "In global scope: global spam\n"
          ],
          "name": "stdout"
        }
      ]
    },
    {
      "cell_type": "code",
      "metadata": {
        "id": "jFf7RAXA6SnT",
        "colab_type": "code",
        "colab": {}
      },
      "source": [
        "# var1 is in the global namespace  \n",
        "var1 = 5\n",
        "def some_func(): \n",
        "  \n",
        "    # var2 is in the local namespace  \n",
        "    var2 = 6\n",
        "    def some_inner_func(): \n",
        "  \n",
        "        # var3 is in the nested local  \n",
        "        # namespace \n",
        "        var3 = 7"
      ],
      "execution_count": null,
      "outputs": []
    },
    {
      "cell_type": "code",
      "metadata": {
        "id": "-9or7f0SRI8O",
        "colab_type": "code",
        "colab": {
          "base_uri": "https://localhost:8080/",
          "height": 34
        },
        "outputId": "45ed3f8c-27be-4656-8929-9e29746e3e9a"
      },
      "source": [
        "\n",
        "# Python program processing \n",
        "# global variable \n",
        "  \n",
        "count = 5\n",
        "def some_method(): \n",
        "    global count \n",
        "    count = count + 1\n",
        "    print(count) \n",
        "some_method()"
      ],
      "execution_count": null,
      "outputs": [
        {
          "output_type": "stream",
          "text": [
            "6\n"
          ],
          "name": "stdout"
        }
      ]
    },
    {
      "cell_type": "markdown",
      "metadata": {
        "id": "BcGBgY7PW3gI",
        "colab_type": "text"
      },
      "source": [
        "### **9.3 A First Look at Classes**"
      ]
    },
    {
      "cell_type": "markdown",
      "metadata": {
        "id": "0KU5ChJmXICm",
        "colab_type": "text"
      },
      "source": [
        "#### **9.3.1 Class Defination Syntax**"
      ]
    },
    {
      "cell_type": "markdown",
      "metadata": {
        "id": "mxFThyW_XhDG",
        "colab_type": "text"
      },
      "source": [
        "\n",
        "\n",
        "```\n",
        "class ClassName:\n",
        "    <statement-1>\n",
        "    .\n",
        "    .\n",
        "    .\n",
        "    <statement-N>\n",
        "    \n",
        "```\n",
        "\n"
      ]
    },
    {
      "cell_type": "markdown",
      "metadata": {
        "id": "NX7ICm-TXo-6",
        "colab_type": "text"
      },
      "source": [
        "#### **9.3.2 Class Objects**"
      ]
    },
    {
      "cell_type": "code",
      "metadata": {
        "id": "hITI_rhwXbGM",
        "colab_type": "code",
        "colab": {}
      },
      "source": [
        "class Complex:\n",
        "  def __init__(self,realpart,imagpart):\n",
        "    self.r=realpart\n",
        "    self.i=imagpart"
      ],
      "execution_count": null,
      "outputs": []
    },
    {
      "cell_type": "code",
      "metadata": {
        "id": "9MTnwo58X8d-",
        "colab_type": "code",
        "colab": {}
      },
      "source": [
        "O=Complex(3,-8)"
      ],
      "execution_count": null,
      "outputs": []
    },
    {
      "cell_type": "code",
      "metadata": {
        "id": "YOQiSRz3X-kW",
        "colab_type": "code",
        "colab": {
          "base_uri": "https://localhost:8080/",
          "height": 34
        },
        "outputId": "97aefd4e-6867-44c0-9815-8be760de0b77"
      },
      "source": [
        "O.r"
      ],
      "execution_count": null,
      "outputs": [
        {
          "output_type": "execute_result",
          "data": {
            "text/plain": [
              "3"
            ]
          },
          "metadata": {
            "tags": []
          },
          "execution_count": 16
        }
      ]
    },
    {
      "cell_type": "code",
      "metadata": {
        "id": "PFWeyeN3YRXU",
        "colab_type": "code",
        "colab": {
          "base_uri": "https://localhost:8080/",
          "height": 34
        },
        "outputId": "c8342297-d236-4ac7-e09b-6318dce63c7c"
      },
      "source": [
        "O.i"
      ],
      "execution_count": null,
      "outputs": [
        {
          "output_type": "execute_result",
          "data": {
            "text/plain": [
              "-8"
            ]
          },
          "metadata": {
            "tags": []
          },
          "execution_count": 17
        }
      ]
    },
    {
      "cell_type": "markdown",
      "metadata": {
        "id": "f2Zk8uI3aRfv",
        "colab_type": "text"
      },
      "source": [
        "#### **9.3.3 Instance Objects**"
      ]
    },
    {
      "cell_type": "markdown",
      "metadata": {
        "id": "M65DqaJ9apkZ",
        "colab_type": "text"
      },
      "source": [
        "* Now what can we do with instance objects? The only operations understood by instance objects are attribute references. There are two kinds of valid attribute names: data attributes and methods."
      ]
    },
    {
      "cell_type": "code",
      "metadata": {
        "id": "epF5EGrBZpjk",
        "colab_type": "code",
        "colab": {
          "base_uri": "https://localhost:8080/",
          "height": 34
        },
        "outputId": "b964c00b-7c6a-4ce2-8e1b-85e87531a0b6"
      },
      "source": [
        "O.counter = 1\n",
        "while O.counter < 10:\n",
        "    O.counter = O.counter * 2\n",
        "print(O.counter)\n",
        "del O.counter"
      ],
      "execution_count": null,
      "outputs": [
        {
          "output_type": "stream",
          "text": [
            "16\n"
          ],
          "name": "stdout"
        }
      ]
    },
    {
      "cell_type": "markdown",
      "metadata": {
        "id": "fEUpTcTac47N",
        "colab_type": "text"
      },
      "source": [
        "#### **9.3.4 Method Objects**"
      ]
    },
    {
      "cell_type": "code",
      "metadata": {
        "id": "oB59Qls9fmfT",
        "colab_type": "code",
        "colab": {}
      },
      "source": [
        "class Helo:\n",
        "  def fun():\n",
        "    print('hello world')\n",
        "\n",
        "    "
      ],
      "execution_count": null,
      "outputs": []
    },
    {
      "cell_type": "code",
      "metadata": {
        "id": "c2UhK_9efrNR",
        "colab_type": "code",
        "colab": {
          "base_uri": "https://localhost:8080/",
          "height": 200
        },
        "outputId": "4c260ae5-3b37-4b10-cf24-645169f48261"
      },
      "source": [
        "x=Helo()\n",
        "x.fun()\n"
      ],
      "execution_count": null,
      "outputs": [
        {
          "output_type": "error",
          "ename": "TypeError",
          "evalue": "ignored",
          "traceback": [
            "\u001b[0;31m---------------------------------------------------------------------------\u001b[0m",
            "\u001b[0;31mTypeError\u001b[0m                                 Traceback (most recent call last)",
            "\u001b[0;32m<ipython-input-35-24c2df5a496b>\u001b[0m in \u001b[0;36m<module>\u001b[0;34m()\u001b[0m\n\u001b[1;32m      1\u001b[0m \u001b[0mx\u001b[0m\u001b[0;34m=\u001b[0m\u001b[0mHelo\u001b[0m\u001b[0;34m(\u001b[0m\u001b[0;34m)\u001b[0m\u001b[0;34m\u001b[0m\u001b[0;34m\u001b[0m\u001b[0m\n\u001b[0;32m----> 2\u001b[0;31m \u001b[0mx\u001b[0m\u001b[0;34m.\u001b[0m\u001b[0mfun\u001b[0m\u001b[0;34m(\u001b[0m\u001b[0;34m)\u001b[0m\u001b[0;34m\u001b[0m\u001b[0;34m\u001b[0m\u001b[0m\n\u001b[0m",
            "\u001b[0;31mTypeError\u001b[0m: fun() takes 0 positional arguments but 1 was given"
          ]
        }
      ]
    },
    {
      "cell_type": "code",
      "metadata": {
        "id": "J3dcGRw2aXzk",
        "colab_type": "code",
        "colab": {}
      },
      "source": [
        "class Helo:\n",
        "  def fun(self):\n",
        "    print('hello world')"
      ],
      "execution_count": null,
      "outputs": []
    },
    {
      "cell_type": "code",
      "metadata": {
        "id": "W2I1c-Uuehe0",
        "colab_type": "code",
        "colab": {}
      },
      "source": [
        "x=Helo()"
      ],
      "execution_count": null,
      "outputs": []
    },
    {
      "cell_type": "code",
      "metadata": {
        "id": "vm50HQSpfEA3",
        "colab_type": "code",
        "colab": {
          "base_uri": "https://localhost:8080/",
          "height": 34
        },
        "outputId": "7ed4720a-5bca-410b-b3a2-8affe1ebe0d6"
      },
      "source": [
        "x.fun()"
      ],
      "execution_count": null,
      "outputs": [
        {
          "output_type": "stream",
          "text": [
            "hello world\n"
          ],
          "name": "stdout"
        }
      ]
    },
    {
      "cell_type": "code",
      "metadata": {
        "id": "bGKMKdOXemom",
        "colab_type": "code",
        "colab": {}
      },
      "source": [
        "f=x.fun"
      ],
      "execution_count": null,
      "outputs": []
    },
    {
      "cell_type": "code",
      "metadata": {
        "id": "OZMBuZC8epQp",
        "colab_type": "code",
        "colab": {
          "base_uri": "https://localhost:8080/",
          "height": 34
        },
        "outputId": "692f5809-a8e2-491e-c3a7-84fe766ff133"
      },
      "source": [
        "f()"
      ],
      "execution_count": null,
      "outputs": [
        {
          "output_type": "stream",
          "text": [
            "hello world\n"
          ],
          "name": "stdout"
        }
      ]
    },
    {
      "cell_type": "markdown",
      "metadata": {
        "id": "e8vZcKRAgYm-",
        "colab_type": "text"
      },
      "source": [
        "#### **9.3.5 Class and Instance variables**"
      ]
    },
    {
      "cell_type": "code",
      "metadata": {
        "id": "rF0yPUlQeukW",
        "colab_type": "code",
        "colab": {}
      },
      "source": [
        "class Animal:\n",
        "  animal='Dog'\n",
        "\n",
        "  def __init__(self,name):\n",
        "    self.name=name"
      ],
      "execution_count": null,
      "outputs": []
    },
    {
      "cell_type": "code",
      "metadata": {
        "id": "JKxJtP9zhXaC",
        "colab_type": "code",
        "colab": {}
      },
      "source": [
        "d=Animal('Pinti')\n",
        "e=Animal('Sweeti')"
      ],
      "execution_count": null,
      "outputs": []
    },
    {
      "cell_type": "code",
      "metadata": {
        "id": "DIlLLzCXhh5L",
        "colab_type": "code",
        "colab": {
          "base_uri": "https://localhost:8080/",
          "height": 51
        },
        "outputId": "543e21f4-bb47-448e-aaba-1068f4426c49"
      },
      "source": [
        "print(d.animal)\n",
        "print(e.animal)"
      ],
      "execution_count": null,
      "outputs": [
        {
          "output_type": "stream",
          "text": [
            "Dog\n",
            "Dog\n"
          ],
          "name": "stdout"
        }
      ]
    },
    {
      "cell_type": "code",
      "metadata": {
        "id": "9gOCaYxwhmdi",
        "colab_type": "code",
        "colab": {
          "base_uri": "https://localhost:8080/",
          "height": 51
        },
        "outputId": "bdd075bc-a1eb-462c-cdbc-5a6549978cf4"
      },
      "source": [
        "print(d.name)\n",
        "print(e.name)"
      ],
      "execution_count": null,
      "outputs": [
        {
          "output_type": "stream",
          "text": [
            "Pinti\n",
            "Sweeti\n"
          ],
          "name": "stdout"
        }
      ]
    },
    {
      "cell_type": "markdown",
      "metadata": {
        "id": "Qs6-yBeHidsr",
        "colab_type": "text"
      },
      "source": [
        "### **9.4 Random Remarks**"
      ]
    },
    {
      "cell_type": "code",
      "metadata": {
        "id": "DCxi64WbiBqB",
        "colab_type": "code",
        "colab": {}
      },
      "source": [
        "class Bag:\n",
        "    def __init__(self):\n",
        "        self.data = []\n",
        "\n",
        "    def add(self, x):\n",
        "        self.data.append(x)\n",
        "\n",
        "    def addtwice(self, x):\n",
        "        self.add(x)\n",
        "        self.add(x)"
      ],
      "execution_count": null,
      "outputs": []
    },
    {
      "cell_type": "code",
      "metadata": {
        "id": "-3uxIqtEjY_S",
        "colab_type": "code",
        "colab": {}
      },
      "source": [
        "a=Bag()"
      ],
      "execution_count": null,
      "outputs": []
    },
    {
      "cell_type": "code",
      "metadata": {
        "id": "VWz0PzZ-jimY",
        "colab_type": "code",
        "colab": {}
      },
      "source": [
        "a.add(5)"
      ],
      "execution_count": null,
      "outputs": []
    },
    {
      "cell_type": "code",
      "metadata": {
        "id": "IbbpR304joNf",
        "colab_type": "code",
        "colab": {}
      },
      "source": [
        "a.addtwice(2)"
      ],
      "execution_count": null,
      "outputs": []
    },
    {
      "cell_type": "code",
      "metadata": {
        "id": "Ft8VZdhNjsA3",
        "colab_type": "code",
        "colab": {
          "base_uri": "https://localhost:8080/",
          "height": 34
        },
        "outputId": "4f2ca189-81f1-4f08-b675-a95b5df94efc"
      },
      "source": [
        "a.data"
      ],
      "execution_count": null,
      "outputs": [
        {
          "output_type": "execute_result",
          "data": {
            "text/plain": [
              "[5, 2, 2]"
            ]
          },
          "metadata": {
            "tags": []
          },
          "execution_count": 52
        }
      ]
    },
    {
      "cell_type": "markdown",
      "metadata": {
        "id": "_N0UVlOVj6jL",
        "colab_type": "text"
      },
      "source": [
        "### **9.5 Inheritance**"
      ]
    },
    {
      "cell_type": "markdown",
      "metadata": {
        "id": "sMd9sYk9kbV_",
        "colab_type": "text"
      },
      "source": [
        "Type of inheritance:\n",
        "\n",
        "\n",
        "![alt text](https://d1jnx9ba8s6j9r.cloudfront.net/blog/wp-content/uploads/2017/07/Types-of-Inheritance-1.jpg)\n"
      ]
    },
    {
      "cell_type": "markdown",
      "metadata": {
        "id": "M4R7YgGak-m6",
        "colab_type": "text"
      },
      "source": [
        "\n",
        "\n",
        "```\n",
        "class DerivedClassName(BaseClassName):\n",
        "    <statement-1>\n",
        "    .\n",
        "    .\n",
        "    .\n",
        "    <statement-N>\n",
        "```\n",
        "\n"
      ]
    },
    {
      "cell_type": "markdown",
      "metadata": {
        "id": "A38V9oHLlLO1",
        "colab_type": "text"
      },
      "source": [
        "#### **9.5.1 Multiple Inheritance**"
      ]
    },
    {
      "cell_type": "markdown",
      "metadata": {
        "id": "pYAh3MN_lVLu",
        "colab_type": "text"
      },
      "source": [
        "\n",
        "\n",
        "```\n",
        "class DerivedClassName(Base1, Base2, Base3):\n",
        "    <statement-1>\n",
        "    .\n",
        "    .\n",
        "    .\n",
        "    <statement-N>\n",
        "\n",
        "```\n",
        "\n"
      ]
    },
    {
      "cell_type": "markdown",
      "metadata": {
        "id": "_LbBo2FXzKBZ",
        "colab_type": "text"
      },
      "source": [
        "From this we can concluse that python support:\n",
        "\n",
        "* single inheritance\n",
        "\n",
        "* Multilevel inheritance\n",
        "\n",
        "* Multiple inheritance\n",
        "\n",
        "* Hierarchical inheritance"
      ]
    },
    {
      "cell_type": "markdown",
      "metadata": {
        "id": "dac87VDKmiXi",
        "colab_type": "text"
      },
      "source": [
        "### **9.7 Odds and Ends**"
      ]
    },
    {
      "cell_type": "code",
      "metadata": {
        "id": "X_6BrlEgjuAy",
        "colab_type": "code",
        "colab": {}
      },
      "source": [
        "class Employee:\n",
        "    pass\n",
        "\n",
        "john = Employee()  # Create an empty employee record\n",
        "\n",
        "# Fill the fields of the record\n",
        "john.name = 'John Doe'\n",
        "john.dept = 'computer lab'\n",
        "john.salary = 1000"
      ],
      "execution_count": null,
      "outputs": []
    },
    {
      "cell_type": "markdown",
      "metadata": {
        "id": "NUfJfI_em2i4",
        "colab_type": "text"
      },
      "source": [
        "### **9.8 Iterators**"
      ]
    },
    {
      "cell_type": "code",
      "metadata": {
        "id": "JryrQZ6nmoNb",
        "colab_type": "code",
        "colab": {}
      },
      "source": [
        "s='abc'\n",
        "it=iter(s)"
      ],
      "execution_count": null,
      "outputs": []
    },
    {
      "cell_type": "code",
      "metadata": {
        "id": "LRIwhfCgnOe3",
        "colab_type": "code",
        "colab": {
          "base_uri": "https://localhost:8080/",
          "height": 35
        },
        "outputId": "fc92934e-5fcc-4633-c3c6-65b2ec38056c"
      },
      "source": [
        "next(it)"
      ],
      "execution_count": null,
      "outputs": [
        {
          "output_type": "execute_result",
          "data": {
            "application/vnd.google.colaboratory.intrinsic": {
              "type": "string"
            },
            "text/plain": [
              "'a'"
            ]
          },
          "metadata": {
            "tags": []
          },
          "execution_count": 55
        }
      ]
    },
    {
      "cell_type": "code",
      "metadata": {
        "id": "_xPOwVwbnThi",
        "colab_type": "code",
        "colab": {
          "base_uri": "https://localhost:8080/",
          "height": 35
        },
        "outputId": "14ba250b-8f79-4e30-c788-47ae0d7bed8a"
      },
      "source": [
        "next(it)"
      ],
      "execution_count": null,
      "outputs": [
        {
          "output_type": "execute_result",
          "data": {
            "application/vnd.google.colaboratory.intrinsic": {
              "type": "string"
            },
            "text/plain": [
              "'b'"
            ]
          },
          "metadata": {
            "tags": []
          },
          "execution_count": 56
        }
      ]
    },
    {
      "cell_type": "code",
      "metadata": {
        "id": "YMszMViFnVIb",
        "colab_type": "code",
        "colab": {
          "base_uri": "https://localhost:8080/",
          "height": 35
        },
        "outputId": "f1b7fdea-27e5-4354-f06e-94cf78f9146f"
      },
      "source": [
        "next(it)"
      ],
      "execution_count": null,
      "outputs": [
        {
          "output_type": "execute_result",
          "data": {
            "application/vnd.google.colaboratory.intrinsic": {
              "type": "string"
            },
            "text/plain": [
              "'c'"
            ]
          },
          "metadata": {
            "tags": []
          },
          "execution_count": 57
        }
      ]
    },
    {
      "cell_type": "code",
      "metadata": {
        "id": "Pm8h-b_onV-F",
        "colab_type": "code",
        "colab": {
          "base_uri": "https://localhost:8080/",
          "height": 183
        },
        "outputId": "19fab628-56c1-4f76-f0eb-aab944be5276"
      },
      "source": [
        "next(it)"
      ],
      "execution_count": null,
      "outputs": [
        {
          "output_type": "error",
          "ename": "StopIteration",
          "evalue": "ignored",
          "traceback": [
            "\u001b[0;31m---------------------------------------------------------------------------\u001b[0m",
            "\u001b[0;31mStopIteration\u001b[0m                             Traceback (most recent call last)",
            "\u001b[0;32m<ipython-input-58-bc1ab118995a>\u001b[0m in \u001b[0;36m<module>\u001b[0;34m()\u001b[0m\n\u001b[0;32m----> 1\u001b[0;31m \u001b[0mnext\u001b[0m\u001b[0;34m(\u001b[0m\u001b[0mit\u001b[0m\u001b[0;34m)\u001b[0m\u001b[0;34m\u001b[0m\u001b[0;34m\u001b[0m\u001b[0m\n\u001b[0m",
            "\u001b[0;31mStopIteration\u001b[0m: "
          ]
        }
      ]
    },
    {
      "cell_type": "markdown",
      "metadata": {
        "id": "10ddIggDm7On",
        "colab_type": "text"
      },
      "source": [
        "### **9.9 Generators**"
      ]
    },
    {
      "cell_type": "markdown",
      "metadata": {
        "id": "YlK6nRCL0WQ1",
        "colab_type": "text"
      },
      "source": [
        "Generator-Function : A generator-function is defined like a normal function, but whenever it needs to generate a value, it does so with the yield keyword rather than return. If the body of a def contains yield, the function automatically becomes a generator function.\n"
      ]
    },
    {
      "cell_type": "markdown",
      "metadata": {
        "id": "3sVj5Uke2Wc2",
        "colab_type": "text"
      },
      "source": [
        "Generator vs function\n",
        "\n",
        "* When function call it automatically return value.\n",
        "\n",
        "   But \n",
        "\n",
        "   In case  of generator it work like iterator, it doesn't return automatically .  when we call generatorobject.next() then it return ."
      ]
    },
    {
      "cell_type": "code",
      "metadata": {
        "id": "ttIhT7cl0eOw",
        "colab_type": "code",
        "colab": {}
      },
      "source": [
        "l=[1,2,3,4]\n",
        "def generator(lst):\n",
        "  for i in lst:\n",
        "    yield i** 2\n",
        "  "
      ],
      "execution_count": null,
      "outputs": []
    },
    {
      "cell_type": "code",
      "metadata": {
        "id": "uACISnHw35Ep",
        "colab_type": "code",
        "colab": {
          "base_uri": "https://localhost:8080/",
          "height": 34
        },
        "outputId": "9cbed7ec-624a-4d53-dadf-55bbc0e505fa"
      },
      "source": [
        "generator(2)"
      ],
      "execution_count": null,
      "outputs": [
        {
          "output_type": "execute_result",
          "data": {
            "text/plain": [
              "<generator object generator at 0x7f1467b35e60>"
            ]
          },
          "metadata": {
            "tags": []
          },
          "execution_count": 78
        }
      ]
    },
    {
      "cell_type": "code",
      "metadata": {
        "id": "3wWFdU6K4t3a",
        "colab_type": "code",
        "colab": {
          "base_uri": "https://localhost:8080/",
          "height": 34
        },
        "outputId": "3f957f07-517d-4f11-8ae5-01891cd344c9"
      },
      "source": [
        "r=generator(l)\n",
        "print(next(r))"
      ],
      "execution_count": null,
      "outputs": [
        {
          "output_type": "stream",
          "text": [
            "1\n"
          ],
          "name": "stdout"
        }
      ]
    },
    {
      "cell_type": "code",
      "metadata": {
        "id": "Qkgytqjr4DYC",
        "colab_type": "code",
        "colab": {
          "base_uri": "https://localhost:8080/",
          "height": 34
        },
        "outputId": "b5c602ea-931d-4c01-9df0-206efe8c3516"
      },
      "source": [
        "r=generator(l)\n",
        "print(list(r))"
      ],
      "execution_count": null,
      "outputs": [
        {
          "output_type": "stream",
          "text": [
            "[1, 4, 9, 16]\n"
          ],
          "name": "stdout"
        }
      ]
    },
    {
      "cell_type": "code",
      "metadata": {
        "id": "DHA7kp_f4jNZ",
        "colab_type": "code",
        "colab": {}
      },
      "source": [
        "def name():\n",
        "  name='madan'\n",
        "  yield name \n",
        "  name='tapendra'\n",
        "  yield name"
      ],
      "execution_count": null,
      "outputs": []
    },
    {
      "cell_type": "code",
      "metadata": {
        "id": "MwQ1PmNz5FNP",
        "colab_type": "code",
        "colab": {}
      },
      "source": [
        "objectofgeneratorasiterator=name()"
      ],
      "execution_count": null,
      "outputs": []
    },
    {
      "cell_type": "code",
      "metadata": {
        "id": "c55ADALC5MjB",
        "colab_type": "code",
        "colab": {
          "base_uri": "https://localhost:8080/",
          "height": 231
        },
        "outputId": "4be8b0be-0908-4d79-b880-6a7e32075dfe"
      },
      "source": [
        "print(next(objectofgeneratorasiterator))\n",
        "print(next(objectofgeneratorasiterator))\n",
        "print(next(objectofgeneratorasiterator))"
      ],
      "execution_count": null,
      "outputs": [
        {
          "output_type": "stream",
          "text": [
            "madan\n",
            "tapendra\n"
          ],
          "name": "stdout"
        },
        {
          "output_type": "error",
          "ename": "StopIteration",
          "evalue": "ignored",
          "traceback": [
            "\u001b[0;31m---------------------------------------------------------------------------\u001b[0m",
            "\u001b[0;31mStopIteration\u001b[0m                             Traceback (most recent call last)",
            "\u001b[0;32m<ipython-input-91-15eb91fcf297>\u001b[0m in \u001b[0;36m<module>\u001b[0;34m()\u001b[0m\n\u001b[1;32m      1\u001b[0m \u001b[0mprint\u001b[0m\u001b[0;34m(\u001b[0m\u001b[0mnext\u001b[0m\u001b[0;34m(\u001b[0m\u001b[0mobjectofgeneratorasiterator\u001b[0m\u001b[0;34m)\u001b[0m\u001b[0;34m)\u001b[0m\u001b[0;34m\u001b[0m\u001b[0;34m\u001b[0m\u001b[0m\n\u001b[1;32m      2\u001b[0m \u001b[0mprint\u001b[0m\u001b[0;34m(\u001b[0m\u001b[0mnext\u001b[0m\u001b[0;34m(\u001b[0m\u001b[0mobjectofgeneratorasiterator\u001b[0m\u001b[0;34m)\u001b[0m\u001b[0;34m)\u001b[0m\u001b[0;34m\u001b[0m\u001b[0;34m\u001b[0m\u001b[0m\n\u001b[0;32m----> 3\u001b[0;31m \u001b[0mprint\u001b[0m\u001b[0;34m(\u001b[0m\u001b[0mnext\u001b[0m\u001b[0;34m(\u001b[0m\u001b[0mobjectofgeneratorasiterator\u001b[0m\u001b[0;34m)\u001b[0m\u001b[0;34m)\u001b[0m\u001b[0;34m\u001b[0m\u001b[0;34m\u001b[0m\u001b[0m\n\u001b[0m",
            "\u001b[0;31mStopIteration\u001b[0m: "
          ]
        }
      ]
    },
    {
      "cell_type": "markdown",
      "metadata": {
        "id": "qJPOfF1coEhB",
        "colab_type": "text"
      },
      "source": [
        "### **9.10. Generator Expressions**"
      ]
    },
    {
      "cell_type": "code",
      "metadata": {
        "id": "nbcwi1buoJpu",
        "colab_type": "code",
        "colab": {}
      },
      "source": [
        "result=(x**2 for x in range(4))"
      ],
      "execution_count": null,
      "outputs": []
    },
    {
      "cell_type": "code",
      "metadata": {
        "id": "k7dM2Yze6PY1",
        "colab_type": "code",
        "colab": {
          "base_uri": "https://localhost:8080/",
          "height": 34
        },
        "outputId": "4630ec1e-f477-467a-cba3-1259e686f548"
      },
      "source": [
        "result"
      ],
      "execution_count": null,
      "outputs": [
        {
          "output_type": "execute_result",
          "data": {
            "text/plain": [
              "<generator object <genexpr> at 0x7f1467b355c8>"
            ]
          },
          "metadata": {
            "tags": []
          },
          "execution_count": 93
        }
      ]
    },
    {
      "cell_type": "code",
      "metadata": {
        "id": "bqjjcJql6QV7",
        "colab_type": "code",
        "colab": {}
      },
      "source": [
        "print()"
      ],
      "execution_count": null,
      "outputs": []
    }
  ]
}