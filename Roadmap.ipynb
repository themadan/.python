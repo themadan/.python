{
  "nbformat": 4,
  "nbformat_minor": 0,
  "metadata": {
    "colab": {
      "name": "Roadmap.ipynb",
      "provenance": [],
      "collapsed_sections": [
        "yFS83ZfPjx8E",
        "BLn6bwG6nZ-h",
        "iY4oMTCivsN5"
      ],
      "authorship_tag": "ABX9TyNM9LeUEXeATKOBxhpyAII5",
      "include_colab_link": true
    },
    "kernelspec": {
      "name": "python3",
      "display_name": "Python 3"
    }
  },
  "cells": [
    {
      "cell_type": "markdown",
      "metadata": {
        "id": "view-in-github",
        "colab_type": "text"
      },
      "source": [
        "<a href=\"https://colab.research.google.com/github/themadan/.python/blob/master/Roadmap.ipynb\" target=\"_parent\"><img src=\"https://colab.research.google.com/assets/colab-badge.svg\" alt=\"Open In Colab\"/></a>"
      ]
    },
    {
      "cell_type": "markdown",
      "metadata": {
        "id": "K64ZfXmzidF0",
        "colab_type": "text"
      },
      "source": [
        "# **[python.org](https://www.python.org/)**"
      ]
    },
    {
      "cell_type": "markdown",
      "metadata": {
        "id": "NUEDf-O88ZuR",
        "colab_type": "text"
      },
      "source": [
        "# [pyhton documentation](https://docs.python.org/3/)"
      ]
    },
    {
      "cell_type": "markdown",
      "metadata": {
        "id": "fRyD1EJSE1kr",
        "colab_type": "text"
      },
      "source": [
        "# **Parts of the documentation:**"
      ]
    },
    {
      "cell_type": "markdown",
      "metadata": {
        "id": "uLaWOeooELJ8",
        "colab_type": "text"
      },
      "source": [
        "## [**What's new in Python 3.8?**](https://docs.python.org/3/whatsnew/3.8.html)"
      ]
    },
    {
      "cell_type": "markdown",
      "metadata": {
        "id": "VLqBvd4DDw23",
        "colab_type": "text"
      },
      "source": [
        "## [**Tutorial**](https://docs.python.org/3/tutorial/index.html)"
      ]
    },
    {
      "cell_type": "markdown",
      "metadata": {
        "id": "PEGvwAE9iYPY",
        "colab_type": "text"
      },
      "source": [
        "## [**Library reference**](https://docs.python.org/3/library/index.html#library-index)"
      ]
    },
    {
      "cell_type": "markdown",
      "metadata": {
        "id": "hj2CmEbvwE00",
        "colab_type": "text"
      },
      "source": [
        "## [**Language Referrence**](https://docs.python.org/3/reference/index.html#reference-index)"
      ]
    },
    {
      "cell_type": "markdown",
      "metadata": {
        "id": "ZcXXJHPniXJC",
        "colab_type": "text"
      },
      "source": [
        "## [**Python Setup and usage**](https://docs.python.org/3/using/index.html) "
      ]
    },
    {
      "cell_type": "markdown",
      "metadata": {
        "id": "iODh20oLisFC",
        "colab_type": "text"
      },
      "source": [
        "## [**Python HoWTOs**](https://docs.python.org/3/howto/index.html)"
      ]
    },
    {
      "cell_type": "markdown",
      "metadata": {
        "id": "wKZhz6qZi3bu",
        "colab_type": "text"
      },
      "source": [
        "## [**Installing Python Modules**](https://docs.python.org/3/installing/index.html)"
      ]
    },
    {
      "cell_type": "markdown",
      "metadata": {
        "id": "SA3gwHJyjCwU",
        "colab_type": "text"
      },
      "source": [
        "## [**Distributing and Embedding**](https://docs.python.org/3/distributing/index.html)"
      ]
    },
    {
      "cell_type": "markdown",
      "metadata": {
        "id": "Y6uvBA88w2P8",
        "colab_type": "text"
      },
      "source": [
        "## [**Extending and Embedding**](https://docs.python.org/3/extending/index.html#extending-index)"
      ]
    },
    {
      "cell_type": "markdown",
      "metadata": {
        "id": "Ib1mRUl8yZfD",
        "colab_type": "text"
      },
      "source": [
        "## [**Python/C API**](https://docs.python.org/3/c-api/index.html#c-api-index)"
      ]
    },
    {
      "cell_type": "markdown",
      "metadata": {
        "id": "Ji-1-BIDjh28",
        "colab_type": "text"
      },
      "source": [
        "## [**FAQs**](https://docs.python.org/3/faq/index.html)"
      ]
    },
    {
      "cell_type": "markdown",
      "metadata": {
        "id": "yFS83ZfPjx8E",
        "colab_type": "text"
      },
      "source": [
        "# **Indices and tables**"
      ]
    },
    {
      "cell_type": "markdown",
      "metadata": {
        "id": "0n6Y5BUumRrZ",
        "colab_type": "text"
      },
      "source": [
        "## [**Global module index**](https://docs.python.org/3/py-modindex.html)"
      ]
    },
    {
      "cell_type": "markdown",
      "metadata": {
        "id": "EBentvkdmiIB",
        "colab_type": "text"
      },
      "source": [
        "## [**General Index**](https://docs.python.org/3/genindex.html)"
      ]
    },
    {
      "cell_type": "markdown",
      "metadata": {
        "id": "zQHmh3utm07s",
        "colab_type": "text"
      },
      "source": [
        "## [**Glossary**](https://docs.python.org/3/glossary.html)"
      ]
    },
    {
      "cell_type": "markdown",
      "metadata": {
        "id": "JMfx2UbRm-p7",
        "colab_type": "text"
      },
      "source": [
        "## [**Search page**](https://docs.python.org/3/search.html)"
      ]
    },
    {
      "cell_type": "markdown",
      "metadata": {
        "id": "25r9x5OVnQLb",
        "colab_type": "text"
      },
      "source": [
        "## [**Complete Table of Contents**](https://docs.python.org/3/contents.html)"
      ]
    },
    {
      "cell_type": "markdown",
      "metadata": {
        "id": "BLn6bwG6nZ-h",
        "colab_type": "text"
      },
      "source": [
        "# **Meta information**\n"
      ]
    },
    {
      "cell_type": "markdown",
      "metadata": {
        "id": "LcShHkkVnd_k",
        "colab_type": "text"
      },
      "source": [
        "## [**Reporting bugs**](https://docs.python.org/3/bugs.html)"
      ]
    },
    {
      "cell_type": "markdown",
      "metadata": {
        "id": "v0WmNr7hqKsA",
        "colab_type": "text"
      },
      "source": [
        "## [**Contributing to Docs**](https://devguide.python.org/docquality/#helping-with-documentation)"
      ]
    },
    {
      "cell_type": "markdown",
      "metadata": {
        "id": "lv-Y0NQAqZVq",
        "colab_type": "text"
      },
      "source": [
        "## [**History and License of Python**](https://docs.python.org/3/license.html) "
      ]
    },
    {
      "cell_type": "markdown",
      "metadata": {
        "id": "iY4oMTCivsN5",
        "colab_type": "text"
      },
      "source": [
        "# **Most thing while doing coading**"
      ]
    },
    {
      "cell_type": "markdown",
      "metadata": {
        "id": "vZ5j7zbwyuVP",
        "colab_type": "text"
      },
      "source": [
        "## **1.Datastructure**\n",
        "* C=create([],{},())\n",
        "* R=read(iterator.[],iterator.count())\n",
        "* U=update(iterator.insert(index,value)iterator.append(value),iterator.extend(iterator),iterator.sort(),iterator.reverse())\n",
        "* D=Delet(iterator.remove(value),iterator.pop([index]),iterator.clear())"
      ]
    },
    {
      "cell_type": "markdown",
      "metadata": {
        "id": "VPqWY-3fp0Ce",
        "colab_type": "text"
      },
      "source": [
        "## **2. General steps of coading and tricks**"
      ]
    },
    {
      "cell_type": "markdown",
      "metadata": {
        "id": "MICwlVDAp5kP",
        "colab_type": "text"
      },
      "source": [
        "### **Tricks**"
      ]
    },
    {
      "cell_type": "markdown",
      "metadata": {
        "id": "YPXUFPCiu9-D",
        "colab_type": "text"
      },
      "source": [
        "\n",
        "\n",
        "```\n",
        "print(...)\n",
        "print(function,classes,variables....__doc__)\n",
        "print(dir(object)) # dir() is a powerful inbuilt function in Python3, which returns list of the attributes and methods of any object (say functions , modules, strings, lists, dictionaries etc.)\n",
        "\n",
        "\n",
        "however over function \n",
        "help(object) # he python help function is used to display the documentation of modules, functions, classes, keywords etc.\n",
        "```\n",
        "\n"
      ]
    },
    {
      "cell_type": "markdown",
      "metadata": {
        "id": "gVRSHEtykm68",
        "colab_type": "text"
      },
      "source": [
        "```\n",
        "Import module\n",
        "\n",
        "print(module.__doc__)\n",
        "\n",
        "```\n",
        "\n"
      ]
    }
  ]
}