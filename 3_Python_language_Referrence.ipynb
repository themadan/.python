{
  "nbformat": 4,
  "nbformat_minor": 0,
  "metadata": {
    "colab": {
      "name": "3.Python language Referrence.ipynb",
      "provenance": [],
      "authorship_tag": "ABX9TyO9pdwc1JDXPQ75Dr2/JvfP",
      "include_colab_link": true
    },
    "kernelspec": {
      "name": "python3",
      "display_name": "Python 3"
    }
  },
  "cells": [
    {
      "cell_type": "markdown",
      "metadata": {
        "id": "view-in-github",
        "colab_type": "text"
      },
      "source": [
        "<a href=\"https://colab.research.google.com/github/themadan/.python/blob/master/3_Python_language_Referrence.ipynb\" target=\"_parent\"><img src=\"https://colab.research.google.com/assets/colab-badge.svg\" alt=\"Open In Colab\"/></a>"
      ]
    },
    {
      "cell_type": "markdown",
      "metadata": {
        "id": "hj2CmEbvwE00",
        "colab_type": "text"
      },
      "source": [
        "### [Python Language Referrence](https://docs.python.org/3/reference/index.html#reference-index)"
      ]
    }
  ]
}