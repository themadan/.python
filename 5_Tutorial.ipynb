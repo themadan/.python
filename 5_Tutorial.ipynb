{
  "nbformat": 4,
  "nbformat_minor": 0,
  "metadata": {
    "colab": {
      "name": "5. Tutorial.ipynb",
      "provenance": [],
      "collapsed_sections": [],
      "authorship_tag": "ABX9TyNTqoEzmDU40ifKCFMbJDUG",
      "include_colab_link": true
    },
    "kernelspec": {
      "name": "python3",
      "display_name": "Python 3"
    }
  },
  "cells": [
    {
      "cell_type": "markdown",
      "metadata": {
        "id": "view-in-github",
        "colab_type": "text"
      },
      "source": [
        "<a href=\"https://colab.research.google.com/github/themadan/.python/blob/master/5_Tutorial.ipynb\" target=\"_parent\"><img src=\"https://colab.research.google.com/assets/colab-badge.svg\" alt=\"Open In Colab\"/></a>"
      ]
    },
    {
      "cell_type": "markdown",
      "metadata": {
        "id": "VpmJRXPqJ7lX",
        "colab_type": "text"
      },
      "source": [
        "## [**10. Brief Tour of the Standard Library**](https://docs.python.org/3/tutorial/stdlib.html)"
      ]
    },
    {
      "cell_type": "markdown",
      "metadata": {
        "id": "cBfOmVDuKhlE",
        "colab_type": "text"
      },
      "source": [
        "### **10.1 Operating System Interface**"
      ]
    },
    {
      "cell_type": "code",
      "metadata": {
        "id": "mD1khN4YKrvL",
        "colab_type": "code",
        "colab": {
          "base_uri": "https://localhost:8080/",
          "height": 34
        },
        "outputId": "043e1a76-7354-4b0d-b25f-b350306c31d4"
      },
      "source": [
        "import os\n",
        "\n",
        "os"
      ],
      "execution_count": null,
      "outputs": [
        {
          "output_type": "execute_result",
          "data": {
            "text/plain": [
              "<module 'os' from '/usr/lib/python3.6/os.py'>"
            ]
          },
          "metadata": {
            "tags": []
          },
          "execution_count": 1
        }
      ]
    },
    {
      "cell_type": "code",
      "metadata": {
        "id": "clMWUJBcLC56",
        "colab_type": "code",
        "colab": {}
      },
      "source": [
        "print(os.__doc__)"
      ],
      "execution_count": null,
      "outputs": []
    },
    {
      "cell_type": "code",
      "metadata": {
        "id": "IuuT8QrBLdtm",
        "colab_type": "code",
        "colab": {}
      },
      "source": [
        "help(os)"
      ],
      "execution_count": null,
      "outputs": []
    },
    {
      "cell_type": "code",
      "metadata": {
        "id": "GCid1wBILnff",
        "colab_type": "code",
        "colab": {
          "base_uri": "https://localhost:8080/",
          "height": 54
        },
        "outputId": "bc3cb6ef-14a8-4b6f-f475-72207ad54a0e"
      },
      "source": [
        "print(dir(os))"
      ],
      "execution_count": null,
      "outputs": [
        {
          "output_type": "stream",
          "text": [
            "['CLD_CONTINUED', 'CLD_DUMPED', 'CLD_EXITED', 'CLD_TRAPPED', 'DirEntry', 'EX_CANTCREAT', 'EX_CONFIG', 'EX_DATAERR', 'EX_IOERR', 'EX_NOHOST', 'EX_NOINPUT', 'EX_NOPERM', 'EX_NOUSER', 'EX_OK', 'EX_OSERR', 'EX_OSFILE', 'EX_PROTOCOL', 'EX_SOFTWARE', 'EX_TEMPFAIL', 'EX_UNAVAILABLE', 'EX_USAGE', 'F_LOCK', 'F_OK', 'F_TEST', 'F_TLOCK', 'F_ULOCK', 'GRND_NONBLOCK', 'GRND_RANDOM', 'MutableMapping', 'NGROUPS_MAX', 'O_ACCMODE', 'O_APPEND', 'O_ASYNC', 'O_CLOEXEC', 'O_CREAT', 'O_DIRECT', 'O_DIRECTORY', 'O_DSYNC', 'O_EXCL', 'O_LARGEFILE', 'O_NDELAY', 'O_NOATIME', 'O_NOCTTY', 'O_NOFOLLOW', 'O_NONBLOCK', 'O_PATH', 'O_RDONLY', 'O_RDWR', 'O_RSYNC', 'O_SYNC', 'O_TMPFILE', 'O_TRUNC', 'O_WRONLY', 'POSIX_FADV_DONTNEED', 'POSIX_FADV_NOREUSE', 'POSIX_FADV_NORMAL', 'POSIX_FADV_RANDOM', 'POSIX_FADV_SEQUENTIAL', 'POSIX_FADV_WILLNEED', 'PRIO_PGRP', 'PRIO_PROCESS', 'PRIO_USER', 'P_ALL', 'P_NOWAIT', 'P_NOWAITO', 'P_PGID', 'P_PID', 'P_WAIT', 'PathLike', 'RTLD_DEEPBIND', 'RTLD_GLOBAL', 'RTLD_LAZY', 'RTLD_LOCAL', 'RTLD_NODELETE', 'RTLD_NOLOAD', 'RTLD_NOW', 'R_OK', 'SCHED_BATCH', 'SCHED_FIFO', 'SCHED_IDLE', 'SCHED_OTHER', 'SCHED_RESET_ON_FORK', 'SCHED_RR', 'SEEK_CUR', 'SEEK_DATA', 'SEEK_END', 'SEEK_HOLE', 'SEEK_SET', 'ST_APPEND', 'ST_MANDLOCK', 'ST_NOATIME', 'ST_NODEV', 'ST_NODIRATIME', 'ST_NOEXEC', 'ST_NOSUID', 'ST_RDONLY', 'ST_RELATIME', 'ST_SYNCHRONOUS', 'ST_WRITE', 'TMP_MAX', 'WCONTINUED', 'WCOREDUMP', 'WEXITED', 'WEXITSTATUS', 'WIFCONTINUED', 'WIFEXITED', 'WIFSIGNALED', 'WIFSTOPPED', 'WNOHANG', 'WNOWAIT', 'WSTOPPED', 'WSTOPSIG', 'WTERMSIG', 'WUNTRACED', 'W_OK', 'XATTR_CREATE', 'XATTR_REPLACE', 'XATTR_SIZE_MAX', 'X_OK', '_Environ', '__all__', '__builtins__', '__cached__', '__doc__', '__file__', '__loader__', '__name__', '__package__', '__spec__', '_execvpe', '_exists', '_exit', '_fspath', '_fwalk', '_get_exports_list', '_putenv', '_spawnvef', '_unsetenv', '_wrap_close', 'abc', 'abort', 'access', 'altsep', 'chdir', 'chmod', 'chown', 'chroot', 'close', 'closerange', 'confstr', 'confstr_names', 'cpu_count', 'ctermid', 'curdir', 'defpath', 'device_encoding', 'devnull', 'dup', 'dup2', 'environ', 'environb', 'errno', 'error', 'execl', 'execle', 'execlp', 'execlpe', 'execv', 'execve', 'execvp', 'execvpe', 'extsep', 'fchdir', 'fchmod', 'fchown', 'fdatasync', 'fdopen', 'fork', 'forkpty', 'fpathconf', 'fsdecode', 'fsencode', 'fspath', 'fstat', 'fstatvfs', 'fsync', 'ftruncate', 'fwalk', 'get_blocking', 'get_exec_path', 'get_inheritable', 'get_terminal_size', 'getcwd', 'getcwdb', 'getegid', 'getenv', 'getenvb', 'geteuid', 'getgid', 'getgrouplist', 'getgroups', 'getloadavg', 'getlogin', 'getpgid', 'getpgrp', 'getpid', 'getppid', 'getpriority', 'getrandom', 'getresgid', 'getresuid', 'getsid', 'getuid', 'getxattr', 'initgroups', 'isatty', 'kill', 'killpg', 'lchown', 'linesep', 'link', 'listdir', 'listxattr', 'lockf', 'lseek', 'lstat', 'major', 'makedev', 'makedirs', 'minor', 'mkdir', 'mkfifo', 'mknod', 'name', 'nice', 'open', 'openpty', 'pardir', 'path', 'pathconf', 'pathconf_names', 'pathsep', 'pipe', 'pipe2', 'popen', 'posix_fadvise', 'posix_fallocate', 'pread', 'putenv', 'pwrite', 'read', 'readlink', 'readv', 'remove', 'removedirs', 'removexattr', 'rename', 'renames', 'replace', 'rmdir', 'scandir', 'sched_get_priority_max', 'sched_get_priority_min', 'sched_getaffinity', 'sched_getparam', 'sched_getscheduler', 'sched_param', 'sched_rr_get_interval', 'sched_setaffinity', 'sched_setparam', 'sched_setscheduler', 'sched_yield', 'sendfile', 'sep', 'set_blocking', 'set_inheritable', 'setegid', 'seteuid', 'setgid', 'setgroups', 'setpgid', 'setpgrp', 'setpriority', 'setregid', 'setresgid', 'setresuid', 'setreuid', 'setsid', 'setuid', 'setxattr', 'spawnl', 'spawnle', 'spawnlp', 'spawnlpe', 'spawnv', 'spawnve', 'spawnvp', 'spawnvpe', 'st', 'stat', 'stat_float_times', 'stat_result', 'statvfs', 'statvfs_result', 'strerror', 'supports_bytes_environ', 'supports_dir_fd', 'supports_effective_ids', 'supports_fd', 'supports_follow_symlinks', 'symlink', 'sync', 'sys', 'sysconf', 'sysconf_names', 'system', 'tcgetpgrp', 'tcsetpgrp', 'terminal_size', 'times', 'times_result', 'truncate', 'ttyname', 'umask', 'uname', 'uname_result', 'unlink', 'unsetenv', 'urandom', 'utime', 'wait', 'wait3', 'wait4', 'waitid', 'waitid_result', 'waitpid', 'walk', 'write', 'writev']\n"
          ],
          "name": "stdout"
        }
      ]
    },
    {
      "cell_type": "code",
      "metadata": {
        "id": "BN3dhpG0L3r5",
        "colab_type": "code",
        "colab": {
          "base_uri": "https://localhost:8080/",
          "height": 34
        },
        "outputId": "aaf443d5-99c7-4826-9191-3f9ef58f27cf"
      },
      "source": [
        "print(os)"
      ],
      "execution_count": null,
      "outputs": [
        {
          "output_type": "stream",
          "text": [
            "<module 'os' from '/usr/lib/python3.6/os.py'>\n"
          ],
          "name": "stdout"
        }
      ]
    },
    {
      "cell_type": "code",
      "metadata": {
        "id": "cK54L4OXL-GC",
        "colab_type": "code",
        "colab": {}
      },
      "source": [
        ""
      ],
      "execution_count": null,
      "outputs": []
    },
    {
      "cell_type": "code",
      "metadata": {
        "id": "yXqNO8mbNGS3",
        "colab_type": "code",
        "colab": {
          "base_uri": "https://localhost:8080/",
          "height": 35
        },
        "outputId": "8bc2e627-d287-4a0a-896c-9ce371057603"
      },
      "source": [
        "os.getcwd()      # Return the current working directory"
      ],
      "execution_count": null,
      "outputs": [
        {
          "output_type": "execute_result",
          "data": {
            "application/vnd.google.colaboratory.intrinsic": {
              "type": "string"
            },
            "text/plain": [
              "'/content'"
            ]
          },
          "metadata": {
            "tags": []
          },
          "execution_count": 10
        }
      ]
    },
    {
      "cell_type": "code",
      "metadata": {
        "id": "eoF5WoKFNUlt",
        "colab_type": "code",
        "colab": {}
      },
      "source": [
        "os.chdir('/mkdir today')   # Change current working directory\n"
      ],
      "execution_count": null,
      "outputs": []
    },
    {
      "cell_type": "code",
      "metadata": {
        "id": "2E8U8jpKOcdt",
        "colab_type": "code",
        "colab": {
          "base_uri": "https://localhost:8080/",
          "height": 34
        },
        "outputId": "430facdb-9bbd-451a-b156-218db563fb28"
      },
      "source": [
        "os.system('mkdir today')   # Run the command mkdir in the system shell\n"
      ],
      "execution_count": null,
      "outputs": [
        {
          "output_type": "execute_result",
          "data": {
            "text/plain": [
              "0"
            ]
          },
          "metadata": {
            "tags": []
          },
          "execution_count": 12
        }
      ]
    },
    {
      "cell_type": "markdown",
      "metadata": {
        "id": "eEjdLYtOPHJY",
        "colab_type": "text"
      },
      "source": [
        "### **10.2. File Wildcards**"
      ]
    },
    {
      "cell_type": "code",
      "metadata": {
        "id": "o_41ctm8Otn6",
        "colab_type": "code",
        "colab": {
          "base_uri": "https://localhost:8080/",
          "height": 34
        },
        "outputId": "b7550c98-558d-4603-f0f9-7b1fbd9de9ca"
      },
      "source": [
        "import glob\n",
        "\n",
        "glob"
      ],
      "execution_count": null,
      "outputs": [
        {
          "output_type": "execute_result",
          "data": {
            "text/plain": [
              "<module 'glob' from '/usr/lib/python3.6/glob.py'>"
            ]
          },
          "metadata": {
            "tags": []
          },
          "execution_count": 14
        }
      ]
    },
    {
      "cell_type": "code",
      "metadata": {
        "id": "gBzK071UPSz3",
        "colab_type": "code",
        "colab": {
          "base_uri": "https://localhost:8080/",
          "height": 34
        },
        "outputId": "2d019774-eca2-4698-d9d5-3fd84df53679"
      },
      "source": [
        "glob.glob('*.py')"
      ],
      "execution_count": null,
      "outputs": [
        {
          "output_type": "execute_result",
          "data": {
            "text/plain": [
              "[]"
            ]
          },
          "metadata": {
            "tags": []
          },
          "execution_count": 15
        }
      ]
    },
    {
      "cell_type": "code",
      "metadata": {
        "id": "z42e9u4TPeO9",
        "colab_type": "code",
        "colab": {
          "base_uri": "https://localhost:8080/",
          "height": 34
        },
        "outputId": "c450e2bc-2619-4248-c6db-e026598c8ae7"
      },
      "source": [
        "glob.glob('*.ipynb')"
      ],
      "execution_count": null,
      "outputs": [
        {
          "output_type": "execute_result",
          "data": {
            "text/plain": [
              "[]"
            ]
          },
          "metadata": {
            "tags": []
          },
          "execution_count": 16
        }
      ]
    },
    {
      "cell_type": "markdown",
      "metadata": {
        "id": "C8awW5bdPob7",
        "colab_type": "text"
      },
      "source": [
        "### **10.3. Command Line Arguments**"
      ]
    },
    {
      "cell_type": "code",
      "metadata": {
        "id": "QS_92c_1Pkyr",
        "colab_type": "code",
        "colab": {
          "base_uri": "https://localhost:8080/",
          "height": 54
        },
        "outputId": "37dd2b5f-6aba-4d32-eee2-67143518cba6"
      },
      "source": [
        "import sys\n",
        "\n",
        "print(sys.argv) # in script we can see ['demo.py', 'one', 'two', 'three']"
      ],
      "execution_count": null,
      "outputs": [
        {
          "output_type": "stream",
          "text": [
            "['/usr/local/lib/python3.6/dist-packages/ipykernel_launcher.py', '-f', '/root/.local/share/jupyter/runtime/kernel-38ee69ea-8765-4135-96c2-d25e2678d188.json']\n"
          ],
          "name": "stdout"
        }
      ]
    },
    {
      "cell_type": "markdown",
      "metadata": {
        "id": "zYMmaDM_QByn",
        "colab_type": "text"
      },
      "source": [
        "The argparse module provides a more sophisticated mechanism to process command line arguments. The following script extracts one or more filenames and an optional number of lines to be displayed:"
      ]
    },
    {
      "cell_type": "code",
      "metadata": {
        "id": "v2FIT_asP1_U",
        "colab_type": "code",
        "colab": {}
      },
      "source": [
        "import argparse\n",
        "\n",
        "\n",
        "\n",
        "print(argparse.__doc__)"
      ],
      "execution_count": null,
      "outputs": []
    },
    {
      "cell_type": "code",
      "metadata": {
        "id": "FQI_myDhQYWC",
        "colab_type": "code",
        "colab": {}
      },
      "source": [
        "parser = argparse.ArgumentParser(prog = 'top',\n",
        "    description = 'Show top lines from each file')\n",
        "parser.add_argument('filenames', nargs='+')\n",
        "parser.add_argument('-l', '--lines', type=int, default=10)\n",
        "args = parser.parse_args()\n",
        "print(args) "
      ],
      "execution_count": null,
      "outputs": []
    },
    {
      "cell_type": "markdown",
      "metadata": {
        "id": "-q6XsScaWzuY",
        "colab_type": "text"
      },
      "source": [
        "### **10.4. Error Output Redirection and Program Termination**"
      ]
    },
    {
      "cell_type": "markdown",
      "metadata": {
        "id": "VdWEN-DjXD2X",
        "colab_type": "text"
      },
      "source": [
        "The sys module also has attributes for stdin, stdout, and stderr. The latter is useful for emitting warnings and error messages to make them visible even when stdout has been redirected:"
      ]
    },
    {
      "cell_type": "code",
      "metadata": {
        "id": "ZWLkuJ7nWK3A",
        "colab_type": "code",
        "colab": {
          "base_uri": "https://localhost:8080/",
          "height": 34
        },
        "outputId": "f9c71783-4b8b-495b-f0f7-1df32e0e49a1"
      },
      "source": [
        "import sys\n",
        "\n",
        "sys.stderr.write('Warning, log file not found starting a new one\\n')\n"
      ],
      "execution_count": null,
      "outputs": [
        {
          "output_type": "stream",
          "text": [
            "Warning, log file not found starting a new one\n"
          ],
          "name": "stderr"
        }
      ]
    },
    {
      "cell_type": "markdown",
      "metadata": {
        "id": "ySqvJ4dEX7Az",
        "colab_type": "text"
      },
      "source": [
        "### **10.5. String Pattern Matching**"
      ]
    },
    {
      "cell_type": "code",
      "metadata": {
        "id": "ZKnJYzNrW-Jn",
        "colab_type": "code",
        "colab": {}
      },
      "source": [
        ""
      ],
      "execution_count": null,
      "outputs": []
    },
    {
      "cell_type": "markdown",
      "metadata": {
        "id": "1MGp9oXqYBbS",
        "colab_type": "text"
      },
      "source": [
        "### **10.6. Mathematics**"
      ]
    },
    {
      "cell_type": "code",
      "metadata": {
        "id": "rWMCKXhkYF4c",
        "colab_type": "code",
        "colab": {
          "base_uri": "https://localhost:8080/",
          "height": 51
        },
        "outputId": "178ab0ac-ce8b-4f29-d4a2-7ee120d55209"
      },
      "source": [
        "import math\n",
        "\n",
        "\n",
        "print(math.pi)\n",
        "print(math.cos(math.pi/4))"
      ],
      "execution_count": null,
      "outputs": [
        {
          "output_type": "stream",
          "text": [
            "3.141592653589793\n",
            "0.7071067811865476\n"
          ],
          "name": "stdout"
        }
      ]
    },
    {
      "cell_type": "code",
      "metadata": {
        "id": "e0Rb4niIYUFb",
        "colab_type": "code",
        "colab": {
          "base_uri": "https://localhost:8080/",
          "height": 51
        },
        "outputId": "aaadd34a-3eff-4085-8929-ac9b32cf8241"
      },
      "source": [
        "import random\n",
        "\n",
        "print(random.choice([1,2,3,4,5]))\n",
        "print(random.sample(range(100),10))"
      ],
      "execution_count": null,
      "outputs": [
        {
          "output_type": "stream",
          "text": [
            "5\n",
            "[24, 14, 47, 57, 22, 38, 73, 11, 37, 2]\n"
          ],
          "name": "stdout"
        }
      ]
    },
    {
      "cell_type": "code",
      "metadata": {
        "id": "MRLjGn7EYmGB",
        "colab_type": "code",
        "colab": {
          "base_uri": "https://localhost:8080/",
          "height": 34
        },
        "outputId": "b3e8e29c-a95b-4335-ba11-8169d767fb89"
      },
      "source": [
        "import statistics\n",
        "\n",
        "data=[1,2,3,4,5,6]\n",
        "\n",
        "print(statistics.mean(data))"
      ],
      "execution_count": null,
      "outputs": [
        {
          "output_type": "stream",
          "text": [
            "3.5\n"
          ],
          "name": "stdout"
        }
      ]
    },
    {
      "cell_type": "code",
      "metadata": {
        "id": "KyVf3PaTZH3R",
        "colab_type": "code",
        "colab": {
          "base_uri": "https://localhost:8080/",
          "height": 34
        },
        "outputId": "6716ae01-cd21-4aa5-e8b9-54ae979c746e"
      },
      "source": [
        "print(statistics.median(data))"
      ],
      "execution_count": null,
      "outputs": [
        {
          "output_type": "stream",
          "text": [
            "3.5\n"
          ],
          "name": "stdout"
        }
      ]
    },
    {
      "cell_type": "code",
      "metadata": {
        "id": "ye4QSoyMZP-k",
        "colab_type": "code",
        "colab": {
          "base_uri": "https://localhost:8080/",
          "height": 34
        },
        "outputId": "727d3a6a-c017-4c35-9cb7-6da8ff9f33fb"
      },
      "source": [
        "print(statistics.variance(data))"
      ],
      "execution_count": null,
      "outputs": [
        {
          "output_type": "stream",
          "text": [
            "3.5\n"
          ],
          "name": "stdout"
        }
      ]
    },
    {
      "cell_type": "markdown",
      "metadata": {
        "id": "vLjbSJdYbxZQ",
        "colab_type": "text"
      },
      "source": [
        "### **10.7. Internet Access**"
      ]
    },
    {
      "cell_type": "markdown",
      "metadata": {
        "id": "_M83xgucnjmv",
        "colab_type": "text"
      },
      "source": [
        "There are a number of modules for accessing the internet and processing internet protocols. Two of the simplest are urllib.request for retrieving data from URLs and smtplib for sending mail:"
      ]
    },
    {
      "cell_type": "code",
      "metadata": {
        "id": "qT97voQqZY5K",
        "colab_type": "code",
        "colab": {}
      },
      "source": [
        "from urllib.request import urlopen\n",
        "\n",
        "with urlopen('http://tycho.usno.navy.mil/cgi-bin/timer.pl') as response:\n",
        "    for line in response:\n",
        "        line = line.decode('utf-8')  # Decoding the binary data to text.\n",
        "        if 'EST' in line or 'EDT' in line:  # look for Eastern Time\n",
        "            print(line)"
      ],
      "execution_count": null,
      "outputs": []
    },
    {
      "cell_type": "code",
      "metadata": {
        "id": "Gzc8QuZHcNn_",
        "colab_type": "code",
        "colab": {}
      },
      "source": [
        "import smtplib\n",
        "\n",
        "server = smtplib.SMTP('localhost')\n",
        "server.sendmail('soothsayer@example.org', 'jcaesar@example.org',\n",
        "\"\"\"To: jcaesar@example.org\n",
        "From: soothsayer@example.org\n",
        "\n",
        "Beware the Ides of March.\n",
        "\"\"\")\n",
        "server.quit()"
      ],
      "execution_count": null,
      "outputs": []
    },
    {
      "cell_type": "markdown",
      "metadata": {
        "id": "Nh16DUyCp7gA",
        "colab_type": "text"
      },
      "source": [
        "### **10.8. Dates and Times**"
      ]
    },
    {
      "cell_type": "code",
      "metadata": {
        "id": "qO4oSFg6b4p2",
        "colab_type": "code",
        "colab": {
          "base_uri": "https://localhost:8080/",
          "height": 34
        },
        "outputId": "51440f6e-0589-4b90-d99f-ca2e7a5485d8"
      },
      "source": [
        "from datetime import date\n",
        "\n",
        "now=date.today()\n",
        "now"
      ],
      "execution_count": null,
      "outputs": [
        {
          "output_type": "execute_result",
          "data": {
            "text/plain": [
              "datetime.date(2020, 7, 5)"
            ]
          },
          "metadata": {
            "tags": []
          },
          "execution_count": 17
        }
      ]
    },
    {
      "cell_type": "code",
      "metadata": {
        "id": "BjMyynbIqTBm",
        "colab_type": "code",
        "colab": {
          "base_uri": "https://localhost:8080/",
          "height": 34
        },
        "outputId": "58ce907b-ff74-406b-88a3-f5767ba9ffdd"
      },
      "source": [
        "# dates support calendar arithmetic\n",
        "\n",
        "birthday=date(1997,1,10)\n",
        "age=now-birthday\n",
        "\n",
        "age"
      ],
      "execution_count": null,
      "outputs": [
        {
          "output_type": "execute_result",
          "data": {
            "text/plain": [
              "datetime.timedelta(8577)"
            ]
          },
          "metadata": {
            "tags": []
          },
          "execution_count": 18
        }
      ]
    },
    {
      "cell_type": "code",
      "metadata": {
        "id": "CvZVUMYPrW8s",
        "colab_type": "code",
        "colab": {
          "base_uri": "https://localhost:8080/",
          "height": 34
        },
        "outputId": "92779a0d-a529-4da4-ff38-4c210ce4265a"
      },
      "source": [
        "age.days"
      ],
      "execution_count": null,
      "outputs": [
        {
          "output_type": "execute_result",
          "data": {
            "text/plain": [
              "8577"
            ]
          },
          "metadata": {
            "tags": []
          },
          "execution_count": 19
        }
      ]
    },
    {
      "cell_type": "markdown",
      "metadata": {
        "id": "EBLr6AtjrkAZ",
        "colab_type": "text"
      },
      "source": [
        "### **10.9. Data Compression**"
      ]
    },
    {
      "cell_type": "code",
      "metadata": {
        "id": "Eh6YzkkbrZTT",
        "colab_type": "code",
        "colab": {
          "base_uri": "https://localhost:8080/",
          "height": 34
        },
        "outputId": "9369d49a-fdcb-4f74-a881-93d258fd099d"
      },
      "source": [
        "import zlib\n",
        "\n",
        "k=b'helo iam madan baduwal'\n",
        "len(k)"
      ],
      "execution_count": null,
      "outputs": [
        {
          "output_type": "execute_result",
          "data": {
            "text/plain": [
              "22"
            ]
          },
          "metadata": {
            "tags": []
          },
          "execution_count": 31
        }
      ]
    },
    {
      "cell_type": "code",
      "metadata": {
        "id": "tvMx4ljdrvi_",
        "colab_type": "code",
        "colab": {}
      },
      "source": [
        "c=zlib.compress(k)"
      ],
      "execution_count": null,
      "outputs": []
    },
    {
      "cell_type": "code",
      "metadata": {
        "id": "oLwalfLmr14f",
        "colab_type": "code",
        "colab": {
          "base_uri": "https://localhost:8080/",
          "height": 34
        },
        "outputId": "f16e6a6d-99c8-41dd-aecc-b581dc495474"
      },
      "source": [
        "len(c)"
      ],
      "execution_count": null,
      "outputs": [
        {
          "output_type": "execute_result",
          "data": {
            "text/plain": [
              "30"
            ]
          },
          "metadata": {
            "tags": []
          },
          "execution_count": 33
        }
      ]
    },
    {
      "cell_type": "code",
      "metadata": {
        "id": "na89r3Str7sM",
        "colab_type": "code",
        "colab": {
          "base_uri": "https://localhost:8080/",
          "height": 34
        },
        "outputId": "d6662551-4312-4480-b7d8-89fdb9e79d49"
      },
      "source": [
        "zlib.decompress(c)"
      ],
      "execution_count": null,
      "outputs": [
        {
          "output_type": "execute_result",
          "data": {
            "text/plain": [
              "b'helo iam madan baduwal'"
            ]
          },
          "metadata": {
            "tags": []
          },
          "execution_count": 34
        }
      ]
    },
    {
      "cell_type": "markdown",
      "metadata": {
        "id": "xlfzp3LOuPFd",
        "colab_type": "text"
      },
      "source": [
        "### **10.10. Performance Measurement**"
      ]
    },
    {
      "cell_type": "code",
      "metadata": {
        "id": "sP3WnTmwtNZg",
        "colab_type": "code",
        "colab": {
          "base_uri": "https://localhost:8080/",
          "height": 34
        },
        "outputId": "3247af9c-6c1f-4327-e22f-d8edcf6bb6e0"
      },
      "source": [
        "from timeit import  Timer\n",
        "\n",
        "Timer('t=a; a=b; b=t', 'a=1; b=2').timeit()"
      ],
      "execution_count": null,
      "outputs": [
        {
          "output_type": "execute_result",
          "data": {
            "text/plain": [
              "0.029536552000536176"
            ]
          },
          "metadata": {
            "tags": []
          },
          "execution_count": 35
        }
      ]
    },
    {
      "cell_type": "markdown",
      "metadata": {
        "id": "q0KEKqGeu1PF",
        "colab_type": "text"
      },
      "source": [
        "### **10.11. Quality Control**"
      ]
    },
    {
      "cell_type": "code",
      "metadata": {
        "id": "H5jdhI9QueXs",
        "colab_type": "code",
        "colab": {
          "base_uri": "https://localhost:8080/",
          "height": 34
        },
        "outputId": "7899caee-ae42-4fda-c5dc-8c1123b8b719"
      },
      "source": [
        "def average(values):\n",
        "    \"\"\"Computes the arithmetic mean of a list of numbers.\n",
        "\n",
        "    >>> print(average([20, 30, 70]))\n",
        "    40.0\n",
        "    \"\"\"\n",
        "    return sum(values) / len(values)\n",
        "\n",
        "import doctest\n",
        "doctest.testmod()   # automatically validate the embedded tests"
      ],
      "execution_count": null,
      "outputs": [
        {
          "output_type": "execute_result",
          "data": {
            "text/plain": [
              "TestResults(failed=0, attempted=1)"
            ]
          },
          "metadata": {
            "tags": []
          },
          "execution_count": 36
        }
      ]
    },
    {
      "cell_type": "markdown",
      "metadata": {
        "id": "TlaYZt_NvCOm",
        "colab_type": "text"
      },
      "source": [
        "### **10.12. Batteries Included**"
      ]
    },
    {
      "cell_type": "markdown",
      "metadata": {
        "id": "xGp_48BnvOZa",
        "colab_type": "text"
      },
      "source": [
        "## [**11. Brief Tour of the Standard Library — Part II**](https://docs.python.org/3/tutorial/stdlib2.html#templating)"
      ]
    },
    {
      "cell_type": "code",
      "metadata": {
        "id": "Qmmc2fiRu-2j",
        "colab_type": "code",
        "colab": {}
      },
      "source": [
        ""
      ],
      "execution_count": null,
      "outputs": []
    }
  ]
}