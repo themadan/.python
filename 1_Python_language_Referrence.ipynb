{
  "nbformat": 4,
  "nbformat_minor": 0,
  "metadata": {
    "colab": {
      "name": "1.Python language Referrence.ipynb",
      "provenance": [],
      "collapsed_sections": [],
      "authorship_tag": "ABX9TyNLWlGhZSwURH70vKZzB6Qn",
      "include_colab_link": true
    },
    "kernelspec": {
      "name": "python3",
      "display_name": "Python 3"
    }
  },
  "cells": [
    {
      "cell_type": "markdown",
      "metadata": {
        "id": "view-in-github",
        "colab_type": "text"
      },
      "source": [
        "<a href=\"https://colab.research.google.com/github/themadan/.python/blob/master/1_Python_language_Referrence.ipynb\" target=\"_parent\"><img src=\"https://colab.research.google.com/assets/colab-badge.svg\" alt=\"Open In Colab\"/></a>"
      ]
    },
    {
      "cell_type": "markdown",
      "metadata": {
        "id": "hj2CmEbvwE00",
        "colab_type": "text"
      },
      "source": [
        "# [Python Language Referrence](https://docs.python.org/3/reference/index.html#reference-index)\n",
        "\n",
        "This reference manual describes the syntax and “core semantics” of the language."
      ]
    },
    {
      "cell_type": "markdown",
      "metadata": {
        "id": "gmdUqXUKBcou",
        "colab_type": "text"
      },
      "source": [
        "## **Introduction**"
      ]
    },
    {
      "cell_type": "markdown",
      "metadata": {
        "id": "03jQF7c_AAh0",
        "colab_type": "text"
      },
      "source": [
        "## **Lexical analysis**"
      ]
    },
    {
      "cell_type": "markdown",
      "metadata": {
        "id": "KV1vr8CrAmcQ",
        "colab_type": "text"
      },
      "source": [
        "### **Line structure**"
      ]
    },
    {
      "cell_type": "markdown",
      "metadata": {
        "id": "A4EOuUq-Sdx4",
        "colab_type": "text"
      },
      "source": [
        "**Logical line**\n",
        "\n",
        "* The end of a logical line is represented by the token NEWLINE.\n",
        "* A logical line is constructed from one or more physical lines by following the explicit or implicit line joining rules.\n",
        "\n",
        "\n",
        "**physical line**\n",
        "\n",
        "* A physical line is a sequence of characters terminated by an end-of-line sequence."
      ]
    },
    {
      "cell_type": "code",
      "metadata": {
        "id": "1HeDN52AAju3",
        "colab_type": "code",
        "colab": {}
      },
      "source": [
        "a=[1,2,3,4,5,6] # One logical line and also one physical line"
      ],
      "execution_count": null,
      "outputs": []
    },
    {
      "cell_type": "code",
      "metadata": {
        "id": "TG7ztaBwEl37",
        "colab_type": "code",
        "colab": {}
      },
      "source": [
        "a=[1,2,3,     # Two physical line and one logical line\n",
        "   4,5,6]"
      ],
      "execution_count": null,
      "outputs": []
    },
    {
      "cell_type": "markdown",
      "metadata": {
        "id": "3hFJdOMiSg1w",
        "colab_type": "text"
      },
      "source": [
        "\n",
        "**Comments** \n",
        "\n",
        "* A comment starts with a hash character (#) that is not part of a string literal, and ends at the end of the physical line."
      ]
    },
    {
      "cell_type": "code",
      "metadata": {
        "id": "7ZsIdl9uFl94",
        "colab_type": "code",
        "colab": {}
      },
      "source": [
        "# comments"
      ],
      "execution_count": null,
      "outputs": []
    },
    {
      "cell_type": "markdown",
      "metadata": {
        "id": "yLpUpTvuSjsT",
        "colab_type": "text"
      },
      "source": [
        "**Encoding declarations**\n",
        "\n",
        "* If a comment in the first or second line of the Python script matches the regular expression coding[=:]\\s*([-\\w.]+), this comment is processed as an encoding declaration"
      ]
    },
    {
      "cell_type": "code",
      "metadata": {
        "id": "CNN7NUFnM2wy",
        "colab_type": "code",
        "colab": {}
      },
      "source": [
        "# -*- coding: <encoding-name> -*- # example:  # -*- coding: UTF-8 -*-\n"
      ],
      "execution_count": null,
      "outputs": []
    },
    {
      "cell_type": "markdown",
      "metadata": {
        "id": "-3RxauPwSn7W",
        "colab_type": "text"
      },
      "source": [
        "**Explicit line joining**\n",
        "* Two or more physical lines may be joined into logical lines using backslash characters (\\\\), as follows:\n",
        "\n",
        "**Implicit line joining**\n",
        "\n",
        "* Expressions in parentheses, square brackets or curly braces can be split over more than one physical line without using backslashes. For example"
      ]
    },
    {
      "cell_type": "code",
      "metadata": {
        "id": "UB93HXT-EzKV",
        "colab_type": "code",
        "colab": {
          "base_uri": "https://localhost:8080/",
          "height": 34
        },
        "outputId": "0568210b-ba9f-4a30-a98e-02088026f88f"
      },
      "source": [
        "#Explicit line joining\n",
        "if 1<2<3 and 3<4<5 \\      # two physical line and one logical line\n",
        "   and 6<7<8:\n",
        "   print('helo iam madan')"
      ],
      "execution_count": null,
      "outputs": [
        {
          "output_type": "stream",
          "text": [
            "helo iam madan\n"
          ],
          "name": "stdout"
        }
      ]
    },
    {
      "cell_type": "code",
      "metadata": {
        "id": "A6qnK7-vQdUW",
        "colab_type": "code",
        "colab": {}
      },
      "source": [
        "# Implicit line joining\n",
        "\n",
        "month_names = ['Januari', 'Februari', 'Maart',      # These are the\n",
        "               'April',   'Mei',      'Juni',       # Dutch names\n",
        "               'Juli',    'Augustus', 'September',  # for the months\n",
        "               'Oktober', 'November', 'December']   # of the year"
      ],
      "execution_count": null,
      "outputs": []
    },
    {
      "cell_type": "markdown",
      "metadata": {
        "id": "_0AACGoHSr0D",
        "colab_type": "text"
      },
      "source": [
        "**Blank lines**\n",
        "\n",
        "* A logical line that contains only spaces, tabs, formfeeds and possibly a comment, is ignored (i.e., no NEWLINE token is generated)."
      ]
    },
    {
      "cell_type": "code",
      "metadata": {
        "id": "-gM2IoGmQn9W",
        "colab_type": "code",
        "colab": {
          "base_uri": "https://localhost:8080/",
          "height": 323
        },
        "outputId": "0b59645f-b6fd-4c60-dda2-39bcd519c12e"
      },
      "source": [
        "# Blank lines\n",
        "print()\n",
        "print\n",
        "print(\"\\n\\n\\n\\n\\n\")\n",
        "print('\\n' * 10)"
      ],
      "execution_count": null,
      "outputs": [
        {
          "output_type": "stream",
          "text": [
            "\n",
            "\n",
            "\n",
            "\n",
            "\n",
            "\n",
            "\n",
            "\n",
            "\n",
            "\n",
            "\n",
            "\n",
            "\n",
            "\n",
            "\n",
            "\n",
            "\n",
            "\n"
          ],
          "name": "stdout"
        }
      ]
    },
    {
      "cell_type": "markdown",
      "metadata": {
        "id": "3l1lDJlxS5As",
        "colab_type": "text"
      },
      "source": [
        "**Indentation**\n",
        "\n",
        "* Leading whitespace (spaces and tabs) at the beginning of a logical line is used to compute the indentation level of the line, which in turn is used to determine the grouping of statements.\n",
        "\n",
        "Tabs are replaced (from left to right) by one to eight spaces"
      ]
    },
    {
      "cell_type": "code",
      "metadata": {
        "id": "axqi5S2UR0SY",
        "colab_type": "code",
        "colab": {}
      },
      "source": [
        "def perm(l):\n",
        "  # Compute the list of all permutations of l\n",
        "  if len(l) <= 1:\n",
        "    return [l]\n",
        "  r = []\n",
        "  for i in range(len(l)):\n",
        "    s = l[:i] + l[i+1:]\n",
        "    p = perm(s)\n",
        "    for x in p:\n",
        "      r.append(l[i:i+1] + x)\n",
        "  return r"
      ],
      "execution_count": null,
      "outputs": []
    },
    {
      "cell_type": "code",
      "metadata": {
        "id": "JQ0pCXk2UItJ",
        "colab_type": "code",
        "colab": {}
      },
      "source": [
        ""
      ],
      "execution_count": null,
      "outputs": []
    },
    {
      "cell_type": "markdown",
      "metadata": {
        "id": "l2ntnpIEYrQC",
        "colab_type": "text"
      },
      "source": [
        "### **Other token**"
      ]
    },
    {
      "cell_type": "markdown",
      "metadata": {
        "id": "fgSWBfEYUen5",
        "colab_type": "text"
      },
      "source": [
        "\n",
        "\n",
        "\n",
        "Besides NEWLINE, INDENT and DEDENT, the following categories of tokens exist: identifiers, keywords, literals, operators, and delimiters."
      ]
    },
    {
      "cell_type": "markdown",
      "metadata": {
        "id": "H30b0vqtYbpH",
        "colab_type": "text"
      },
      "source": [
        "### **Identifier and keywords**"
      ]
    },
    {
      "cell_type": "markdown",
      "metadata": {
        "id": "kUrWDdnfWm7n",
        "colab_type": "text"
      },
      "source": [
        "**Identifiers** \n",
        "* Identifiers are unlimited in length. Case is significant."
      ]
    },
    {
      "cell_type": "code",
      "metadata": {
        "id": "KHZQxScabiA2",
        "colab_type": "code",
        "colab": {}
      },
      "source": [
        ""
      ],
      "execution_count": null,
      "outputs": []
    },
    {
      "cell_type": "markdown",
      "metadata": {
        "id": "NAgwlh_RXhPd",
        "colab_type": "text"
      },
      "source": [
        "**Keywords**\n",
        "* The following identifiers are used as reserved words, or keywords of the language, and cannot be used as ordinary identifiers. \n",
        "\n",
        "False,      await,      else,       import,     pass,\n",
        "None,       break,      except,     in,         raise,\n",
        "True,       class,      finally,    is,         return,\n",
        "and,        continue,   for,        lambda,     try,\n",
        "as,         def,        from,       nonlocal,   while,\n",
        "assert,     del,        global,     not,        with,\n",
        "async,      elif,       if,         or,         yield,"
      ]
    },
    {
      "cell_type": "code",
      "metadata": {
        "id": "IVrdN0_Ydm7O",
        "colab_type": "code",
        "colab": {
          "base_uri": "https://localhost:8080/",
          "height": 634
        },
        "outputId": "bc46b0a3-e7a8-482d-b3f5-573ead061cff"
      },
      "source": [
        "help() # keywords"
      ],
      "execution_count": null,
      "outputs": [
        {
          "output_type": "stream",
          "text": [
            "\n",
            "Welcome to Python 3.6's help utility!\n",
            "\n",
            "If this is your first time using Python, you should definitely check out\n",
            "the tutorial on the Internet at https://docs.python.org/3.6/tutorial/.\n",
            "\n",
            "Enter the name of any module, keyword, or topic to get help on writing\n",
            "Python programs and using Python modules.  To quit this help utility and\n",
            "return to the interpreter, just type \"quit\".\n",
            "\n",
            "To get a list of available modules, keywords, symbols, or topics, type\n",
            "\"modules\", \"keywords\", \"symbols\", or \"topics\".  Each module also comes\n",
            "with a one-line summary of what it does; to list the modules whose name\n",
            "or summary contain a given string such as \"spam\", type \"modules spam\".\n",
            "\n",
            "help> keywords\n",
            "\n",
            "Here is a list of the Python keywords.  Enter any keyword to get more help.\n",
            "\n",
            "False               def                 if                  raise\n",
            "None                del                 import              return\n",
            "True                elif                in                  try\n",
            "and                 else                is                  while\n",
            "as                  except              lambda              with\n",
            "assert              finally             nonlocal            yield\n",
            "break               for                 not                 \n",
            "class               from                or                  \n",
            "continue            global              pass                \n",
            "\n",
            "\n",
            "You are now leaving help and returning to the Python interpreter.\n",
            "If you want to ask for help on a particular object directly from the\n",
            "interpreter, you can type \"help(object)\".  Executing \"help('string')\"\n",
            "has the same effect as typing a particular string at the help> prompt.\n"
          ],
          "name": "stdout"
        }
      ]
    },
    {
      "cell_type": "markdown",
      "metadata": {
        "id": "DZxRGCLUYxr_",
        "colab_type": "text"
      },
      "source": [
        "**Reserved classes of identifiers**\n",
        "\n"
      ]
    },
    {
      "cell_type": "markdown",
      "metadata": {
        "id": "qby810tYYj0C",
        "colab_type": "text"
      },
      "source": [
        "### **Literals**"
      ]
    },
    {
      "cell_type": "code",
      "metadata": {
        "id": "Gp6NiU-mYnk1",
        "colab_type": "code",
        "colab": {}
      },
      "source": [
        "string='madan'\n",
        "numerical=500\n",
        "flot=4.6\n",
        "imaginary=1+2i # 1+2j\n"
      ],
      "execution_count": null,
      "outputs": []
    },
    {
      "cell_type": "markdown",
      "metadata": {
        "id": "cLJ7e8Npclt4",
        "colab_type": "text"
      },
      "source": [
        "### **Operators**"
      ]
    },
    {
      "cell_type": "code",
      "metadata": {
        "id": "kGFWP9g3cyhO",
        "colab_type": "code",
        "colab": {
          "base_uri": "https://localhost:8080/",
          "height": 1000
        },
        "outputId": "540226e7-e7cf-46fb-917e-04ceba304676"
      },
      "source": [
        "import numpy\n",
        "\n",
        "print(numpy.__doc__)"
      ],
      "execution_count": null,
      "outputs": [
        {
          "output_type": "stream",
          "text": [
            "\n",
            "NumPy\n",
            "=====\n",
            "\n",
            "Provides\n",
            "  1. An array object of arbitrary homogeneous items\n",
            "  2. Fast mathematical operations over arrays\n",
            "  3. Linear Algebra, Fourier Transforms, Random Number Generation\n",
            "\n",
            "How to use the documentation\n",
            "----------------------------\n",
            "Documentation is available in two forms: docstrings provided\n",
            "with the code, and a loose standing reference guide, available from\n",
            "`the NumPy homepage <https://www.scipy.org>`_.\n",
            "\n",
            "We recommend exploring the docstrings using\n",
            "`IPython <https://ipython.org>`_, an advanced Python shell with\n",
            "TAB-completion and introspection capabilities.  See below for further\n",
            "instructions.\n",
            "\n",
            "The docstring examples assume that `numpy` has been imported as `np`::\n",
            "\n",
            "  >>> import numpy as np\n",
            "\n",
            "Code snippets are indicated by three greater-than signs::\n",
            "\n",
            "  >>> x = 42\n",
            "  >>> x = x + 1\n",
            "\n",
            "Use the built-in ``help`` function to view a function's docstring::\n",
            "\n",
            "  >>> help(np.sort)\n",
            "  ... # doctest: +SKIP\n",
            "\n",
            "For some objects, ``np.info(obj)`` may provide additional help.  This is\n",
            "particularly true if you see the line \"Help on ufunc object:\" at the top\n",
            "of the help() page.  Ufuncs are implemented in C, not Python, for speed.\n",
            "The native Python help() does not know how to view their help, but our\n",
            "np.info() function does.\n",
            "\n",
            "To search for documents containing a keyword, do::\n",
            "\n",
            "  >>> np.lookfor('keyword')\n",
            "  ... # doctest: +SKIP\n",
            "\n",
            "General-purpose documents like a glossary and help on the basic concepts\n",
            "of numpy are available under the ``doc`` sub-module::\n",
            "\n",
            "  >>> from numpy import doc\n",
            "  >>> help(doc)\n",
            "  ... # doctest: +SKIP\n",
            "\n",
            "Available subpackages\n",
            "---------------------\n",
            "doc\n",
            "    Topical documentation on broadcasting, indexing, etc.\n",
            "lib\n",
            "    Basic functions used by several sub-packages.\n",
            "random\n",
            "    Core Random Tools\n",
            "linalg\n",
            "    Core Linear Algebra Tools\n",
            "fft\n",
            "    Core FFT routines\n",
            "polynomial\n",
            "    Polynomial tools\n",
            "testing\n",
            "    NumPy testing tools\n",
            "f2py\n",
            "    Fortran to Python Interface Generator.\n",
            "distutils\n",
            "    Enhancements to distutils with support for\n",
            "    Fortran compilers support and more.\n",
            "\n",
            "Utilities\n",
            "---------\n",
            "test\n",
            "    Run numpy unittests\n",
            "show_config\n",
            "    Show numpy build configuration\n",
            "dual\n",
            "    Overwrite certain functions with high-performance Scipy tools\n",
            "matlib\n",
            "    Make everything matrices.\n",
            "__version__\n",
            "    NumPy version string\n",
            "\n",
            "Viewing documentation using IPython\n",
            "-----------------------------------\n",
            "Start IPython with the NumPy profile (``ipython -p numpy``), which will\n",
            "import `numpy` under the alias `np`.  Then, use the ``cpaste`` command to\n",
            "paste examples into the shell.  To see which functions are available in\n",
            "`numpy`, type ``np.<TAB>`` (where ``<TAB>`` refers to the TAB key), or use\n",
            "``np.*cos*?<ENTER>`` (where ``<ENTER>`` refers to the ENTER key) to narrow\n",
            "down the list.  To view the docstring for a function, use\n",
            "``np.cos?<ENTER>`` (to view the docstring) and ``np.cos??<ENTER>`` (to view\n",
            "the source code).\n",
            "\n",
            "Copies vs. in-place operation\n",
            "-----------------------------\n",
            "Most of the functions in `numpy` return a copy of the array argument\n",
            "(e.g., `np.sort`).  In-place versions of these functions are often\n",
            "available as array methods, i.e. ``x = np.array([1,2,3]); x.sort()``.\n",
            "Exceptions to this rule are documented.\n",
            "\n",
            "\n"
          ],
          "name": "stdout"
        }
      ]
    },
    {
      "cell_type": "code",
      "metadata": {
        "id": "4hZi9O89g3vs",
        "colab_type": "code",
        "colab": {}
      },
      "source": [
        ""
      ],
      "execution_count": null,
      "outputs": []
    }
  ]
}